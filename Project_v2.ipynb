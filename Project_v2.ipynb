{
  "nbformat": 4,
  "nbformat_minor": 0,
  "metadata": {
    "colab": {
      "name": "Project_v2.ipynb",
      "provenance": [],
      "collapsed_sections": [],
      "toc_visible": true,
      "include_colab_link": true
    },
    "kernelspec": {
      "display_name": "Python 3",
      "language": "python",
      "name": "python3"
    },
    "language_info": {
      "codemirror_mode": {
        "name": "ipython",
        "version": 3
      },
      "file_extension": ".py",
      "mimetype": "text/x-python",
      "name": "python",
      "nbconvert_exporter": "python",
      "pygments_lexer": "ipython3",
      "version": "3.6.9"
    }
  },
  "cells": [
    {
      "cell_type": "markdown",
      "metadata": {
        "id": "view-in-github",
        "colab_type": "text"
      },
      "source": [
        "<a href=\"https://colab.research.google.com/github/ritikraj660/Speaker-recognition/blob/master/Project_v2.ipynb\" target=\"_parent\"><img src=\"https://colab.research.google.com/assets/colab-badge.svg\" alt=\"Open In Colab\"/></a>"
      ]
    },
    {
      "cell_type": "code",
      "metadata": {
        "colab_type": "code",
        "id": "UGWHZZoe1FTP",
        "outputId": "259593a5-821d-4d7e-fef7-95fe4ffb2f53",
        "colab": {
          "base_uri": "https://localhost:8080/",
          "height": 267
        }
      },
      "source": [
        "!pip install spafe\n",
        "!pip install soundfile"
      ],
      "execution_count": 0,
      "outputs": [
        {
          "output_type": "stream",
          "text": [
            "Collecting spafe\n",
            "\u001b[?25l  Downloading https://files.pythonhosted.org/packages/5d/72/9a25cb3f117e1751c66e1f3368d9a787f7ad2c226078b884b6d218a4c5eb/spafe-0.1.1-py3-none-any.whl (78kB)\n",
            "\r\u001b[K     |████▏                           | 10kB 13.8MB/s eta 0:00:01\r\u001b[K     |████████▎                       | 20kB 2.3MB/s eta 0:00:01\r\u001b[K     |████████████▌                   | 30kB 3.3MB/s eta 0:00:01\r\u001b[K     |████████████████▋               | 40kB 2.1MB/s eta 0:00:01\r\u001b[K     |████████████████████▉           | 51kB 2.6MB/s eta 0:00:01\r\u001b[K     |█████████████████████████       | 61kB 3.1MB/s eta 0:00:01\r\u001b[K     |█████████████████████████████▏  | 71kB 3.6MB/s eta 0:00:01\r\u001b[K     |████████████████████████████████| 81kB 2.1MB/s \n",
            "\u001b[?25hRequirement already satisfied: numpy>=1.17.2 in /usr/local/lib/python3.6/dist-packages (from spafe) (1.17.4)\n",
            "Requirement already satisfied: scipy>=1.3.1 in /usr/local/lib/python3.6/dist-packages (from spafe) (1.3.2)\n",
            "Installing collected packages: spafe\n",
            "Successfully installed spafe-0.1.1\n",
            "Collecting soundfile\n",
            "  Downloading https://files.pythonhosted.org/packages/68/64/1191352221e2ec90db7492b4bf0c04fd9d2508de67b3f39cbf093cd6bd86/SoundFile-0.10.2-py2.py3-none-any.whl\n",
            "Requirement already satisfied: cffi>=1.0 in /usr/local/lib/python3.6/dist-packages (from soundfile) (1.13.2)\n",
            "Requirement already satisfied: pycparser in /usr/local/lib/python3.6/dist-packages (from cffi>=1.0->soundfile) (2.19)\n",
            "Installing collected packages: soundfile\n",
            "Successfully installed soundfile-0.10.2\n"
          ],
          "name": "stdout"
        }
      ]
    },
    {
      "cell_type": "code",
      "metadata": {
        "colab_type": "code",
        "id": "kI4hVLTKghsX",
        "colab": {}
      },
      "source": [
        "import librosa\n",
        "import soundfile\n",
        "import tqdm\n",
        "from scipy.io import wavfile\n",
        "import glob\n",
        "import os,pickle\n",
        "import numpy as np\n",
        "from spafe.features.mfcc import mfcc, imfcc\n",
        "import csv\n",
        "import pandas as pd\n",
        "from tqdm import tqdm"
      ],
      "execution_count": 0,
      "outputs": []
    },
    {
      "cell_type": "markdown",
      "metadata": {
        "id": "bQIjdZazYILg",
        "colab_type": "text"
      },
      "source": [
        "# Preprocessing"
      ]
    },
    {
      "cell_type": "code",
      "metadata": {
        "id": "lb3XC2FNYRmS",
        "colab_type": "code",
        "colab": {}
      },
      "source": [
        ""
      ],
      "execution_count": 0,
      "outputs": []
    },
    {
      "cell_type": "code",
      "metadata": {
        "id": "QrN1OclSYSKv",
        "colab_type": "code",
        "colab": {}
      },
      "source": [
        ""
      ],
      "execution_count": 0,
      "outputs": []
    },
    {
      "cell_type": "code",
      "metadata": {
        "id": "APhIf_MJYSUU",
        "colab_type": "code",
        "colab": {}
      },
      "source": [
        ""
      ],
      "execution_count": 0,
      "outputs": []
    },
    {
      "cell_type": "code",
      "metadata": {
        "colab_type": "code",
        "id": "t-5KcU9bghsi",
        "outputId": "d71159ec-94a5-450f-fff0-63e7457b16ce",
        "colab": {}
      },
      "source": [
        "\"\"\"import scipy.io.wavfile\n",
        "import spafe.utils.vis as vis\n",
        "\n",
        "\n",
        "x=np.array(x)\n",
        "y=np.array(y)\n",
        "result = np.column_stack((x,y))\n",
        "import csv\n",
        "with open('people.csv', 'a') as peopleFile:\n",
        "    writer = csv.writer(peopleFile)\n",
        "    writer.writerows(result)\n",
        "csvFile.close()\"\"\""
      ],
      "execution_count": 0,
      "outputs": [
        {
          "output_type": "execute_result",
          "data": {
            "text/plain": [
              "\"import scipy.io.wavfile\\nimport spafe.utils.vis as vis\\n\\n\\nx=np.array(x)\\ny=np.array(y)\\nresult = np.column_stack((x,y))\\nimport csv\\nwith open('people.csv', 'a') as peopleFile:\\n    writer = csv.writer(peopleFile)\\n    writer.writerows(result)\\ncsvFile.close()\""
            ]
          },
          "metadata": {
            "tags": []
          },
          "execution_count": 3
        }
      ]
    },
    {
      "cell_type": "markdown",
      "metadata": {
        "colab_type": "text",
        "id": "xINq13ARghsp"
      },
      "source": [
        "# Feature Extraction :"
      ]
    },
    {
      "cell_type": "code",
      "metadata": {
        "colab_type": "code",
        "id": "Z_3iC81Kghsr",
        "colab": {}
      },
      "source": [
        "#f = pd.DataFrame()\n",
        "def tocsv(x,y):#take numpy 2d array and append it with \n",
        "    #df2=pd.DataFrame(x)\n",
        "    #f = pd.concat([f, df2])\n",
        "    k=[]\n",
        "    m=len(x)\n",
        "    #print(m)\n",
        "    for i in range(m):\n",
        "        k.append(y)\n",
        "    y=np.array(k).T    \n",
        "    result = np.column_stack((x,y))    \n",
        "    import csv\n",
        "    with open('people.csv', 'a') as peopleFile:\n",
        "        writer = csv.writer(peopleFile)\n",
        "        writer.writerows(result)\n",
        "    peopleFile.close()\n",
        "#f.to_csv('mfcc.csv')    "
      ],
      "execution_count": 0,
      "outputs": []
    },
    {
      "cell_type": "code",
      "metadata": {
        "colab_type": "code",
        "id": "4ZNetNZ-ghsv",
        "colab": {}
      },
      "source": [
        "def mfcc_(sig,fs):\n",
        "    mfccs  = mfcc(sig, fs=fs, num_ceps=20, pre_emph=0, pre_emph_coeff=0.95, \n",
        "              win_len=0.025, win_hop=0.01, win_type='hamming', nfilts=26, \n",
        "              nfft=512, low_freq=None, high_freq=None, scale='constant', \n",
        "              dct_type=2, use_energy=False, lifter=22, normalize=1)\n",
        "    return mfccs"
      ],
      "execution_count": 0,
      "outputs": []
    },
    {
      "cell_type": "code",
      "metadata": {
        "colab_type": "code",
        "id": "BhhQ3CX2ghsy",
        "colab": {}
      },
      "source": [
        "def s2c():\n",
        "    x,y=[],[]\n",
        "    count =0\n",
        "    for file in tqdm(glob.iglob('G:\\LibriSpeech\\dev-clean\\\\**/*.flac', recursive=True)):\n",
        "        file_name=os.path.basename(file)\n",
        "        user = file_name.split(\"-\")[0]\n",
        "        #print(f)\n",
        "        with soundfile.SoundFile(file) as sound_file:\n",
        "                signal = sound_file.read(dtype=\"float32\")\n",
        "                sr=sound_file.samplerate\n",
        "        \n",
        "        \n",
        "        feature = mfcc_(signal,sr)\n",
        "        #x.append(feature)\n",
        "        #y.append(user)\n",
        "        tocsv(feature,user)\n",
        "        \"\"\"count+=1\n",
        "        if count>=10:\n",
        "            break\"\"\"\n",
        "    \"\"\"      \n",
        "    x=np.array(x)\n",
        "    y=np.array(y)\n",
        "    result = np.column_stack((x,y))\n",
        "    \"\"\"\n",
        "    #return x,y"
      ],
      "execution_count": 0,
      "outputs": []
    },
    {
      "cell_type": "code",
      "metadata": {
        "colab_type": "code",
        "id": "b6XDcmkJghs3",
        "outputId": "bf99c3ac-32ce-405c-8e64-83e941506ad0",
        "colab": {
          "base_uri": "https://localhost:8080/",
          "height": 34
        }
      },
      "source": [
        "s2c()"
      ],
      "execution_count": 0,
      "outputs": [
        {
          "output_type": "stream",
          "text": [
            "\r0it [00:00, ?it/s]\n"
          ],
          "name": "stderr"
        }
      ]
    },
    {
      "cell_type": "markdown",
      "metadata": {
        "colab_type": "text",
        "id": "CvS3oYD9ghtE"
      },
      "source": [
        "# Test :"
      ]
    },
    {
      "cell_type": "code",
      "metadata": {
        "colab_type": "code",
        "id": "pRBKF-oughtX",
        "colab": {}
      },
      "source": [
        "def m5(num_classes=5):\n",
        "    print('Using Model M5')\n",
        "    m = Sequential()\n",
        "    m.add(Conv1D(128,\n",
        "                 input_shape=[AUDIO_LENGTH, 1],\n",
        "                 kernel_size=80,\n",
        "                 strides=4,\n",
        "                 padding='same',\n",
        "                 kernel_initializer='glorot_uniform',\n",
        "                 kernel_regularizer=regularizers.l2(l=0.0001)))\n",
        "    m.add(BatchNormalization())\n",
        "    m.add(Activation('relu'))\n",
        "    m.add(MaxPooling1D(pool_size=4, strides=None))\n",
        "    m.add(Conv1D(128,\n",
        "                 kernel_size=3,\n",
        "                 strides=1,\n",
        "                 padding='same',\n",
        "                 kernel_initializer='glorot_uniform',\n",
        "                 kernel_regularizer=regularizers.l2(l=0.0001)))\n",
        "    m.add(BatchNormalization())\n",
        "    m.add(Activation('relu'))\n",
        "    m.add(MaxPooling1D(pool_size=4, strides=None))\n",
        "    m.add(Conv1D(256,\n",
        "                 kernel_size=3,\n",
        "                 strides=1,\n",
        "                 padding='same',\n",
        "                 kernel_initializer='glorot_uniform',\n",
        "                 kernel_regularizer=regularizers.l2(l=0.0001)))\n",
        "    m.add(BatchNormalization())\n",
        "    m.add(Activation('relu'))\n",
        "    m.add(MaxPooling1D(pool_size=4, strides=None))\n",
        "    m.add(Conv1D(512,\n",
        "                 kernel_size=3,\n",
        "                 strides=1,\n",
        "                 padding='same',\n",
        "                 kernel_initializer='glorot_uniform',\n",
        "                 kernel_regularizer=regularizers.l2(l=0.0001)))\n",
        "    m.add(BatchNormalization())\n",
        "    m.add(Activation('relu'))\n",
        "    m.add(MaxPooling1D(pool_size=4, strides=None))\n",
        "    m.add(Lambda(lambda x: K.mean(x, axis=1)))  # Same as GAP for 1D Conv Layer\n",
        "    m.add(Dense(num_classes, activation='softmax'))\n",
        "    return m\n",
        "\n",
        "\n",
        "def get_data(file_list):\n",
        "    def load_into(_filename, _x, _y):\n",
        "        with open(_filename, 'rb') as f:\n",
        "            audio_element = pickle.load(f)\n",
        "            _x.append(audio_element['audio'])\n",
        "            _y.append(int(audio_element['class_id']))\n",
        "\n",
        "    x, y = [], []\n",
        "    for filename in file_list:\n",
        "        load_into(filename, x, y)\n",
        "    return np.array(x), np.array(y)\n",
        "\n",
        "\n",
        "if __name__ == '__main__':\n",
        "\n",
        "    num_classes = 5\n",
        "    model = m5(num_classes=num_classes)\n",
        "\n",
        "    if model is None:\n",
        "        exit('Something went wrong!!')\n",
        "\n",
        "    model.compile(optimizer='adam',\n",
        "                  loss='categorical_crossentropy',\n",
        "                  metrics=['accuracy'])\n",
        "    print(model.summary())\n",
        "\n",
        "    train_files = glob(os.path.join(OUTPUT_DIR_TRAIN, '**.pkl'))\n",
        "    x_tr, y_tr = get_data(train_files)\n",
        "    y_tr = to_categorical(y_tr, num_classes=num_classes)\n",
        "\n",
        "    test_files = glob(os.path.join(OUTPUT_DIR_TEST, '**.pkl'))\n",
        "    x_te, y_te = get_data(test_files)\n",
        "    y_te = to_categorical(y_te, num_classes=num_classes)\n",
        "\n",
        "    print('x_tr.shape =', x_tr.shape)\n",
        "    print('y_tr.shape =', y_tr.shape)\n",
        "    print('x_te.shape =', x_te.shape)\n",
        "    print('y_te.shape =', y_te.shape)\n",
        "\n",
        "    # if the accuracy does not increase over 10 epochs, reduce the learning rate by half.\n",
        "    reduce_lr = ReduceLROnPlateau(monitor='val_acc', factor=0.5, patience=10, min_lr=0.0001, verbose=1)\n",
        "    batch_size = 128\n",
        "    model.fit(x=x_tr,\n",
        "              y=y_tr,\n",
        "              batch_size=batch_size,\n",
        "              epochs=400,\n",
        "              verbose=1,\n",
        "              shuffle=True,\n",
        "              validation_data=(x_te, y_te),\n",
        "              callbacks=[reduce_lr])"
      ],
      "execution_count": 0,
      "outputs": []
    },
    {
      "cell_type": "code",
      "metadata": {
        "id": "rCAxUDb1ldGB",
        "colab_type": "code",
        "colab": {}
      },
      "source": [
        "x = df3."
      ],
      "execution_count": 0,
      "outputs": []
    },
    {
      "cell_type": "markdown",
      "metadata": {
        "id": "-AwKdiFYv6Pu",
        "colab_type": "text"
      },
      "source": [
        "# Google Drive Data access"
      ]
    },
    {
      "cell_type": "code",
      "metadata": {
        "id": "WVDch-q4UEm7",
        "colab_type": "code",
        "colab": {}
      },
      "source": [
        "#!pip install -U -q PyDrive\n",
        "#https://towardsdatascience.com/3-ways-to-load-csv-files-into-colab-7c14fcbdcb92"
      ],
      "execution_count": 0,
      "outputs": []
    },
    {
      "cell_type": "code",
      "metadata": {
        "id": "iLuN5_Bku0Xp",
        "colab_type": "code",
        "colab": {}
      },
      "source": [
        "from pydrive.auth import GoogleAuth\n",
        "from pydrive.drive import GoogleDrive\n",
        "from google.colab import auth\n",
        "from oauth2client.client import GoogleCredentials"
      ],
      "execution_count": 0,
      "outputs": []
    },
    {
      "cell_type": "code",
      "metadata": {
        "id": "J_XQ2HW9u6KP",
        "colab_type": "code",
        "colab": {}
      },
      "source": [
        "auth.authenticate_user()\n",
        "gauth = GoogleAuth()\n",
        "gauth.credentials = GoogleCredentials.get_application_default()\n",
        "drive = GoogleDrive(gauth)"
      ],
      "execution_count": 0,
      "outputs": []
    },
    {
      "cell_type": "code",
      "metadata": {
        "id": "If-YmB2yvIF6",
        "colab_type": "code",
        "colab": {}
      },
      "source": [
        "link = 'https://drive.google.com/open?id=1njkTiNjPtcLZx0V5zr-qWXAEXrQl45PW'"
      ],
      "execution_count": 0,
      "outputs": []
    },
    {
      "cell_type": "code",
      "metadata": {
        "id": "iN3XKGLCvhNn",
        "colab_type": "code",
        "outputId": "bbea27e3-f613-477d-885f-cdfe2e21aba3",
        "colab": {
          "base_uri": "https://localhost:8080/",
          "height": 34
        }
      },
      "source": [
        "fluff, id = link.split('=')\n",
        "print (id) "
      ],
      "execution_count": 28,
      "outputs": [
        {
          "output_type": "stream",
          "text": [
            "1njkTiNjPtcLZx0V5zr-qWXAEXrQl45PW\n"
          ],
          "name": "stdout"
        }
      ]
    },
    {
      "cell_type": "code",
      "metadata": {
        "id": "OFCcFr6xvqyZ",
        "colab_type": "code",
        "colab": {}
      },
      "source": [
        "import pandas as pd\n",
        "downloaded = drive.CreateFile({'id':id}) \n",
        "downloaded.GetContentFile('people.csv')  \n",
        "df3 = pd.read_csv('people.csv')"
      ],
      "execution_count": 0,
      "outputs": []
    },
    {
      "cell_type": "code",
      "metadata": {
        "id": "KtTKHE8pv1ae",
        "colab_type": "code",
        "outputId": "bc96085b-81e1-458c-c6fa-17caee9a1fa0",
        "colab": {
          "base_uri": "https://localhost:8080/",
          "height": 224
        }
      },
      "source": [
        "from sklearn.utils import shuffle\n",
        "df3 = shuffle(df3)\n",
        "df3.head()"
      ],
      "execution_count": 30,
      "outputs": [
        {
          "output_type": "execute_result",
          "data": {
            "text/html": [
              "<div>\n",
              "<style scoped>\n",
              "    .dataframe tbody tr th:only-of-type {\n",
              "        vertical-align: middle;\n",
              "    }\n",
              "\n",
              "    .dataframe tbody tr th {\n",
              "        vertical-align: top;\n",
              "    }\n",
              "\n",
              "    .dataframe thead th {\n",
              "        text-align: right;\n",
              "    }\n",
              "</style>\n",
              "<table border=\"1\" class=\"dataframe\">\n",
              "  <thead>\n",
              "    <tr style=\"text-align: right;\">\n",
              "      <th></th>\n",
              "      <th>-1.6153728139728258</th>\n",
              "      <th>-0.566095886747293</th>\n",
              "      <th>-2.2038676823804004</th>\n",
              "      <th>0.2065565102352862</th>\n",
              "      <th>0.26361972118538163</th>\n",
              "      <th>1.1277980364132403</th>\n",
              "      <th>-0.3869602504543645</th>\n",
              "      <th>2.193784609773862</th>\n",
              "      <th>0.9997128846170393</th>\n",
              "      <th>0.9399494391010893</th>\n",
              "      <th>0.6090782488017761</th>\n",
              "      <th>-1.6818174423852228</th>\n",
              "      <th>0.5630336280377202</th>\n",
              "      <th>0.3519422417266513</th>\n",
              "      <th>0.921815469376084</th>\n",
              "      <th>-0.27177671449756524</th>\n",
              "      <th>-0.16286144968094976</th>\n",
              "      <th>0.20477036437616464</th>\n",
              "      <th>0.6802467426860398</th>\n",
              "      <th>0.16774122569148825</th>\n",
              "      <th>1272</th>\n",
              "    </tr>\n",
              "  </thead>\n",
              "  <tbody>\n",
              "    <tr>\n",
              "      <th>880977</th>\n",
              "      <td>0.449591</td>\n",
              "      <td>0.625241</td>\n",
              "      <td>0.666808</td>\n",
              "      <td>-0.066148</td>\n",
              "      <td>0.715964</td>\n",
              "      <td>-0.219909</td>\n",
              "      <td>-2.889133</td>\n",
              "      <td>-0.126205</td>\n",
              "      <td>-0.517977</td>\n",
              "      <td>0.011492</td>\n",
              "      <td>0.863159</td>\n",
              "      <td>-0.617024</td>\n",
              "      <td>0.070080</td>\n",
              "      <td>2.155270</td>\n",
              "      <td>-0.466508</td>\n",
              "      <td>-0.583316</td>\n",
              "      <td>0.284502</td>\n",
              "      <td>-0.296485</td>\n",
              "      <td>0.063797</td>\n",
              "      <td>-0.076893</td>\n",
              "      <td>3170</td>\n",
              "    </tr>\n",
              "    <tr>\n",
              "      <th>971905</th>\n",
              "      <td>0.207373</td>\n",
              "      <td>1.183828</td>\n",
              "      <td>0.017974</td>\n",
              "      <td>-0.019162</td>\n",
              "      <td>-0.335244</td>\n",
              "      <td>-0.165906</td>\n",
              "      <td>-0.595883</td>\n",
              "      <td>-0.610589</td>\n",
              "      <td>0.191852</td>\n",
              "      <td>1.158782</td>\n",
              "      <td>-1.476227</td>\n",
              "      <td>-1.471006</td>\n",
              "      <td>1.290293</td>\n",
              "      <td>-0.683375</td>\n",
              "      <td>-1.086941</td>\n",
              "      <td>0.382902</td>\n",
              "      <td>-0.585269</td>\n",
              "      <td>-0.318746</td>\n",
              "      <td>0.231989</td>\n",
              "      <td>-0.356906</td>\n",
              "      <td>3576</td>\n",
              "    </tr>\n",
              "    <tr>\n",
              "      <th>1655817</th>\n",
              "      <td>-0.119851</td>\n",
              "      <td>1.746556</td>\n",
              "      <td>0.827917</td>\n",
              "      <td>-0.732080</td>\n",
              "      <td>-1.015105</td>\n",
              "      <td>-1.077252</td>\n",
              "      <td>0.363192</td>\n",
              "      <td>-0.973797</td>\n",
              "      <td>-0.493972</td>\n",
              "      <td>-0.391186</td>\n",
              "      <td>-0.248488</td>\n",
              "      <td>-0.781056</td>\n",
              "      <td>0.279936</td>\n",
              "      <td>-1.058551</td>\n",
              "      <td>0.698711</td>\n",
              "      <td>0.533189</td>\n",
              "      <td>0.018126</td>\n",
              "      <td>-0.494418</td>\n",
              "      <td>0.068030</td>\n",
              "      <td>-0.446701</td>\n",
              "      <td>777</td>\n",
              "    </tr>\n",
              "    <tr>\n",
              "      <th>84410</th>\n",
              "      <td>1.331068</td>\n",
              "      <td>0.752078</td>\n",
              "      <td>-1.864311</td>\n",
              "      <td>-0.858137</td>\n",
              "      <td>-0.500464</td>\n",
              "      <td>-0.853370</td>\n",
              "      <td>-1.820106</td>\n",
              "      <td>1.674754</td>\n",
              "      <td>1.850190</td>\n",
              "      <td>-1.226498</td>\n",
              "      <td>-0.462252</td>\n",
              "      <td>-0.343982</td>\n",
              "      <td>-0.675220</td>\n",
              "      <td>-1.457112</td>\n",
              "      <td>-0.486021</td>\n",
              "      <td>-0.880672</td>\n",
              "      <td>0.197291</td>\n",
              "      <td>-0.143711</td>\n",
              "      <td>-1.150095</td>\n",
              "      <td>-0.403232</td>\n",
              "      <td>1462</td>\n",
              "    </tr>\n",
              "    <tr>\n",
              "      <th>331916</th>\n",
              "      <td>1.286193</td>\n",
              "      <td>0.753882</td>\n",
              "      <td>-2.506486</td>\n",
              "      <td>-0.486509</td>\n",
              "      <td>-0.195666</td>\n",
              "      <td>-0.103662</td>\n",
              "      <td>0.271168</td>\n",
              "      <td>-0.926106</td>\n",
              "      <td>-0.238654</td>\n",
              "      <td>-0.807709</td>\n",
              "      <td>-1.717898</td>\n",
              "      <td>0.424991</td>\n",
              "      <td>-0.585218</td>\n",
              "      <td>-0.315617</td>\n",
              "      <td>-1.830477</td>\n",
              "      <td>-0.250803</td>\n",
              "      <td>-0.048306</td>\n",
              "      <td>-0.508517</td>\n",
              "      <td>-0.242160</td>\n",
              "      <td>-0.440821</td>\n",
              "      <td>1993</td>\n",
              "    </tr>\n",
              "  </tbody>\n",
              "</table>\n",
              "</div>"
            ],
            "text/plain": [
              "         -1.6153728139728258  -0.566095886747293  ...  0.16774122569148825  1272\n",
              "880977              0.449591            0.625241  ...            -0.076893  3170\n",
              "971905              0.207373            1.183828  ...            -0.356906  3576\n",
              "1655817            -0.119851            1.746556  ...            -0.446701   777\n",
              "84410               1.331068            0.752078  ...            -0.403232  1462\n",
              "331916              1.286193            0.753882  ...            -0.440821  1993\n",
              "\n",
              "[5 rows x 21 columns]"
            ]
          },
          "metadata": {
            "tags": []
          },
          "execution_count": 30
        }
      ]
    },
    {
      "cell_type": "code",
      "metadata": {
        "id": "D2BYukeMv3o2",
        "colab_type": "code",
        "colab": {}
      },
      "source": [
        "x = df3.drop(columns=\"1272\")\n",
        "y = df3[\"1272\"]"
      ],
      "execution_count": 0,
      "outputs": []
    },
    {
      "cell_type": "code",
      "metadata": {
        "id": "JLYF3AaMxvXW",
        "colab_type": "code",
        "outputId": "3ed014ce-4329-4215-844d-5fce744cb098",
        "colab": {
          "base_uri": "https://localhost:8080/",
          "height": 34
        }
      },
      "source": [
        "print(x.shape,y.shape)"
      ],
      "execution_count": 0,
      "outputs": [
        {
          "output_type": "stream",
          "text": [
            "(1933635, 20) (1933635,)\n"
          ],
          "name": "stdout"
        }
      ]
    },
    {
      "cell_type": "code",
      "metadata": {
        "id": "6Z2z_ofe3olS",
        "colab_type": "code",
        "outputId": "b1e7128b-b471-4343-f444-b3b7f50dc4ab",
        "colab": {
          "base_uri": "https://localhost:8080/",
          "height": 51
        }
      },
      "source": [
        "import pandas as pd\n",
        "from sklearn import datasets, linear_model\n",
        "from sklearn.model_selection import train_test_split\n",
        "from matplotlib import pyplot as plt\n",
        "\n",
        "X_train, X_test, y_train, y_test = train_test_split(x, y, test_size=0.2)\n",
        "print (X_train.shape, y_train.shape)\n",
        "print( X_test.shape, y_test.shape)"
      ],
      "execution_count": 32,
      "outputs": [
        {
          "output_type": "stream",
          "text": [
            "(1546908, 20) (1546908,)\n",
            "(386727, 20) (386727,)\n"
          ],
          "name": "stdout"
        }
      ]
    },
    {
      "cell_type": "code",
      "metadata": {
        "id": "0jxwBH7WXVVz",
        "colab_type": "code",
        "colab": {}
      },
      "source": [
        "#print(y_train.value_counts(),y_test.value_counts())"
      ],
      "execution_count": 0,
      "outputs": []
    },
    {
      "cell_type": "code",
      "metadata": {
        "id": "EkW7nUGP4Fxn",
        "colab_type": "code",
        "colab": {}
      },
      "source": [
        "from sklearn.svm import LinearSVR\n",
        "#svc_model = SVC(C=1.0, cache_size=200, class_weight=None, coef0=0.0,\n",
        "#    decision_function_shape='ovr', degree=3, gamma='scale',\n",
        "#    kernel='rbf', max_iter=-1, probability=False, random_state=None,\n",
        "#    shrinking=True, tol=0.001, verbose=False)\n",
        "\n",
        "svc_model = LinearSVR(epsilon=0.0, tol=0.0001, C=1.0, loss='epsilon_insensitive', \n",
        "          fit_intercept=True, intercept_scaling=1.0, dual=True, verbose=0, \n",
        "          random_state=None, max_iter=1000)"
      ],
      "execution_count": 0,
      "outputs": []
    },
    {
      "cell_type": "code",
      "metadata": {
        "id": "Vw_pii2r5wmu",
        "colab_type": "code",
        "outputId": "34fd4533-a733-45c3-f42d-ecce464075b1",
        "colab": {
          "base_uri": "https://localhost:8080/",
          "height": 70
        }
      },
      "source": [
        "svc_model.fit(X_train,y_train)"
      ],
      "execution_count": 0,
      "outputs": [
        {
          "output_type": "execute_result",
          "data": {
            "text/plain": [
              "LinearSVR(C=1.0, dual=True, epsilon=0.0, fit_intercept=True,\n",
              "          intercept_scaling=1.0, loss='epsilon_insensitive', max_iter=1000,\n",
              "          random_state=None, tol=0.0001, verbose=0)"
            ]
          },
          "metadata": {
            "tags": []
          },
          "execution_count": 52
        }
      ]
    },
    {
      "cell_type": "code",
      "metadata": {
        "id": "7RKvKsbS6VOm",
        "colab_type": "code",
        "colab": {}
      },
      "source": [
        "y_predict = svc_model.predict(X_test)"
      ],
      "execution_count": 0,
      "outputs": []
    },
    {
      "cell_type": "code",
      "metadata": {
        "id": "Wy7khLjV60Xg",
        "colab_type": "code",
        "outputId": "d75fe4e8-9386-4847-9f7f-c31e6f5b476f",
        "colab": {
          "base_uri": "https://localhost:8080/",
          "height": 54
        }
      },
      "source": [
        "\"\"\"from sklearn.metrics import accuracy_score\n",
        "\n",
        "#DataFlair - Calculate the accuracy of our model\n",
        "accuracy=accuracy_score(y_true=y_test, y_pred=y_predict)\n",
        "#DataFlair - Print the accuracy\n",
        "print((accuracy*100))\"\"\""
      ],
      "execution_count": 0,
      "outputs": [
        {
          "output_type": "execute_result",
          "data": {
            "text/plain": [
              "'from sklearn.metrics import accuracy_score\\n\\n#DataFlair - Calculate the accuracy of our model\\naccuracy=accuracy_score(y_true=y_test, y_pred=y_predict)\\n#DataFlair - Print the accuracy\\nprint((accuracy*100))'"
            ]
          },
          "metadata": {
            "tags": []
          },
          "execution_count": 41
        }
      ]
    },
    {
      "cell_type": "code",
      "metadata": {
        "id": "YGBBgSK97Atq",
        "colab_type": "code",
        "colab": {}
      },
      "source": [
        "from sklearn.metrics import mean_squared_error"
      ],
      "execution_count": 0,
      "outputs": []
    },
    {
      "cell_type": "code",
      "metadata": {
        "id": "jweHbNU1OUZf",
        "colab_type": "code",
        "outputId": "de436381-6cb3-43d6-8371-2e5c33feefd2",
        "colab": {
          "base_uri": "https://localhost:8080/",
          "height": 34
        }
      },
      "source": [
        "mean_squared_error(y_test,y_predict)"
      ],
      "execution_count": 0,
      "outputs": [
        {
          "output_type": "execute_result",
          "data": {
            "text/plain": [
              "6356161.995744575"
            ]
          },
          "metadata": {
            "tags": []
          },
          "execution_count": 55
        }
      ]
    },
    {
      "cell_type": "code",
      "metadata": {
        "id": "drILWjnpObg7",
        "colab_type": "code",
        "outputId": "f8f2c717-c5e5-467c-cd78-eba38ab7ced0",
        "colab": {
          "base_uri": "https://localhost:8080/",
          "height": 34
        }
      },
      "source": [
        "svc_model.score(X_test,y_test)"
      ],
      "execution_count": 0,
      "outputs": [
        {
          "output_type": "execute_result",
          "data": {
            "text/plain": [
              "-0.07208669197378859"
            ]
          },
          "metadata": {
            "tags": []
          },
          "execution_count": 56
        }
      ]
    },
    {
      "cell_type": "markdown",
      "metadata": {
        "id": "sIzcQR55Ugsh",
        "colab_type": "text"
      },
      "source": [
        "# MLP classifiers :"
      ]
    },
    {
      "cell_type": "code",
      "metadata": {
        "id": "F42ZhXMRd00N",
        "colab_type": "code",
        "colab": {}
      },
      "source": [
        "#DataFlair - Initialize the Multi Layer Perceptron Classifier\n",
        "from sklearn.neural_network import MLPClassifier\n",
        "from sklearn.metrics import accuracy_score\n",
        "model=MLPClassifier(hidden_layer_sizes=(128,128,128), activation='tanh', solver='adam', \n",
        "                    alpha=0.0001, batch_size=64, learning_rate='constant', \n",
        "                    learning_rate_init=0.001, power_t=0.5, max_iter=200, shuffle=True, \n",
        "                    random_state=None, tol=0.0001, verbose=10, warm_start=False, \n",
        "                    momentum=0.9, nesterovs_momentum=True, early_stopping=False, \n",
        "                    validation_fraction=0.1, beta_1=0.9, beta_2=0.999, epsilon=1e-08, \n",
        "                    n_iter_no_change=10)"
      ],
      "execution_count": 0,
      "outputs": []
    },
    {
      "cell_type": "code",
      "metadata": {
        "id": "_PVDL7lmREU8",
        "colab_type": "code",
        "outputId": "1decf0cf-c365-43ad-be69-9bcf62a1fdc7",
        "colab": {
          "base_uri": "https://localhost:8080/",
          "height": 1000
        }
      },
      "source": [
        "#DataFlair - Train the model\n",
        "model.fit(X_train,y_train)\n",
        "#model1.fit(x_train,y_train)"
      ],
      "execution_count": 45,
      "outputs": [
        {
          "output_type": "stream",
          "text": [
            "Iteration 1, loss = 2.32092332\n",
            "Iteration 2, loss = 2.01885616\n",
            "Iteration 3, loss = 1.95502957\n",
            "Iteration 4, loss = 1.92167984\n",
            "Iteration 5, loss = 1.90138179\n",
            "Iteration 6, loss = 1.88637682\n",
            "Iteration 7, loss = 1.87584672\n",
            "Iteration 8, loss = 1.86692189\n",
            "Iteration 9, loss = 1.86068058\n",
            "Iteration 10, loss = 1.85501761\n",
            "Iteration 11, loss = 1.84982203\n",
            "Iteration 12, loss = 1.84692820\n",
            "Iteration 13, loss = 1.84371616\n",
            "Iteration 14, loss = 1.83959222\n",
            "Iteration 15, loss = 1.83696868\n",
            "Iteration 16, loss = 1.83474547\n",
            "Iteration 17, loss = 1.83290447\n",
            "Iteration 18, loss = 1.83086505\n",
            "Iteration 19, loss = 1.82931085\n",
            "Iteration 20, loss = 1.82753197\n",
            "Iteration 21, loss = 1.82601201\n",
            "Iteration 22, loss = 1.82429944\n",
            "Iteration 23, loss = 1.82300024\n",
            "Iteration 24, loss = 1.82181541\n",
            "Iteration 25, loss = 1.82027251\n",
            "Iteration 26, loss = 1.81960707\n",
            "Iteration 27, loss = 1.81834662\n",
            "Iteration 28, loss = 1.81741764\n",
            "Iteration 29, loss = 1.81606164\n",
            "Iteration 30, loss = 1.81537828\n",
            "Iteration 31, loss = 1.81382399\n",
            "Iteration 32, loss = 1.81329205\n",
            "Iteration 33, loss = 1.81206145\n",
            "Iteration 34, loss = 1.81092778\n",
            "Iteration 35, loss = 1.80955350\n",
            "Iteration 36, loss = 1.80955310\n",
            "Iteration 37, loss = 1.80881978\n",
            "Iteration 38, loss = 1.80819536\n",
            "Iteration 39, loss = 1.80720696\n",
            "Iteration 40, loss = 1.80596235\n",
            "Iteration 41, loss = 1.80529650\n",
            "Iteration 42, loss = 1.80501956\n",
            "Iteration 43, loss = 1.80449200\n",
            "Iteration 44, loss = 1.80369677\n",
            "Iteration 45, loss = 1.80274022\n",
            "Iteration 46, loss = 1.80230389\n",
            "Iteration 47, loss = 1.80198484\n",
            "Iteration 48, loss = 1.80045846\n",
            "Iteration 49, loss = 1.80032840\n",
            "Iteration 50, loss = 1.80043810\n",
            "Iteration 51, loss = 1.79948349\n",
            "Iteration 52, loss = 1.79900809\n",
            "Iteration 53, loss = 1.79816267\n",
            "Iteration 54, loss = 1.79789447\n",
            "Iteration 55, loss = 1.79718852\n",
            "Iteration 56, loss = 1.79736284\n",
            "Iteration 57, loss = 1.79656116\n",
            "Iteration 58, loss = 1.79594188\n",
            "Iteration 59, loss = 1.79623444\n",
            "Iteration 60, loss = 1.79545747\n",
            "Iteration 61, loss = 1.79543605\n",
            "Iteration 62, loss = 1.79454031\n",
            "Iteration 63, loss = 1.79441507\n",
            "Iteration 64, loss = 1.79375043\n",
            "Iteration 65, loss = 1.79403598\n",
            "Iteration 66, loss = 1.79321206\n",
            "Iteration 67, loss = 1.79289625\n",
            "Iteration 68, loss = 1.79263560\n",
            "Iteration 69, loss = 1.79205147\n",
            "Iteration 70, loss = 1.79184952\n",
            "Iteration 71, loss = 1.79137438\n",
            "Iteration 72, loss = 1.79153599\n",
            "Iteration 73, loss = 1.79120296\n",
            "Iteration 74, loss = 1.79034471\n",
            "Iteration 75, loss = 1.79084640\n",
            "Iteration 76, loss = 1.79030860\n",
            "Iteration 77, loss = 1.78932294\n",
            "Iteration 78, loss = 1.78963919\n",
            "Iteration 79, loss = 1.78936264\n",
            "Iteration 80, loss = 1.78844616\n",
            "Iteration 81, loss = 1.78854493\n",
            "Iteration 82, loss = 1.78796737\n",
            "Iteration 83, loss = 1.78795422\n",
            "Iteration 84, loss = 1.78814755\n",
            "Iteration 85, loss = 1.78777172\n",
            "Iteration 86, loss = 1.78766939\n",
            "Iteration 87, loss = 1.78735166\n",
            "Iteration 88, loss = 1.78712184\n",
            "Iteration 89, loss = 1.78662719\n",
            "Iteration 90, loss = 1.78683425\n",
            "Iteration 91, loss = 1.78616018\n",
            "Iteration 92, loss = 1.78607670\n",
            "Iteration 93, loss = 1.78538665\n",
            "Iteration 94, loss = 1.78588663\n",
            "Iteration 95, loss = 1.78547162\n",
            "Iteration 96, loss = 1.78491546\n",
            "Iteration 97, loss = 1.78468837\n",
            "Iteration 98, loss = 1.78499376\n",
            "Iteration 99, loss = 1.78463101\n",
            "Iteration 100, loss = 1.78408147\n",
            "Iteration 101, loss = 1.78406529\n",
            "Iteration 102, loss = 1.78390673\n",
            "Iteration 103, loss = 1.78381029\n",
            "Iteration 104, loss = 1.78336380\n",
            "Iteration 105, loss = 1.78327434\n",
            "Iteration 106, loss = 1.78332123\n",
            "Iteration 107, loss = 1.78318272\n",
            "Iteration 108, loss = 1.78287283\n",
            "Iteration 109, loss = 1.78326941\n",
            "Iteration 110, loss = 1.78247684\n",
            "Iteration 111, loss = 1.78235325\n",
            "Iteration 112, loss = 1.78224982\n",
            "Iteration 113, loss = 1.78177342\n",
            "Iteration 114, loss = 1.78201565\n",
            "Iteration 115, loss = 1.78148477\n",
            "Iteration 116, loss = 1.78176128\n",
            "Iteration 117, loss = 1.78123448\n",
            "Iteration 118, loss = 1.78126207\n",
            "Iteration 119, loss = 1.78126579\n",
            "Iteration 120, loss = 1.78113152\n",
            "Iteration 121, loss = 1.78110094\n",
            "Iteration 122, loss = 1.78055894\n",
            "Iteration 123, loss = 1.78055666\n",
            "Iteration 124, loss = 1.78086001\n",
            "Iteration 125, loss = 1.78001331\n",
            "Iteration 126, loss = 1.78066335\n",
            "Iteration 127, loss = 1.78007886\n",
            "Iteration 128, loss = 1.78004816\n",
            "Iteration 129, loss = 1.77919372\n",
            "Iteration 130, loss = 1.77973572\n",
            "Iteration 131, loss = 1.77967625\n",
            "Iteration 132, loss = 1.77978233\n",
            "Iteration 133, loss = 1.77932178\n",
            "Iteration 134, loss = 1.77915491\n",
            "Iteration 135, loss = 1.77916419\n",
            "Iteration 136, loss = 1.77909106\n",
            "Iteration 137, loss = 1.77908425\n",
            "Iteration 138, loss = 1.77876303\n",
            "Iteration 139, loss = 1.77881214\n",
            "Iteration 140, loss = 1.77870967\n",
            "Iteration 141, loss = 1.77825125\n",
            "Iteration 142, loss = 1.77856743\n",
            "Iteration 143, loss = 1.77812717\n"
          ],
          "name": "stdout"
        },
        {
          "output_type": "stream",
          "text": [
            "/usr/local/lib/python3.6/dist-packages/sklearn/neural_network/multilayer_perceptron.py:568: UserWarning: Training interrupted by user.\n",
            "  warnings.warn(\"Training interrupted by user.\")\n"
          ],
          "name": "stderr"
        },
        {
          "output_type": "execute_result",
          "data": {
            "text/plain": [
              "MLPClassifier(activation='tanh', alpha=0.0001, batch_size=64, beta_1=0.9,\n",
              "              beta_2=0.999, early_stopping=False, epsilon=1e-08,\n",
              "              hidden_layer_sizes=(128, 128, 128), learning_rate='constant',\n",
              "              learning_rate_init=0.001, max_iter=200, momentum=0.9,\n",
              "              n_iter_no_change=10, nesterovs_momentum=True, power_t=0.5,\n",
              "              random_state=None, shuffle=True, solver='adam', tol=0.0001,\n",
              "              validation_fraction=0.1, verbose=10, warm_start=False)"
            ]
          },
          "metadata": {
            "tags": []
          },
          "execution_count": 45
        }
      ]
    },
    {
      "cell_type": "code",
      "metadata": {
        "id": "Xjvrn2DsRTFu",
        "colab_type": "code",
        "colab": {}
      },
      "source": [
        "#DataFlair - Predict for the test set\n",
        "from tqdm import tqdm\n",
        "y_pred=model.predict(X_test)\n",
        "y_prob = model.predict_proba(X_test)\n",
        "#y_pred1=model1.predict(x_test)"
      ],
      "execution_count": 0,
      "outputs": []
    },
    {
      "cell_type": "code",
      "metadata": {
        "id": "KAf6PMjrRtvY",
        "colab_type": "code",
        "outputId": "2840e87e-1db2-487a-e964-7b90832e4801",
        "colab": {
          "base_uri": "https://localhost:8080/",
          "height": 34
        }
      },
      "source": [
        "#DataFlair - Calculate the accuracy of our model\n",
        "accuracy=accuracy_score(y_true=y_test, y_pred=y_pred)\n",
        "#DataFlair - Print the accuracy\n",
        "print(\"Accuracy: {:.2f}%\".format(accuracy*100))"
      ],
      "execution_count": 47,
      "outputs": [
        {
          "output_type": "stream",
          "text": [
            "Accuracy: 49.04%\n"
          ],
          "name": "stdout"
        }
      ]
    },
    {
      "cell_type": "code",
      "metadata": {
        "id": "qJImrO6SRv-R",
        "colab_type": "code",
        "colab": {}
      },
      "source": [
        "import pickle \n",
        "  \n",
        "# Save the trained model as a pickle string. \n",
        "saved_model = pickle.dumps(model) "
      ],
      "execution_count": 0,
      "outputs": []
    },
    {
      "cell_type": "code",
      "metadata": {
        "id": "YHnlykxCWhE8",
        "colab_type": "code",
        "colab": {}
      },
      "source": [
        ""
      ],
      "execution_count": 0,
      "outputs": []
    }
  ]
}