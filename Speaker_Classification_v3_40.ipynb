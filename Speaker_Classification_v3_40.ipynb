{
  "nbformat": 4,
  "nbformat_minor": 0,
  "metadata": {
    "kernelspec": {
      "name": "python3",
      "display_name": "Python 3"
    },
    "language_info": {
      "codemirror_mode": {
        "name": "ipython",
        "version": 3
      },
      "file_extension": ".py",
      "mimetype": "text/x-python",
      "name": "python",
      "nbconvert_exporter": "python",
      "pygments_lexer": "ipython3",
      "version": "3.6.9"
    },
    "colab": {
      "name": "Speaker_Classification_v3_40.ipynb",
      "provenance": [],
      "collapsed_sections": [],
      "include_colab_link": true
    },
    "accelerator": "GPU"
  },
  "cells": [
    {
      "cell_type": "markdown",
      "metadata": {
        "id": "view-in-github",
        "colab_type": "text"
      },
      "source": [
        "<a href=\"https://colab.research.google.com/github/ritikraj660/Speaker-recognition/blob/master/Speaker_Classification_v3_40.ipynb\" target=\"_parent\"><img src=\"https://colab.research.google.com/assets/colab-badge.svg\" alt=\"Open In Colab\"/></a>"
      ]
    },
    {
      "cell_type": "markdown",
      "metadata": {
        "id": "CpNLfJBO1-WH",
        "colab_type": "text"
      },
      "source": [
        "# Installing Packages:"
      ]
    },
    {
      "cell_type": "code",
      "metadata": {
        "id": "wj01p9v5K199",
        "colab_type": "code",
        "outputId": "57ad7b2f-9145-4772-92d8-b0251615d6a0",
        "colab": {
          "base_uri": "https://localhost:8080/",
          "height": 632
        }
      },
      "source": [
        "!pip install --upgrade tensorflow-gpu"
      ],
      "execution_count": 1,
      "outputs": [
        {
          "output_type": "stream",
          "text": [
            "Requirement already up-to-date: tensorflow-gpu in /usr/local/lib/python3.6/dist-packages (2.1.0)\n",
            "Requirement already satisfied, skipping upgrade: protobuf>=3.8.0 in /usr/local/lib/python3.6/dist-packages (from tensorflow-gpu) (3.10.0)\n",
            "Requirement already satisfied, skipping upgrade: tensorflow-estimator<2.2.0,>=2.1.0rc0 in /usr/local/lib/python3.6/dist-packages (from tensorflow-gpu) (2.1.0)\n",
            "Requirement already satisfied, skipping upgrade: grpcio>=1.8.6 in /usr/local/lib/python3.6/dist-packages (from tensorflow-gpu) (1.15.0)\n",
            "Requirement already satisfied, skipping upgrade: google-pasta>=0.1.6 in /usr/local/lib/python3.6/dist-packages (from tensorflow-gpu) (0.1.8)\n",
            "Requirement already satisfied, skipping upgrade: six>=1.12.0 in /usr/local/lib/python3.6/dist-packages (from tensorflow-gpu) (1.12.0)\n",
            "Requirement already satisfied, skipping upgrade: scipy==1.4.1; python_version >= \"3\" in /usr/local/lib/python3.6/dist-packages (from tensorflow-gpu) (1.4.1)\n",
            "Requirement already satisfied, skipping upgrade: numpy<2.0,>=1.16.0 in /usr/local/lib/python3.6/dist-packages (from tensorflow-gpu) (1.17.5)\n",
            "Requirement already satisfied, skipping upgrade: keras-applications>=1.0.8 in /usr/local/lib/python3.6/dist-packages (from tensorflow-gpu) (1.0.8)\n",
            "Requirement already satisfied, skipping upgrade: tensorboard<2.2.0,>=2.1.0 in /usr/local/lib/python3.6/dist-packages (from tensorflow-gpu) (2.1.0)\n",
            "Requirement already satisfied, skipping upgrade: wrapt>=1.11.1 in /usr/local/lib/python3.6/dist-packages (from tensorflow-gpu) (1.11.2)\n",
            "Requirement already satisfied, skipping upgrade: termcolor>=1.1.0 in /usr/local/lib/python3.6/dist-packages (from tensorflow-gpu) (1.1.0)\n",
            "Requirement already satisfied, skipping upgrade: wheel>=0.26; python_version >= \"3\" in /usr/local/lib/python3.6/dist-packages (from tensorflow-gpu) (0.33.6)\n",
            "Requirement already satisfied, skipping upgrade: keras-preprocessing>=1.1.0 in /usr/local/lib/python3.6/dist-packages (from tensorflow-gpu) (1.1.0)\n",
            "Requirement already satisfied, skipping upgrade: absl-py>=0.7.0 in /usr/local/lib/python3.6/dist-packages (from tensorflow-gpu) (0.9.0)\n",
            "Requirement already satisfied, skipping upgrade: gast==0.2.2 in /usr/local/lib/python3.6/dist-packages (from tensorflow-gpu) (0.2.2)\n",
            "Requirement already satisfied, skipping upgrade: opt-einsum>=2.3.2 in /usr/local/lib/python3.6/dist-packages (from tensorflow-gpu) (3.1.0)\n",
            "Requirement already satisfied, skipping upgrade: astor>=0.6.0 in /usr/local/lib/python3.6/dist-packages (from tensorflow-gpu) (0.8.1)\n",
            "Requirement already satisfied, skipping upgrade: setuptools in /usr/local/lib/python3.6/dist-packages (from protobuf>=3.8.0->tensorflow-gpu) (42.0.2)\n",
            "Requirement already satisfied, skipping upgrade: h5py in /usr/local/lib/python3.6/dist-packages (from keras-applications>=1.0.8->tensorflow-gpu) (2.8.0)\n",
            "Requirement already satisfied, skipping upgrade: markdown>=2.6.8 in /usr/local/lib/python3.6/dist-packages (from tensorboard<2.2.0,>=2.1.0->tensorflow-gpu) (3.1.1)\n",
            "Requirement already satisfied, skipping upgrade: requests<3,>=2.21.0 in /usr/local/lib/python3.6/dist-packages (from tensorboard<2.2.0,>=2.1.0->tensorflow-gpu) (2.21.0)\n",
            "Requirement already satisfied, skipping upgrade: google-auth-oauthlib<0.5,>=0.4.1 in /usr/local/lib/python3.6/dist-packages (from tensorboard<2.2.0,>=2.1.0->tensorflow-gpu) (0.4.1)\n",
            "Requirement already satisfied, skipping upgrade: google-auth<2,>=1.6.3 in /usr/local/lib/python3.6/dist-packages (from tensorboard<2.2.0,>=2.1.0->tensorflow-gpu) (1.11.0)\n",
            "Requirement already satisfied, skipping upgrade: werkzeug>=0.11.15 in /usr/local/lib/python3.6/dist-packages (from tensorboard<2.2.0,>=2.1.0->tensorflow-gpu) (0.16.0)\n",
            "Requirement already satisfied, skipping upgrade: certifi>=2017.4.17 in /usr/local/lib/python3.6/dist-packages (from requests<3,>=2.21.0->tensorboard<2.2.0,>=2.1.0->tensorflow-gpu) (2019.11.28)\n",
            "Requirement already satisfied, skipping upgrade: urllib3<1.25,>=1.21.1 in /usr/local/lib/python3.6/dist-packages (from requests<3,>=2.21.0->tensorboard<2.2.0,>=2.1.0->tensorflow-gpu) (1.24.3)\n",
            "Requirement already satisfied, skipping upgrade: idna<2.9,>=2.5 in /usr/local/lib/python3.6/dist-packages (from requests<3,>=2.21.0->tensorboard<2.2.0,>=2.1.0->tensorflow-gpu) (2.8)\n",
            "Requirement already satisfied, skipping upgrade: chardet<3.1.0,>=3.0.2 in /usr/local/lib/python3.6/dist-packages (from requests<3,>=2.21.0->tensorboard<2.2.0,>=2.1.0->tensorflow-gpu) (3.0.4)\n",
            "Requirement already satisfied, skipping upgrade: requests-oauthlib>=0.7.0 in /usr/local/lib/python3.6/dist-packages (from google-auth-oauthlib<0.5,>=0.4.1->tensorboard<2.2.0,>=2.1.0->tensorflow-gpu) (1.3.0)\n",
            "Requirement already satisfied, skipping upgrade: rsa<4.1,>=3.1.4 in /usr/local/lib/python3.6/dist-packages (from google-auth<2,>=1.6.3->tensorboard<2.2.0,>=2.1.0->tensorflow-gpu) (4.0)\n",
            "Requirement already satisfied, skipping upgrade: cachetools<5.0,>=2.0.0 in /usr/local/lib/python3.6/dist-packages (from google-auth<2,>=1.6.3->tensorboard<2.2.0,>=2.1.0->tensorflow-gpu) (4.0.0)\n",
            "Requirement already satisfied, skipping upgrade: pyasn1-modules>=0.2.1 in /usr/local/lib/python3.6/dist-packages (from google-auth<2,>=1.6.3->tensorboard<2.2.0,>=2.1.0->tensorflow-gpu) (0.2.7)\n",
            "Requirement already satisfied, skipping upgrade: oauthlib>=3.0.0 in /usr/local/lib/python3.6/dist-packages (from requests-oauthlib>=0.7.0->google-auth-oauthlib<0.5,>=0.4.1->tensorboard<2.2.0,>=2.1.0->tensorflow-gpu) (3.1.0)\n",
            "Requirement already satisfied, skipping upgrade: pyasn1>=0.1.3 in /usr/local/lib/python3.6/dist-packages (from rsa<4.1,>=3.1.4->google-auth<2,>=1.6.3->tensorboard<2.2.0,>=2.1.0->tensorflow-gpu) (0.4.8)\n"
          ],
          "name": "stdout"
        }
      ]
    },
    {
      "cell_type": "code",
      "metadata": {
        "id": "SjuL4ZnF2F_y",
        "colab_type": "code",
        "colab": {}
      },
      "source": [
        "#from google.colab import drive\n",
        "#drive.mount('/content/gdrive')"
      ],
      "execution_count": 0,
      "outputs": []
    },
    {
      "cell_type": "code",
      "metadata": {
        "id": "9RXw9shFmGBg",
        "colab_type": "code",
        "outputId": "dba23d98-8bc1-444a-f852-cb35c4bb28ac",
        "colab": {
          "base_uri": "https://localhost:8080/",
          "height": 119
        }
      },
      "source": [
        "!pip install soundfile\n",
        "!pip install spafe"
      ],
      "execution_count": 3,
      "outputs": [
        {
          "output_type": "stream",
          "text": [
            "Requirement already satisfied: soundfile in /usr/local/lib/python3.6/dist-packages (0.10.3.post1)\n",
            "Requirement already satisfied: cffi>=1.0 in /usr/local/lib/python3.6/dist-packages (from soundfile) (1.13.2)\n",
            "Requirement already satisfied: pycparser in /usr/local/lib/python3.6/dist-packages (from cffi>=1.0->soundfile) (2.19)\n",
            "Requirement already satisfied: spafe in /usr/local/lib/python3.6/dist-packages (0.1.1)\n",
            "Requirement already satisfied: scipy>=1.3.1 in /usr/local/lib/python3.6/dist-packages (from spafe) (1.4.1)\n",
            "Requirement already satisfied: numpy>=1.17.2 in /usr/local/lib/python3.6/dist-packages (from spafe) (1.17.5)\n"
          ],
          "name": "stdout"
        }
      ]
    },
    {
      "cell_type": "code",
      "metadata": {
        "id": "rBgxeaV6jtiB",
        "colab_type": "code",
        "outputId": "baccb567-cd89-4c09-e846-859be4211019",
        "colab": {
          "base_uri": "https://localhost:8080/",
          "height": 34
        }
      },
      "source": [
        "import tensorflow\n",
        "tensorflow.test.gpu_device_name() "
      ],
      "execution_count": 4,
      "outputs": [
        {
          "output_type": "execute_result",
          "data": {
            "text/plain": [
              "'/device:GPU:0'"
            ]
          },
          "metadata": {
            "tags": []
          },
          "execution_count": 4
        }
      ]
    },
    {
      "cell_type": "markdown",
      "metadata": {
        "id": "rmhg7V0a2H9L",
        "colab_type": "text"
      },
      "source": [
        "# Import Packages"
      ]
    },
    {
      "cell_type": "code",
      "metadata": {
        "id": "6jYJat4GEpzL",
        "colab_type": "code",
        "outputId": "6271cd1d-1a8e-4f0a-b814-de29b6abc982",
        "colab": {
          "base_uri": "https://localhost:8080/",
          "height": 34
        }
      },
      "source": [
        "import librosa\n",
        "import soundfile\n",
        "import tqdm\n",
        "from scipy.io import wavfile\n",
        "import glob\n",
        "import os,pickle\n",
        "import numpy as np\n",
        "from spafe.features.mfcc import mfcc, imfcc\n",
        "import csv\n",
        "import pandas as pd\n",
        "from tqdm import tqdm\n",
        "from sklearn.model_selection import train_test_split\n",
        "import numpy as np\n",
        "import keras\n",
        "from keras.models import Sequential\n",
        "#from __future__ import print_function\n",
        "import keras\n",
        "from keras.models import Sequential\n",
        "from keras.layers import Dense, Flatten, Conv2D, MaxPooling2D,Dropout\n",
        "from keras.callbacks import ModelCheckpoint\n",
        "from keras.models import model_from_json\n",
        "from keras import backend as K"
      ],
      "execution_count": 5,
      "outputs": [
        {
          "output_type": "stream",
          "text": [
            "Using TensorFlow backend.\n"
          ],
          "name": "stderr"
        }
      ]
    },
    {
      "cell_type": "markdown",
      "metadata": {
        "id": "x0XYclYb2NlS",
        "colab_type": "text"
      },
      "source": [
        "# Import Data from Drive :"
      ]
    },
    {
      "cell_type": "code",
      "metadata": {
        "id": "o7LFfT5dOyO6",
        "colab_type": "code",
        "colab": {}
      },
      "source": [
        "from pydrive.auth import GoogleAuth\n",
        "from pydrive.drive import GoogleDrive\n",
        "from google.colab import auth\n",
        "from oauth2client.client import GoogleCredentials"
      ],
      "execution_count": 0,
      "outputs": []
    },
    {
      "cell_type": "code",
      "metadata": {
        "id": "ulBEeHGOPVb5",
        "colab_type": "code",
        "colab": {}
      },
      "source": [
        "auth.authenticate_user()\n",
        "gauth = GoogleAuth()\n",
        "gauth.credentials = GoogleCredentials.get_application_default()\n",
        "drive = GoogleDrive(gauth)"
      ],
      "execution_count": 0,
      "outputs": []
    },
    {
      "cell_type": "code",
      "metadata": {
        "id": "bFtoL6s2PVFJ",
        "colab_type": "code",
        "outputId": "32b283c9-f218-4347-c25c-419457ab8f5b",
        "colab": {
          "base_uri": "https://localhost:8080/",
          "height": 34
        }
      },
      "source": [
        "link = 'https://drive.google.com/open?id=1-jhCnWc1Pg5PKjY1aME8JwsVHXljmjFF'\n",
        "fluff, id = link.split('=')\n",
        "print (id) "
      ],
      "execution_count": 8,
      "outputs": [
        {
          "output_type": "stream",
          "text": [
            "1-jhCnWc1Pg5PKjY1aME8JwsVHXljmjFF\n"
          ],
          "name": "stdout"
        }
      ]
    },
    {
      "cell_type": "code",
      "metadata": {
        "id": "GpzvACTgPyj0",
        "colab_type": "code",
        "colab": {}
      },
      "source": [
        "import pandas as pd\n",
        "downloaded = drive.CreateFile({'id':id}) \n",
        "downloaded.GetContentFile('LibriSpeech.rar')  "
      ],
      "execution_count": 0,
      "outputs": []
    },
    {
      "cell_type": "markdown",
      "metadata": {
        "id": "MCRUyoks2WwX",
        "colab_type": "text"
      },
      "source": [
        "# Extracting Data from (.)rar"
      ]
    },
    {
      "cell_type": "code",
      "metadata": {
        "id": "PUsfP_J5PySI",
        "colab_type": "code",
        "outputId": "50920510-daa0-45dd-f8f8-408885cfc6bd",
        "colab": {
          "base_uri": "https://localhost:8080/",
          "height": 34
        }
      },
      "source": [
        "!pip install patool"
      ],
      "execution_count": 10,
      "outputs": [
        {
          "output_type": "stream",
          "text": [
            "Requirement already satisfied: patool in /usr/local/lib/python3.6/dist-packages (1.12)\n"
          ],
          "name": "stdout"
        }
      ]
    },
    {
      "cell_type": "code",
      "metadata": {
        "id": "ffyDpxaCSgDx",
        "colab_type": "code",
        "outputId": "e11642db-220e-46f8-b23e-1cd7549fa3f1",
        "colab": {
          "base_uri": "https://localhost:8080/",
          "height": 119
        }
      },
      "source": [
        "import os\n",
        "os.listdir()"
      ],
      "execution_count": 11,
      "outputs": [
        {
          "output_type": "execute_result",
          "data": {
            "text/plain": [
              "['.config',\n",
              " 'LibriSpeech.rar',\n",
              " 'adc.json',\n",
              " 'Model.v_2.hdf5',\n",
              " 'LibriSpeech',\n",
              " 'sample_data']"
            ]
          },
          "metadata": {
            "tags": []
          },
          "execution_count": 11
        }
      ]
    },
    {
      "cell_type": "code",
      "metadata": {
        "id": "CH0Ug5BPShB8",
        "colab_type": "code",
        "outputId": "1efedaca-cf18-4b14-89a5-72fd14531d5a",
        "colab": {
          "base_uri": "https://localhost:8080/",
          "height": 119
        }
      },
      "source": [
        "%%time\n",
        "import patoolib\n",
        "patoolib.extract_archive(\"LibriSpeech.rar\")"
      ],
      "execution_count": 12,
      "outputs": [
        {
          "output_type": "stream",
          "text": [
            "patool: Extracting LibriSpeech.rar ...\n",
            "patool: running /usr/bin/unrar x -- /content/LibriSpeech.rar\n",
            "patool:     with cwd='./Unpack_wvf7xyde'\n",
            "patool: ... LibriSpeech.rar extracted to `LibriSpeech1' (local file exists).\n",
            "CPU times: user 23.9 ms, sys: 32.7 ms, total: 56.6 ms\n",
            "Wall time: 4.12 s\n"
          ],
          "name": "stdout"
        }
      ]
    },
    {
      "cell_type": "markdown",
      "metadata": {
        "id": "fcQzszcy2htw",
        "colab_type": "text"
      },
      "source": [
        "# Audio Data Preprocessing :"
      ]
    },
    {
      "cell_type": "code",
      "metadata": {
        "id": "73C5dhr-me2y",
        "colab_type": "code",
        "colab": {}
      },
      "source": [
        "def norm_(x,mean = False):\n",
        "    if mean == True:\n",
        "        return (x - np.mean(x)) / (np.max(x) - np.min(x)) #normalization                             \n",
        "    else:\n",
        "        return (x-np.mean(x)/np.std(x)) #standardization\n",
        "\n",
        "def zero_handling(x):\n",
        "    \"\"\"\n",
        "    handle the issue with zero values if they are exposed to become an argument\n",
        "    for any log function.\n",
        "\n",
        "    Returns:\n",
        "        vector with zeros substituted with epsilon values.\n",
        "    \"\"\"\n",
        "    return np.where(x == float(0), np.finfo(float).eps, x)"
      ],
      "execution_count": 0,
      "outputs": []
    },
    {
      "cell_type": "code",
      "metadata": {
        "id": "mSPPghULme23",
        "colab_type": "code",
        "colab": {}
      },
      "source": [
        "def mfcc_(sig,fs):\n",
        "    mfccs  = mfcc(sig, fs=fs, num_ceps=20, pre_emph=1, pre_emph_coeff=0.95, \n",
        "              win_len=0.025, win_hop=0.01, win_type='hamming', nfilts=26, \n",
        "              nfft=512, low_freq=None, high_freq=None, scale='constant', \n",
        "              dct_type=2, use_energy=False, lifter=22)\n",
        "    #print(fs)\n",
        "    return mfccs"
      ],
      "execution_count": 0,
      "outputs": []
    },
    {
      "cell_type": "code",
      "metadata": {
        "id": "xaE6275lme26",
        "colab_type": "code",
        "colab": {}
      },
      "source": [
        "def label(user,total): # its creating lable for splited audio data\n",
        "    k_train = []\n",
        "    for i in range(total):\n",
        "        k_train.append(user)\n",
        "    y_train=np.array(k_train).T\n",
        "    return y_train"
      ],
      "execution_count": 0,
      "outputs": []
    },
    {
      "cell_type": "code",
      "metadata": {
        "id": "V5hyRZYb0njc",
        "colab_type": "code",
        "colab": {}
      },
      "source": [
        "from pathlib import Path\n",
        "\n",
        "#for file_path in Path('LibriSpeech/test-clean').glob('**/*.flac'):\n",
        "#     print(file_path)"
      ],
      "execution_count": 0,
      "outputs": []
    },
    {
      "cell_type": "code",
      "metadata": {
        "id": "aV0iqD15me3D",
        "colab_type": "code",
        "colab": {}
      },
      "source": [
        "def s2c(mfcc=False,lpcc=False):\n",
        "    x,y=[],[]\n",
        "    data = np.empty([1,148,20])\n",
        "    data_label = np.asarray([])\n",
        "    count =0  # E:\\dataset\\LibriSpeech\\dev-clean\n",
        "    #for file in tqdm(glob.iglob('/LibriSpeech/test-clean//**/*.flac', recursive=True)):\n",
        "    for file in tqdm(Path('LibriSpeech/test-clean').glob('**/*.flac')):\n",
        "        file_name=os.path.basename(file)\n",
        "        user = file_name.split(\"-\")[0]\n",
        "        #print(f)\n",
        "        with soundfile.SoundFile(file) as sound_file:\n",
        "                signal = sound_file.read(dtype=\"float32\")\n",
        "                sr=sound_file.samplerate\n",
        "        signal = norm_(signal,mean = False)\n",
        "        signal = zero_handling(signal)\n",
        "        \n",
        "        if mfcc:\n",
        "            feature = mfcc_(signal,sr)\n",
        "            #print(feature.shape[0])\n",
        "        if lpcc:\n",
        "            feature = lpcc_(signal,sr)   \n",
        "        #if feature.shape[0]>256:\n",
        "        \n",
        "        quotient = int(feature.shape[0]/148)\n",
        "        end_index = feature.shape[0]-(feature.shape[0]%148)\n",
        "        r = feature[0:end_index,:]\n",
        "        re_data = np.reshape(r,(-1,148,20))#b = np.reshape(a, (8, 3, -1))\n",
        "        data=np.concatenate((data,re_data),axis=0)\n",
        "        \n",
        "        re_label = label(user,quotient)\n",
        "        data_label = np.concatenate((data_label,re_label),axis=0)\n",
        "    return data[1:,:,:],data_label"
      ],
      "execution_count": 0,
      "outputs": []
    },
    {
      "cell_type": "code",
      "metadata": {
        "id": "atS_es2Ame3Z",
        "colab_type": "code",
        "outputId": "2c155d4c-309f-4a4e-a1ff-779b7fd08f7e",
        "colab": {
          "base_uri": "https://localhost:8080/",
          "height": 51
        }
      },
      "source": [
        "%%time\n",
        "def write_(x,y):\n",
        "    with open('mfcc_data.csv', 'a') as mfcc_dataFile:\n",
        "        writer = csv.writer(mfcc_dataFile)\n",
        "        writer.writerows(x)\n",
        "    mfcc_dataFile.close()\n",
        "    with open('mfcc_label.csv', 'a') as mfcc_labelFile:\n",
        "        writer = csv.writer(mfcc_labelFile)\n",
        "        writer.writerows(y)\n",
        "    mfcc_labelFile.close()"
      ],
      "execution_count": 18,
      "outputs": [
        {
          "output_type": "stream",
          "text": [
            "CPU times: user 2 µs, sys: 0 ns, total: 2 µs\n",
            "Wall time: 5.48 µs\n"
          ],
          "name": "stdout"
        }
      ]
    },
    {
      "cell_type": "code",
      "metadata": {
        "id": "dAmw3NFOEp8p",
        "colab_type": "code",
        "outputId": "7fb9e3de-2956-4a76-a2ca-fed45f89a906",
        "colab": {
          "base_uri": "https://localhost:8080/",
          "height": 122
        }
      },
      "source": [
        "%%time\n",
        "x,y = s2c(mfcc=True,lpcc=False)\n",
        "\n",
        "#write_(x,y)\n",
        "print(x.shape,y.shape)\n",
        "\n",
        "\n",
        "u = np.unique(y)\n",
        "num_classes = len(u)\n",
        "#print(u)\n",
        "d = dict()\n",
        "for enu,key in enumerate(u,0):\n",
        "    d[key]=enu\n",
        "print(d)\n",
        "for i in range(len(y)):\n",
        "    y[i] = d[y[i]]"
      ],
      "execution_count": 19,
      "outputs": [
        {
          "output_type": "stream",
          "text": [
            "2620it [02:47, 10.81it/s]\n"
          ],
          "name": "stderr"
        },
        {
          "output_type": "stream",
          "text": [
            "(11806, 148, 20) (11806,)\n",
            "{'1089': 0, '1188': 1, '121': 2, '1221': 3, '1284': 4, '1320': 5, '1580': 6, '1995': 7, '2094': 8, '2300': 9, '237': 10, '260': 11, '2830': 12, '2961': 13, '3570': 14, '3575': 15, '3729': 16, '4077': 17, '4446': 18, '4507': 19, '4970': 20, '4992': 21, '5105': 22, '5142': 23, '5639': 24, '5683': 25, '61': 26, '672': 27, '6829': 28, '6930': 29, '7021': 30, '7127': 31, '7176': 32, '7729': 33, '8224': 34, '8230': 35, '8455': 36, '8463': 37, '8555': 38, '908': 39}\n",
            "CPU times: user 3min 4s, sys: 2min 18s, total: 5min 23s\n",
            "Wall time: 2min 47s\n"
          ],
          "name": "stdout"
        }
      ]
    },
    {
      "cell_type": "code",
      "metadata": {
        "id": "gbqqVr_6Ep9d",
        "colab_type": "code",
        "outputId": "da8d077f-aa7a-44ba-f536-b915fe73530c",
        "colab": {
          "base_uri": "https://localhost:8080/",
          "height": 85
        }
      },
      "source": [
        "X  = x.reshape(x.shape[0],x.shape[1],x.shape[2],1)\n",
        "print(X.shape)\n",
        "\n",
        "\n",
        "y_binary = keras.utils.to_categorical(y, num_classes = num_classes)\n",
        "print(y_binary.shape)\n",
        "\n",
        "x_train, x_test, y_train, y_test = train_test_split(X,y_binary ,test_size=0.20, shuffle= True)\n",
        "\n",
        "print(\"Training shape: {0}, Training label shape : {1}\".format(x_train.shape,y_train.shape))\n",
        "print(\"Training shape: {0}, Training label shape : {1}\".format(x_test.shape,y_test.shape))"
      ],
      "execution_count": 20,
      "outputs": [
        {
          "output_type": "stream",
          "text": [
            "(11806, 148, 20, 1)\n",
            "(11806, 40)\n",
            "Training shape: (9444, 148, 20, 1), Training label shape : (9444, 40)\n",
            "Training shape: (2362, 148, 20, 1), Training label shape : (2362, 40)\n"
          ],
          "name": "stdout"
        }
      ]
    },
    {
      "cell_type": "markdown",
      "metadata": {
        "id": "d1HwaUks6gKY",
        "colab_type": "text"
      },
      "source": [
        "# Creating CNN Architecture :"
      ]
    },
    {
      "cell_type": "code",
      "metadata": {
        "id": "cqpW8dQTnKt-",
        "colab_type": "code",
        "outputId": "66128d80-134c-4d92-b5f0-660253efb99e",
        "colab": {
          "base_uri": "https://localhost:8080/",
          "height": 51
        }
      },
      "source": [
        "%tensorflow_version 2.x\n",
        "import tensorflow \n",
        "device_name = tensorflow.test.gpu_device_name()\n",
        "if device_name != '/device:GPU:0':\n",
        "  raise SystemError('GPU device not found')\n",
        "print('Found GPU at: {}'.format(device_name))"
      ],
      "execution_count": 21,
      "outputs": [
        {
          "output_type": "stream",
          "text": [
            "TensorFlow is already loaded. Please restart the runtime to change versions.\n",
            "Found GPU at: /device:GPU:0\n"
          ],
          "name": "stdout"
        }
      ]
    },
    {
      "cell_type": "code",
      "metadata": {
        "id": "P6w-KrxMEp-O",
        "colab_type": "code",
        "outputId": "dd45aa41-66c9-4006-8fdf-f826a1bee424",
        "colab": {
          "base_uri": "https://localhost:8080/",
          "height": 54
        }
      },
      "source": [
        "\"\"\"%%time\n",
        "import numpy as np\n",
        "#import tensorflow.device('/device:GPU:0')\n",
        "import tensorflow.python.keras\n",
        "from tensorflow.python.keras.models import Sequential\n",
        "from tensorflow.python.keras.layers import Dense, Dropout, Flatten\n",
        "from tensorflow.python.keras.layers import Conv2D, MaxPooling2D\n",
        "from keras.optimizers import Adam\n",
        "\n",
        "model2 = Sequential()\n",
        "# input: 100x100 images with 3 channels -> (100, 100, 3) tensors.\n",
        "# this applies 32 convolution filters of size 3x3 each.\n",
        "model2.add(Conv2D(32, (3, 3), activation='relu', input_shape=(x.shape[1],x.shape[2],1)))\n",
        "\n",
        "model2.add(Conv2D(32, (3, 3), activation='relu'))\n",
        "model2.add(MaxPooling2D(pool_size=(2, 2)))\n",
        "model2.add(Dropout(0.5))\n",
        "\n",
        "model2.add(Conv2D(64, (3, 3), activation='relu'))\n",
        "\n",
        "model2.add(Conv2D(64, (3, 3), activation='relu'))\n",
        "model2.add(MaxPooling2D(pool_size=(2, 2)))\n",
        "model2.add(Dropout(0.5))\n",
        "model2.add(Flatten())\n",
        "\n",
        "model2.add(Dense(256, activation='relu'))\n",
        "model2.add(Dropout(0.5))\n",
        "\n",
        "model2.add(Dense(40, activation='softmax'))\n",
        "\n",
        "model2.compile(loss=\"categorical_crossentropy\", optimizer=\"adam\", metrics=['accuracy'])\n",
        "print(model2.summary())#Train and Test The Model\n",
        "\"\"\""
      ],
      "execution_count": 22,
      "outputs": [
        {
          "output_type": "execute_result",
          "data": {
            "text/plain": [
              "'%%time\\nimport numpy as np\\n#import tensorflow.device(\\'/device:GPU:0\\')\\nimport tensorflow.python.keras\\nfrom tensorflow.python.keras.models import Sequential\\nfrom tensorflow.python.keras.layers import Dense, Dropout, Flatten\\nfrom tensorflow.python.keras.layers import Conv2D, MaxPooling2D\\nfrom keras.optimizers import Adam\\n\\nmodel2 = Sequential()\\n# input: 100x100 images with 3 channels -> (100, 100, 3) tensors.\\n# this applies 32 convolution filters of size 3x3 each.\\nmodel2.add(Conv2D(32, (3, 3), activation=\\'relu\\', input_shape=(x.shape[1],x.shape[2],1)))\\n\\nmodel2.add(Conv2D(32, (3, 3), activation=\\'relu\\'))\\nmodel2.add(MaxPooling2D(pool_size=(2, 2)))\\nmodel2.add(Dropout(0.5))\\n\\nmodel2.add(Conv2D(64, (3, 3), activation=\\'relu\\'))\\n\\nmodel2.add(Conv2D(64, (3, 3), activation=\\'relu\\'))\\nmodel2.add(MaxPooling2D(pool_size=(2, 2)))\\nmodel2.add(Dropout(0.5))\\nmodel2.add(Flatten())\\n\\nmodel2.add(Dense(256, activation=\\'relu\\'))\\nmodel2.add(Dropout(0.5))\\n\\nmodel2.add(Dense(40, activation=\\'softmax\\'))\\n\\nmodel2.compile(loss=\"categorical_crossentropy\", optimizer=\"adam\", metrics=[\\'accuracy\\'])\\nprint(model2.summary())#Train and Test The Model\\n'"
            ]
          },
          "metadata": {
            "tags": []
          },
          "execution_count": 22
        }
      ]
    },
    {
      "cell_type": "code",
      "metadata": {
        "id": "EulSDA-nS7lu",
        "colab_type": "code",
        "outputId": "a25b4c40-9d46-4873-c806-289d0d6b0af6",
        "colab": {
          "base_uri": "https://localhost:8080/",
          "height": 714
        }
      },
      "source": [
        "\n",
        "import numpy as np\n",
        "import tensorflow.python.keras\n",
        "from tensorflow.python.keras.models import Sequential\n",
        "from tensorflow.python.keras.layers import Dense, Dropout, Flatten, BatchNormalization\n",
        "from tensorflow.python.keras.layers import Conv2D, MaxPooling2D\n",
        "from keras.optimizers import Adam\n",
        "\n",
        "model = Sequential()\n",
        "# input: 100x100 images with 3 channels -> (100, 100, 3) tensors.\n",
        "# this applies 32 convolution filters of size 3x3 each.\n",
        "model.add(Conv2D(32, (3, 3), activation='relu', input_shape=(x.shape[1],x.shape[2],1)))\n",
        "model.add(Conv2D(32, (3, 3), activation='relu'))\n",
        "model.add(MaxPooling2D(pool_size=(2, 2)))\n",
        "model.add(Dropout(0.5))\n",
        "#model.add(BatchNormalization())\n",
        "model.add(Conv2D(64, (3, 3), activation='relu'))\n",
        "model.add(Conv2D(64, (3, 3), activation='relu'))\n",
        "model.add(MaxPooling2D(pool_size=(2, 2)))\n",
        "model.add(Dropout(0.5))\n",
        "\n",
        "model.add(Flatten())\n",
        "#model.add(BatchNormalization())\n",
        "model.add(Dense(256, activation='relu'))\n",
        "model.add(Dropout(0.5))\n",
        "#model.add(BatchNormalization())\n",
        "model.add(Dense(128, activation='relu'))\n",
        "model.add(Dropout(0.5))\n",
        "#model.add(BatchNormalization())\n",
        "model.add(Dense(64, activation='relu'))\n",
        "model.add(Dropout(0.5))\n",
        "model.add(Dense(40, activation='softmax'))\n",
        "\n",
        "model.compile(loss=\"categorical_crossentropy\", optimizer=\"adam\", metrics=['accuracy'])\n",
        "print(model.summary())\n"
      ],
      "execution_count": 23,
      "outputs": [
        {
          "output_type": "stream",
          "text": [
            "Model: \"sequential\"\n",
            "_________________________________________________________________\n",
            "Layer (type)                 Output Shape              Param #   \n",
            "=================================================================\n",
            "conv2d (Conv2D)              (None, 146, 18, 32)       320       \n",
            "_________________________________________________________________\n",
            "conv2d_1 (Conv2D)            (None, 144, 16, 32)       9248      \n",
            "_________________________________________________________________\n",
            "max_pooling2d (MaxPooling2D) (None, 72, 8, 32)         0         \n",
            "_________________________________________________________________\n",
            "dropout (Dropout)            (None, 72, 8, 32)         0         \n",
            "_________________________________________________________________\n",
            "conv2d_2 (Conv2D)            (None, 70, 6, 64)         18496     \n",
            "_________________________________________________________________\n",
            "conv2d_3 (Conv2D)            (None, 68, 4, 64)         36928     \n",
            "_________________________________________________________________\n",
            "max_pooling2d_1 (MaxPooling2 (None, 34, 2, 64)         0         \n",
            "_________________________________________________________________\n",
            "dropout_1 (Dropout)          (None, 34, 2, 64)         0         \n",
            "_________________________________________________________________\n",
            "flatten (Flatten)            (None, 4352)              0         \n",
            "_________________________________________________________________\n",
            "dense (Dense)                (None, 256)               1114368   \n",
            "_________________________________________________________________\n",
            "dropout_2 (Dropout)          (None, 256)               0         \n",
            "_________________________________________________________________\n",
            "dense_1 (Dense)              (None, 128)               32896     \n",
            "_________________________________________________________________\n",
            "dropout_3 (Dropout)          (None, 128)               0         \n",
            "_________________________________________________________________\n",
            "dense_2 (Dense)              (None, 64)                8256      \n",
            "_________________________________________________________________\n",
            "dropout_4 (Dropout)          (None, 64)                0         \n",
            "_________________________________________________________________\n",
            "dense_3 (Dense)              (None, 40)                2600      \n",
            "=================================================================\n",
            "Total params: 1,223,112\n",
            "Trainable params: 1,223,112\n",
            "Non-trainable params: 0\n",
            "_________________________________________________________________\n",
            "None\n"
          ],
          "name": "stdout"
        }
      ]
    },
    {
      "cell_type": "code",
      "metadata": {
        "id": "0C4e0DA7Ep_K",
        "colab_type": "code",
        "colab": {}
      },
      "source": [
        "%%time\n",
        "from keras.callbacks import ModelCheckpoint\n",
        "# Saving the model that performed the best on the validation set\n",
        "checkpoint = ModelCheckpoint(filepath='Model.v_2.hdf5', save_best_only=True, verbose=0)\n",
        "\n",
        "# Training the model for 40 epochs\n",
        "history = model.fit(x_train, y_train, batch_size=64, epochs=200, \n",
        "                    validation_data=(x_test, y_test), verbose=1, callbacks=[checkpoint])"
      ],
      "execution_count": 0,
      "outputs": []
    },
    {
      "cell_type": "code",
      "metadata": {
        "id": "RwEThfog4WjM",
        "colab_type": "code",
        "outputId": "49ecc442-ab0b-4787-8451-6fafad8c5a8c",
        "colab": {
          "base_uri": "https://localhost:8080/",
          "height": 51
        }
      },
      "source": [
        "# Loading the model that performed the best on the validation set\n",
        "model.load_weights('Model.v_2.hdf5')\n",
        "\n",
        "# Testing the model on the Test data\n",
        "(loss, accuracy) = model.evaluate(x_test, y_test, batch_size=16, verbose=1)\n",
        "\n",
        "print('Accuracy on test data: {:.2f}%'.format(accuracy * 100))"
      ],
      "execution_count": 25,
      "outputs": [
        {
          "output_type": "stream",
          "text": [
            "2362/2362 [==============================] - 1s 287us/sample - loss: 0.5337 - accuracy: 0.8654\n",
            "Accuracy on test data: 86.54%\n"
          ],
          "name": "stdout"
        }
      ]
    },
    {
      "cell_type": "markdown",
      "metadata": {
        "id": "FF6XbgMm7MGZ",
        "colab_type": "text"
      },
      "source": [
        "# Plotting plot :"
      ]
    },
    {
      "cell_type": "markdown",
      "metadata": {
        "id": "mMj-6gUL7UYB",
        "colab_type": "text"
      },
      "source": [
        "\n",
        "\n",
        "1.   **accuracy_plot()** : This function plot graph between train accuracy vs validation/test accuracy\n",
        "2.   **loss_plot():** This function plot graph between train loss vs validation loss\n",
        "\n"
      ]
    },
    {
      "cell_type": "code",
      "metadata": {
        "id": "xpHMjtZGEp_9",
        "colab_type": "code",
        "colab": {}
      },
      "source": [
        "import keras\n",
        "from matplotlib import pyplot as plt\n",
        "def accuracy_plot(history):\n",
        "    plt.figure(figsize=(12,8))\n",
        "    plt.plot(history.history['accuracy'])\n",
        "    plt.plot(history.history['val_accuracy'])\n",
        "    plt.title('model accuracy')\n",
        "    plt.ylabel('accuracy')\n",
        "    plt.xlabel('epoch')\n",
        "    plt.legend(['train', 'val'], loc='upper left')\n",
        "    plt.grid()\n",
        "    plt.show()\n",
        "\n",
        "def loss_plot(history):\n",
        "    plt.figure(figsize=(12,8))\n",
        "    plt.plot(history.history['loss'])\n",
        "    plt.plot(history.history['val_loss'])\n",
        "    plt.title('model loss')\n",
        "    plt.ylabel('loss')\n",
        "    plt.xlabel('epoch')\n",
        "    plt.legend(['train', 'val'], loc='upper left')\n",
        "    plt.grid()\n",
        "    plt.show()"
      ],
      "execution_count": 0,
      "outputs": []
    },
    {
      "cell_type": "code",
      "metadata": {
        "id": "kzuVliqNEqBd",
        "colab_type": "code",
        "outputId": "a360f557-b0a4-4f00-e3be-a1e3959290a4",
        "colab": {
          "base_uri": "https://localhost:8080/",
          "height": 1000
        }
      },
      "source": [
        "\n",
        "accuracy_plot(history)\n",
        "loss_plot(history)"
      ],
      "execution_count": 27,
      "outputs": [
        {
          "output_type": "display_data",
          "data": {
            "image/png": "[encoded data removed]",
            "text/plain": [
              "<Figure size 864x576 with 1 Axes>"
            ]
          },
          "metadata": {
            "tags": []
          }
        },
        {
          "output_type": "display_data",
          "data": {
            "image/png": "[encoded data removed]",
            "text/plain": [
              "<Figure size 864x576 with 1 Axes>"
            ]
          },
          "metadata": {
            "tags": []
          }
        }
      ]
    },
    {
      "cell_type": "code",
      "metadata": {
        "id": "NgNfqbzP8D18",
        "colab_type": "code",
        "colab": {}
      },
      "source": [
        ""
      ],
      "execution_count": 0,
      "outputs": []
    }
  ]
}