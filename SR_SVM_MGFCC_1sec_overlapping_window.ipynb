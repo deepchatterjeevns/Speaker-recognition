{
  "nbformat": 4,
  "nbformat_minor": 0,
  "metadata": {
    "colab": {
      "name": "SR_SVM_MGFCC_1sec_overlapping_window.ipynb",
      "provenance": [],
      "include_colab_link": true
    },
    "kernelspec": {
      "name": "python3",
      "display_name": "Python 3"
    },
    "accelerator": "GPU"
  },
  "cells": [
    {
      "cell_type": "markdown",
      "metadata": {
        "id": "view-in-github",
        "colab_type": "text"
      },
      "source": [
        "<a href=\"https://colab.research.google.com/github/ritikraj660/Speaker-recognition/blob/master/SR_SVM_MGFCC_1sec_overlapping_window.ipynb\" target=\"_parent\"><img src=\"https://colab.research.google.com/assets/colab-badge.svg\" alt=\"Open In Colab\"/></a>"
      ]
    },
    {
      "cell_type": "code",
      "metadata": {
        "id": "xk59svCYCLhj",
        "colab_type": "code",
        "colab": {}
      },
      "source": [
        "#import os, signal\n",
        "#os.kill(os.getpid(), signal.SIGKILL)"
      ],
      "execution_count": 0,
      "outputs": []
    },
    {
      "cell_type": "code",
      "metadata": {
        "id": "hcyQfgosljmV",
        "colab_type": "code",
        "outputId": "bed5220f-658a-4e40-be65-5e22641e91cf",
        "colab": {
          "base_uri": "https://localhost:8080/",
          "height": 259
        }
      },
      "source": [
        "!pip install soundfile\n",
        "!pip install spafe"
      ],
      "execution_count": 1,
      "outputs": [
        {
          "output_type": "stream",
          "text": [
            "Collecting soundfile\n",
            "  Downloading https://files.pythonhosted.org/packages/eb/f2/3cbbbf3b96fb9fa91582c438b574cff3f45b29c772f94c400e2c99ef5db9/SoundFile-0.10.3.post1-py2.py3-none-any.whl\n",
            "Requirement already satisfied: cffi>=1.0 in /usr/local/lib/python3.6/dist-packages (from soundfile) (1.14.0)\n",
            "Requirement already satisfied: pycparser in /usr/local/lib/python3.6/dist-packages (from cffi>=1.0->soundfile) (2.20)\n",
            "Installing collected packages: soundfile\n",
            "Successfully installed soundfile-0.10.3.post1\n",
            "Collecting spafe\n",
            "\u001b[?25l  Downloading https://files.pythonhosted.org/packages/a9/d9/d92807657a5125318639aa1636c0a76fb87222d48b5c290996ed9d5be1b6/spafe-0.1.2-py3-none-any.whl (77kB)\n",
            "\u001b[K     |████████████████████████████████| 81kB 3.9MB/s \n",
            "\u001b[?25hRequirement already satisfied: scipy>=1.3.1 in /usr/local/lib/python3.6/dist-packages (from spafe) (1.4.1)\n",
            "Requirement already satisfied: numpy>=1.17.2 in /usr/local/lib/python3.6/dist-packages (from spafe) (1.18.5)\n",
            "Installing collected packages: spafe\n",
            "Successfully installed spafe-0.1.2\n"
          ],
          "name": "stdout"
        }
      ]
    },
    {
      "cell_type": "code",
      "metadata": {
        "id": "6t4Z8TJHmwGD",
        "colab_type": "code",
        "outputId": "4416f2ca-3398-42f8-b90d-1ba462f43eca",
        "colab": {
          "base_uri": "https://localhost:8080/",
          "height": 36
        }
      },
      "source": [
        "import tensorflow\n",
        "tensorflow.test.gpu_device_name() "
      ],
      "execution_count": 2,
      "outputs": [
        {
          "output_type": "execute_result",
          "data": {
            "text/plain": [
              "'/device:GPU:0'"
            ]
          },
          "metadata": {
            "tags": []
          },
          "execution_count": 2
        }
      ]
    },
    {
      "cell_type": "code",
      "metadata": {
        "id": "nXBlWpXQmxLw",
        "colab_type": "code",
        "colab": {}
      },
      "source": [
        "from pydrive.auth import GoogleAuth\n",
        "from pydrive.drive import GoogleDrive\n",
        "from google.colab import auth\n",
        "from oauth2client.client import GoogleCredentials"
      ],
      "execution_count": 0,
      "outputs": []
    },
    {
      "cell_type": "code",
      "metadata": {
        "id": "S8Pu4VcMmzl9",
        "colab_type": "code",
        "colab": {}
      },
      "source": [
        "auth.authenticate_user()\n",
        "gauth = GoogleAuth()\n",
        "gauth.credentials = GoogleCredentials.get_application_default()\n",
        "drive = GoogleDrive(gauth)"
      ],
      "execution_count": 0,
      "outputs": []
    },
    {
      "cell_type": "code",
      "metadata": {
        "id": "aYIQUREonGkL",
        "colab_type": "code",
        "outputId": "3e02d4ce-f439-4dfa-ae2c-26f107db3bb4",
        "colab": {
          "base_uri": "https://localhost:8080/",
          "height": 36
        }
      },
      "source": [
        "link = 'https://drive.google.com/file/d/1qxZWgx3vttou1HSvyxRDiOYWnaLAK9fj/view?usp=sharing'\n",
        "#fluff, id = link.split('=')\n",
        "id = '1qxZWgx3vttou1HSvyxRDiOYWnaLAK9fj'\n",
        "print (id) "
      ],
      "execution_count": 5,
      "outputs": [
        {
          "output_type": "stream",
          "text": [
            "1qxZWgx3vttou1HSvyxRDiOYWnaLAK9fj\n"
          ],
          "name": "stdout"
        }
      ]
    },
    {
      "cell_type": "code",
      "metadata": {
        "id": "7X6vFDeUm2qI",
        "colab_type": "code",
        "colab": {}
      },
      "source": [
        "import pandas as pd\n",
        "downloaded = drive.CreateFile({'id':id}) \n",
        "downloaded.GetContentFile('LibriSpeech.zip')  "
      ],
      "execution_count": 0,
      "outputs": []
    },
    {
      "cell_type": "code",
      "metadata": {
        "id": "DORbV6fsnAe7",
        "colab_type": "code",
        "outputId": "13cd2a06-4da6-4d5e-ec1d-0283b8590736",
        "colab": {
          "base_uri": "https://localhost:8080/",
          "height": 129
        }
      },
      "source": [
        "!pip install patool\n",
        "import os\n",
        "os.listdir()"
      ],
      "execution_count": 8,
      "outputs": [
        {
          "output_type": "stream",
          "text": [
            "Collecting patool\n",
            "\u001b[?25l  Downloading https://files.pythonhosted.org/packages/43/94/52243ddff508780dd2d8110964320ab4851134a55ab102285b46e740f76a/patool-1.12-py2.py3-none-any.whl (77kB)\n",
            "\r\u001b[K     |████▎                           | 10kB 19.4MB/s eta 0:00:01\r\u001b[K     |████████▌                       | 20kB 4.0MB/s eta 0:00:01\r\u001b[K     |████████████▊                   | 30kB 5.2MB/s eta 0:00:01\r\u001b[K     |█████████████████               | 40kB 5.4MB/s eta 0:00:01\r\u001b[K     |█████████████████████▏          | 51kB 4.6MB/s eta 0:00:01\r\u001b[K     |█████████████████████████▍      | 61kB 5.1MB/s eta 0:00:01\r\u001b[K     |█████████████████████████████▋  | 71kB 5.5MB/s eta 0:00:01\r\u001b[K     |████████████████████████████████| 81kB 3.9MB/s \n",
            "\u001b[?25hInstalling collected packages: patool\n",
            "Successfully installed patool-1.12\n"
          ],
          "name": "stdout"
        },
        {
          "output_type": "execute_result",
          "data": {
            "text/plain": [
              "['.config', 'adc.json', 'LibriSpeech.zip', 'sample_data']"
            ]
          },
          "metadata": {
            "tags": []
          },
          "execution_count": 8
        }
      ]
    },
    {
      "cell_type": "code",
      "metadata": {
        "id": "uLXzUt1VnOkB",
        "colab_type": "code",
        "outputId": "b68ca8c9-ff16-40d0-cdbf-7e5b0ee7fa65",
        "colab": {
          "base_uri": "https://localhost:8080/",
          "height": 110
        }
      },
      "source": [
        "%%time\n",
        "import patoolib\n",
        "patoolib.extract_archive(\"LibriSpeech.zip\")"
      ],
      "execution_count": 10,
      "outputs": [
        {
          "output_type": "stream",
          "text": [
            "patool: Extracting LibriSpeech.zip ...\n",
            "patool: running /usr/bin/7z x -o./Unpack_f50kd703 -- LibriSpeech.zip\n",
            "patool: ... LibriSpeech.zip extracted to `LibriSpeech1' (local file exists).\n",
            "CPU times: user 11.2 ms, sys: 20.6 ms, total: 31.8 ms\n",
            "Wall time: 556 ms\n"
          ],
          "name": "stdout"
        }
      ]
    },
    {
      "cell_type": "code",
      "metadata": {
        "id": "Rx-naY1jnRk1",
        "colab_type": "code",
        "outputId": "ab60d838-4398-4fa4-f8ac-5b4b08a1184e",
        "colab": {
          "base_uri": "https://localhost:8080/",
          "height": 36
        }
      },
      "source": [
        "import librosa\n",
        "import soundfile\n",
        "import tqdm\n",
        "from scipy.io import wavfile\n",
        "import glob\n",
        "import os,pickle\n",
        "import numpy as np\n",
        "from spafe.features.mfcc import mfcc, imfcc\n",
        "import csv\n",
        "import pandas as pd\n",
        "from tqdm import tqdm\n",
        "from sklearn.model_selection import train_test_split\n",
        "import numpy as np\n",
        "import tensorflow.python.keras\n",
        "from tensorflow.python.keras.models import Sequential\n",
        "from tensorflow.python.keras.layers import Dense, Dropout, Flatten, BatchNormalization\n",
        "from tensorflow.python.keras.layers import Conv2D, MaxPooling2D\n",
        "from keras.optimizers import SGD"
      ],
      "execution_count": 11,
      "outputs": [
        {
          "output_type": "stream",
          "text": [
            "Using TensorFlow backend.\n"
          ],
          "name": "stderr"
        }
      ]
    },
    {
      "cell_type": "markdown",
      "metadata": {
        "id": "lxXrNH__DKN9",
        "colab_type": "text"
      },
      "source": [
        "# New Section"
      ]
    },
    {
      "cell_type": "code",
      "metadata": {
        "id": "MBzHCtXXnVA1",
        "colab_type": "code",
        "colab": {}
      },
      "source": [
        "from spafe.features.lpc import lpc\n",
        "from spafe.features.gfcc import gfcc\n",
        "\n",
        "def mfcc_(sig,fs,cep,frame_overlapp):\n",
        "    mfccs  = mfcc(sig, fs=fs, num_ceps=cep, pre_emph=1, \n",
        "                  pre_emph_coeff=0.95,win_len=0.025, win_hop=frame_overlapp, win_type='hamming',\n",
        "                  nfilts=26, nfft=512, low_freq=None, high_freq=None, scale='constant', \n",
        "                  dct_type=2, use_energy=False, lifter=22)\n",
        "    #print(fs)\n",
        "    return mfccs\n",
        "\n",
        "def gfcc_(sig,fs,cep,frame_overlapp):\n",
        "  gfccs = gfcc(sig, fs=fs, num_ceps=cep, pre_emph=0, \n",
        "             pre_emph_coeff=0.97, win_len=0.025, win_hop=frame_overlapp, win_type='hamming', \n",
        "             nfilts=26, nfft=512, low_freq=None, high_freq=None, scale='constant', \n",
        "             dct_type=2, use_energy=False, lifter=22, normalize=1)\n",
        "  return gfccs\n",
        "\n",
        "# combine mfcc and gfcc ceptral features\n",
        "def gfcc_mfcc(y,sr,cep,frame_overlapp):\n",
        "    g = gfcc_(y,sr,cep,frame_overlapp)\n",
        "    m = mfcc_(y,sr,cep,frame_overlapp)\n",
        "    if g.shape[0] != m.shape[0]:\n",
        "        pass\n",
        "    result = np.zeros([g.shape[1]+m.shape[1]])\n",
        "    for i in range(g.shape[0]):\n",
        "        merge = np.concatenate((m[i],g[i]))\n",
        "        result = np.vstack((result,merge))\n",
        "    return result[1:,:]"
      ],
      "execution_count": 0,
      "outputs": []
    },
    {
      "cell_type": "code",
      "metadata": {
        "id": "yA85kmM7nxBe",
        "colab_type": "code",
        "colab": {}
      },
      "source": [
        "def label(user,total): # its creating lable for splited audio data\n",
        "    k_train = []\n",
        "    for i in range(total):\n",
        "        k_train.append(user)\n",
        "    y_train=np.array(k_train).T\n",
        "    return y_train"
      ],
      "execution_count": 0,
      "outputs": []
    },
    {
      "cell_type": "code",
      "metadata": {
        "id": "oRa8gDbjrNFh",
        "colab_type": "code",
        "colab": {}
      },
      "source": [
        "def audioLengthInSecond(sr,m,t_s):#t_s will gives time in second[1 for 1sec, 2 for 2sec]\n",
        "    t = round(sr/512) # Number of frames in one second\n",
        "    totalFrame = t*t_s # Number of frames in one second * time(second)\n",
        "    t1 = round(m.shape[0]/totalFrame) # total_audio_time/ t_s\n",
        "    #print(time_in_sec)\n",
        "    #print(\" Actual audio length in second :\",t1,\"\\n\",\"Number of frames in one second :\",t)\n",
        "    j=0\n",
        "    total = totalFrame*m.shape[1]\n",
        "    result = np.zeros([1,total])\n",
        "    #print(result.shape)\n",
        "    for i in range(t1):\n",
        "            temp = m[j:j+totalFrame,:].reshape(1,-1)\n",
        "            diff = total-temp.shape[1]\n",
        "            if round(total*0.3)>diff: # if more 30% padding need done then we will not add that audio file\n",
        "                #print(diff)\n",
        "                if diff!=0:\n",
        "                    temp = np.concatenate((temp[0,:],temp[0,diff:diff+diff])).reshape(1,-1)\n",
        "                #print(\"temp\",temp.shape)\n",
        "                result = np.concatenate((result,temp))\n",
        "                j += totalFrame\n",
        "            else:\n",
        "                pass\n",
        "    return result[1:,:]"
      ],
      "execution_count": 0,
      "outputs": []
    },
    {
      "cell_type": "code",
      "metadata": {
        "id": "qC-U22v0U7ih",
        "colab_type": "code",
        "colab": {}
      },
      "source": [
        "from pathlib import Path\n",
        "def s2c(mfcc=False,gmfcc=False,gfcc=False,cep=20,t_s=1, frame_overlapp = 0.01):\n",
        "    x,y=[],[]\n",
        "    if gmfcc==True:\n",
        "      ceps=cep+cep\n",
        "    else:\n",
        "      ceps=cep\n",
        "    t = round(16000/512)\n",
        "    totalFrame = t*t_s\n",
        "    total = totalFrame*ceps    \n",
        "    data = np.empty([1,total])\n",
        "    data_label = np.asarray([])\n",
        "    count =0  # E:\\dataset\\LibriSpeech\\dev-clean\n",
        "    #for file in tqdm(glob.iglob('/LibriSpeech/test-clean//**/*.flac', recursive=True)):\n",
        "    for file in Path('LibriSpeech/dev-clean').glob('**/*.flac'):\n",
        "        file_name=os.path.basename(file)\n",
        "        user = file_name.split(\"-\")[0]\n",
        "        #print(f)\n",
        "        with soundfile.SoundFile(file) as sound_file:\n",
        "                signal = sound_file.read(dtype=\"float32\")\n",
        "                sr=sound_file.samplerate\n",
        "        #signal = norm_(signal,mean = False)\n",
        "        #signal = zero_handling(signal)\n",
        "        #print(signal.shape,sr)\n",
        "        if mfcc:\n",
        "            feature = mfcc_(signal,sr,cep,frame_overlapp)\n",
        "            #print(feature.shape[0])\n",
        "        if gmfcc:\n",
        "            feature = gfcc_mfcc(signal,sr,cep,frame_overlapp)\n",
        "            ceps = feature.shape[1]   \n",
        "        #if feature.shape[0]>256:\n",
        "        if gfcc:\n",
        "            feature = gfcc_(signal,sr,cep,frame_overlapp)\n",
        "        #t_s = 1\n",
        "        re_data = audioLengthInSecond(sr,feature,t_s) # return (3,400)\n",
        "        #print(\"shape of feature return \",re_data.shape)\n",
        "        data=np.concatenate((data,re_data),axis=0)\n",
        "        #print(\"Updated data length\",data.shape)\n",
        "        re_label = label(user,re_data.shape[0])\n",
        "        data_label = np.concatenate((data_label,re_label),axis=0)\n",
        "    return data[1:,:],data_label"
      ],
      "execution_count": 0,
      "outputs": []
    },
    {
      "cell_type": "code",
      "metadata": {
        "id": "SK39L9gupDO2",
        "colab_type": "code",
        "colab": {}
      },
      "source": [
        "def pre_pro(mfcc=False,gmfcc=True,gfcc=False,cep=20,dim=1,t_s=1,frame_overlapp = 0.01):\n",
        "  \n",
        "  x,y = s2c(mfcc=mfcc,gmfcc=gmfcc,gfcc=gfcc,cep=cep,t_s=t_s,frame_overlapp = frame_overlapp)\n",
        "  #write_(x,y)\n",
        "  print(x.shape,y.shape,type(x),type(y))\n",
        "  if dim ==2:\n",
        "    if gmfcc == True:\n",
        "      ceps = cep+cep\n",
        "    else:\n",
        "      ceps = cep   \n",
        "    d = np.empty([1,round(x.shape[1]/ceps),ceps])\n",
        "    for i in tqdm(range(x.shape[0])):\n",
        "      t = np.reshape(x[i],(1,-1,40))\n",
        "      d = np.concatenate((d,t),axis=0)\n",
        "    print(d.shape)\n",
        "    x=d\n",
        "  return x,y  "
      ],
      "execution_count": 0,
      "outputs": []
    },
    {
      "cell_type": "code",
      "metadata": {
        "id": "qigx27vfYJpb",
        "colab_type": "code",
        "outputId": "b6c24ba0-494e-44e8-9462-5e6e341e854b",
        "colab": {
          "base_uri": "https://localhost:8080/",
          "height": 54
        }
      },
      "source": [
        "%%time\n",
        "def x_y(mfcc=False,gmfcc=True,gfcc=False,cep=20,dim=1,t_s=2,frame_overlapp = 0.01):\n",
        "  x,y = pre_pro(mfcc=False,gmfcc=True,gfcc=False,cep=20,dim=1,t_s=2,frame_overlapp = frame_overlapp)\n",
        "  u = np.unique(y)\n",
        "  num_classes = len(u)\n",
        "  #print(u)\n",
        "  d = dict()\n",
        "  for enu,key in enumerate(u,0):\n",
        "      d[key]=enu\n",
        "  print(d)\n",
        "  for i in range(len(y)):\n",
        "      y[i] = d[y[i]]\n",
        "  return x,y    "
      ],
      "execution_count": 17,
      "outputs": [
        {
          "output_type": "stream",
          "text": [
            "CPU times: user 6 µs, sys: 0 ns, total: 6 µs\n",
            "Wall time: 20.5 µs\n"
          ],
          "name": "stdout"
        }
      ]
    },
    {
      "cell_type": "code",
      "metadata": {
        "id": "sUUYoIwMKx3p",
        "colab_type": "code",
        "colab": {}
      },
      "source": [
        ""
      ],
      "execution_count": 0,
      "outputs": []
    },
    {
      "cell_type": "code",
      "metadata": {
        "id": "C3GFCnSCOhQi",
        "colab_type": "code",
        "colab": {}
      },
      "source": [
        ""
      ],
      "execution_count": 0,
      "outputs": []
    },
    {
      "cell_type": "markdown",
      "metadata": {
        "id": "NX8bh2HHnZA_",
        "colab_type": "text"
      },
      "source": [
        "# SVM"
      ]
    },
    {
      "cell_type": "code",
      "metadata": {
        "id": "f_xqmREHY_Ms",
        "colab_type": "code",
        "outputId": "9b11cf68-a903-4c4e-d5e7-e70cf2437627",
        "colab": {
          "base_uri": "https://localhost:8080/",
          "height": 54
        }
      },
      "source": [
        "from sklearn.metrics import confusion_matrix\n",
        "import matplotlib.pyplot as plt\n",
        "import pandas.util.testing as tm\n",
        "import seaborn as sns\n",
        "from sklearn.datasets import make_classification\n",
        "from sklearn.svm import SVC\n",
        "from sklearn.multiclass import OneVsOneClassifier\n",
        "from sklearn.metrics import accuracy_score\n",
        "def svm_(mfcc=False,gmfcc=False,gfcc=False,cep=20,dim=1,t_s=1,frame_overlapp = 0.01):\n",
        "  x,y = x_y(mfcc=mfcc,gmfcc=gmfcc,gfcc=gfcc,cep=cep,dim=1,t_s=t_s,frame_overlapp = frame_overlapp)\n",
        "  x_train, x_test, y_train, y_test = train_test_split(x,y ,test_size=0.20, shuffle= True)\n",
        "\n",
        "  print(\"Training shape: {0}, Training label shape : {1}\".format(x_train.shape,y_train.shape))\n",
        "  print(\"Training shape: {0}, Training label shape : {1}\".format(x_test.shape,y_test.shape))\n",
        "\n",
        "  print(\"Enteres into model moking\")\n",
        "  model = SVC(C=1.0, kernel='rbf', degree=3, gamma='scale', coef0=0.0, \n",
        "                shrinking=True, probability=True, tol=0.001, cache_size=200, \n",
        "                class_weight=None, verbose=False, max_iter=-1, decision_function_shape='ovr',\n",
        "                break_ties=False, random_state=None)\n",
        "  # fit model\n",
        "  print(\"Entering into training Model\")\n",
        "  his = model.fit(x_train, y_train)\n",
        "  # make predictions\n",
        "  print(\"entering into predicting value\")\n",
        "  yhat = model.predict(x_test)\n",
        "  acc = accuracy_score(y_test,yhat)\n",
        "  print(acc)\n",
        "  conf_mat = confusion_matrix(y_test, yhat)\n",
        "  fig, ax = plt.subplots(figsize=(10,10))\n",
        "  sns.heatmap(conf_mat, annot=True, fmt='d',\n",
        "              xticklabels=[0,1,2,3,4,5,6,7,8,9], yticklabels=[0,1,2,3,4,5,6,7,8,9])\n",
        "  plt.ylabel('Actual')\n",
        "  plt.xlabel('Predicted')\n",
        "  plt.show()\n",
        "\n"
      ],
      "execution_count": 18,
      "outputs": [
        {
          "output_type": "stream",
          "text": [
            "/usr/local/lib/python3.6/dist-packages/ipykernel_launcher.py:3: FutureWarning: pandas.util.testing is deprecated. Use the functions in the public API at pandas.testing instead.\n",
            "  This is separate from the ipykernel package so we can avoid doing imports until\n"
          ],
          "name": "stderr"
        }
      ]
    },
    {
      "cell_type": "code",
      "metadata": {
        "id": "GnDyr3qPGtot",
        "colab_type": "code",
        "colab": {}
      },
      "source": [
        "#svm_(mfcc=False,gmfcc=True,gfcc=False,cep=20,dim=1,t_s=1,frame_overlapp = 0.005)"
      ],
      "execution_count": 0,
      "outputs": []
    },
    {
      "cell_type": "code",
      "metadata": {
        "id": "EBOzAJQPwnB_",
        "colab_type": "code",
        "outputId": "28709884-15f6-41d8-d271-4fa602570db2",
        "colab": {
          "base_uri": "https://localhost:8080/",
          "height": 36
        }
      },
      "source": [
        "cep_fea = ['mfcc','gfcc','gmfcc']\n",
        "cep_num = [16,18,19,20,22]\n",
        "time_ = [2,3,4,5]\n",
        "win_over = [0.015,0.01,0.0075,0.005]\n",
        "print(cep_fea,cep_num,time_,win_over)"
      ],
      "execution_count": 20,
      "outputs": [
        {
          "output_type": "stream",
          "text": [
            "['mfcc', 'gfcc', 'gmfcc'] [16, 18, 19, 20, 22] [2, 3, 4, 5] [0.015, 0.01, 0.0075, 0.005]\n"
          ],
          "name": "stdout"
        }
      ]
    },
    {
      "cell_type": "code",
      "metadata": {
        "id": "eQmsuLb3OZ0_",
        "colab_type": "code",
        "outputId": "4d0919ad-556c-4efe-cda4-3fea60dede00",
        "colab": {
          "base_uri": "https://localhost:8080/",
          "height": 1000
        }
      },
      "source": [
        "for i in win_over:\n",
        "    print(\"*****************************************************************************\")\n",
        "    print(\"***************time = 1 second, Cepstral feature= MFCC+GFCC, Frame Overlapping {}**********************\".format(i))\n",
        "    print(\"*****************************************************************************\")\n",
        "    #if i == 0.01:\n",
        "    svm_(mfcc=False,gmfcc=True,gfcc=False,cep=20,dim=1,t_s=1,frame_overlapp = i)\n",
        "      #speaker(batch_sizes=16,epoch=200,mfcc=m,gmfcc=gm,gfcc=g,cep=20,dim=1,t_s=j,frame_overlapp = 0.01)\n",
        "      #%%time\n",
        "    print(\"*****************************************************************************\")\n",
        "    print(\"*****************************************************************************\")\n",
        "\n",
        "      "
      ],
      "execution_count": 21,
      "outputs": [
        {
          "output_type": "stream",
          "text": [
            "*****************************************************************************\n",
            "***************time = 1 second, Cepstral feature= MFCC+GFCC, Frame Overlapping 0.015**********************\n",
            "*****************************************************************************\n",
            "(5093, 2480) (5093,) <class 'numpy.ndarray'> <class 'numpy.ndarray'>\n",
            "{'1272': 0, '1462': 1, '1673': 2, '174': 3, '1919': 4, '251': 5, '422': 6, '652': 7, '777': 8, '84': 9}\n",
            "Training shape: (4074, 2480), Training label shape : (4074,)\n",
            "Training shape: (1019, 2480), Training label shape : (1019,)\n",
            "Enteres into model moking\n",
            "Entering into training Model\n",
            "entering into predicting value\n",
            "0.5839057899901865\n"
          ],
          "name": "stdout"
        },
        {
          "output_type": "display_data",
          "data": {
            "image/png": "[encoded data removed]",
            "text/plain": [
              "<Figure size 720x720 with 2 Axes>"
            ]
          },
          "metadata": {
            "tags": [],
            "needs_background": "light"
          }
        },
        {
          "output_type": "stream",
          "text": [
            "*****************************************************************************\n",
            "*****************************************************************************\n",
            "*****************************************************************************\n",
            "***************time = 1 second, Cepstral feature= MFCC+GFCC, Frame Overlapping 0.01**********************\n",
            "*****************************************************************************\n",
            "(7704, 2480) (7704,) <class 'numpy.ndarray'> <class 'numpy.ndarray'>\n",
            "{'1272': 0, '1462': 1, '1673': 2, '174': 3, '1919': 4, '251': 5, '422': 6, '652': 7, '777': 8, '84': 9}\n",
            "Training shape: (6163, 2480), Training label shape : (6163,)\n",
            "Training shape: (1541, 2480), Training label shape : (1541,)\n",
            "Enteres into model moking\n",
            "Entering into training Model\n",
            "entering into predicting value\n",
            "0.7650876054510058\n"
          ],
          "name": "stdout"
        },
        {
          "output_type": "display_data",
          "data": {
            "image/png": "[encoded data removed]",
            "text/plain": [
              "<Figure size 720x720 with 2 Axes>"
            ]
          },
          "metadata": {
            "tags": [],
            "needs_background": "light"
          }
        },
        {
          "output_type": "stream",
          "text": [
            "*****************************************************************************\n",
            "*****************************************************************************\n",
            "*****************************************************************************\n",
            "***************time = 1 second, Cepstral feature= MFCC+GFCC, Frame Overlapping 0.0075**********************\n",
            "*****************************************************************************\n",
            "(10306, 2480) (10306,) <class 'numpy.ndarray'> <class 'numpy.ndarray'>\n",
            "{'1272': 0, '1462': 1, '1673': 2, '174': 3, '1919': 4, '251': 5, '422': 6, '652': 7, '777': 8, '84': 9}\n",
            "Training shape: (8244, 2480), Training label shape : (8244,)\n",
            "Training shape: (2062, 2480), Training label shape : (2062,)\n",
            "Enteres into model moking\n",
            "Entering into training Model\n",
            "entering into predicting value\n",
            "0.8132880698351116\n"
          ],
          "name": "stdout"
        },
        {
          "output_type": "display_data",
          "data": {
            "image/png": "[encoded data removed]",
            "text/plain": [
              "<Figure size 720x720 with 2 Axes>"
            ]
          },
          "metadata": {
            "tags": [],
            "needs_background": "light"
          }
        },
        {
          "output_type": "stream",
          "text": [
            "*****************************************************************************\n",
            "*****************************************************************************\n",
            "*****************************************************************************\n",
            "***************time = 1 second, Cepstral feature= MFCC+GFCC, Frame Overlapping 0.005**********************\n",
            "*****************************************************************************\n",
            "(15540, 2480) (15540,) <class 'numpy.ndarray'> <class 'numpy.ndarray'>\n",
            "{'1272': 0, '1462': 1, '1673': 2, '174': 3, '1919': 4, '251': 5, '422': 6, '652': 7, '777': 8, '84': 9}\n",
            "Training shape: (12432, 2480), Training label shape : (12432,)\n",
            "Training shape: (3108, 2480), Training label shape : (3108,)\n",
            "Enteres into model moking\n",
            "Entering into training Model\n",
            "entering into predicting value\n",
            "0.8761261261261262\n"
          ],
          "name": "stdout"
        },
        {
          "output_type": "display_data",
          "data": {
            "image/png": "[encoded data removed]",
            "text/plain": [
              "<Figure size 720x720 with 2 Axes>"
            ]
          },
          "metadata": {
            "tags": [],
            "needs_background": "light"
          }
        },
        {
          "output_type": "stream",
          "text": [
            "*****************************************************************************\n",
            "*****************************************************************************\n"
          ],
          "name": "stdout"
        }
      ]
    },
    {
      "cell_type": "code",
      "metadata": {
        "id": "dCa7b2PCdNQu",
        "colab_type": "code",
        "colab": {}
      },
      "source": [
        ""
      ],
      "execution_count": 0,
      "outputs": []
    }
  ]
}