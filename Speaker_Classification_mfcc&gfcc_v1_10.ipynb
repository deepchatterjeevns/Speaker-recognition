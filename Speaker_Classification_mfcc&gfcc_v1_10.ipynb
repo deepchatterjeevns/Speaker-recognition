{
  "nbformat": 4,
  "nbformat_minor": 0,
  "metadata": {
    "kernelspec": {
      "name": "python3",
      "display_name": "Python 3"
    },
    "language_info": {
      "codemirror_mode": {
        "name": "ipython",
        "version": 3
      },
      "file_extension": ".py",
      "mimetype": "text/x-python",
      "name": "python",
      "nbconvert_exporter": "python",
      "pygments_lexer": "ipython3",
      "version": "3.6.9"
    },
    "colab": {
      "name": "Speaker_Classification_mfcc&gfcc_v1_10.ipynb",
      "provenance": [],
      "collapsed_sections": [
        "qlUm3WDCPrt_"
      ],
      "include_colab_link": true
    },
    "accelerator": "GPU"
  },
  "cells": [
    {
      "cell_type": "markdown",
      "metadata": {
        "id": "view-in-github",
        "colab_type": "text"
      },
      "source": [
        "<a href=\"https://colab.research.google.com/github/ritikraj660/Speaker-recognition/blob/master/Speaker_Classification_mfcc%26gfcc_v1_10.ipynb\" target=\"_parent\"><img src=\"https://colab.research.google.com/assets/colab-badge.svg\" alt=\"Open In Colab\"/></a>"
      ]
    },
    {
      "cell_type": "markdown",
      "metadata": {
        "id": "CpNLfJBO1-WH",
        "colab_type": "text"
      },
      "source": [
        "# Installing Packages:"
      ]
    },
    {
      "cell_type": "code",
      "metadata": {
        "id": "wj01p9v5K199",
        "colab_type": "code",
        "colab": {}
      },
      "source": [
        "#!pip install --upgrade tensorflow-gpu"
      ],
      "execution_count": 0,
      "outputs": []
    },
    {
      "cell_type": "code",
      "metadata": {
        "id": "9RXw9shFmGBg",
        "colab_type": "code",
        "colab": {}
      },
      "source": [
        "!pip install soundfile\n",
        "!pip install spafe"
      ],
      "execution_count": 0,
      "outputs": []
    },
    {
      "cell_type": "code",
      "metadata": {
        "id": "rBgxeaV6jtiB",
        "colab_type": "code",
        "outputId": "28ba0af9-193b-426a-8139-68c8a6c8149f",
        "colab": {
          "base_uri": "https://localhost:8080/",
          "height": 34
        }
      },
      "source": [
        "import tensorflow\n",
        "tensorflow.test.gpu_device_name() "
      ],
      "execution_count": 0,
      "outputs": [
        {
          "output_type": "execute_result",
          "data": {
            "text/plain": [
              "'/device:GPU:0'"
            ]
          },
          "metadata": {
            "tags": []
          },
          "execution_count": 3
        }
      ]
    },
    {
      "cell_type": "markdown",
      "metadata": {
        "id": "x0XYclYb2NlS",
        "colab_type": "text"
      },
      "source": [
        "# Import Data from Drive :"
      ]
    },
    {
      "cell_type": "code",
      "metadata": {
        "id": "o7LFfT5dOyO6",
        "colab_type": "code",
        "colab": {}
      },
      "source": [
        "from pydrive.auth import GoogleAuth\n",
        "from pydrive.drive import GoogleDrive\n",
        "from google.colab import auth\n",
        "from oauth2client.client import GoogleCredentials"
      ],
      "execution_count": 0,
      "outputs": []
    },
    {
      "cell_type": "code",
      "metadata": {
        "id": "ulBEeHGOPVb5",
        "colab_type": "code",
        "colab": {}
      },
      "source": [
        "auth.authenticate_user()\n",
        "gauth = GoogleAuth()\n",
        "gauth.credentials = GoogleCredentials.get_application_default()\n",
        "drive = GoogleDrive(gauth)"
      ],
      "execution_count": 0,
      "outputs": []
    },
    {
      "cell_type": "code",
      "metadata": {
        "id": "bFtoL6s2PVFJ",
        "colab_type": "code",
        "outputId": "ed5ecef0-6fc4-4c21-bf44-3153dda1e39d",
        "colab": {
          "base_uri": "https://localhost:8080/",
          "height": 34
        }
      },
      "source": [
        "link = 'https://drive.google.com/file/d/1qxZWgx3vttou1HSvyxRDiOYWnaLAK9fj/view?usp=sharing'\n",
        "#fluff, id = link.split('=')\n",
        "id = '1qxZWgx3vttou1HSvyxRDiOYWnaLAK9fj'\n",
        "print (id) "
      ],
      "execution_count": 0,
      "outputs": [
        {
          "output_type": "stream",
          "text": [
            "1qxZWgx3vttou1HSvyxRDiOYWnaLAK9fj\n"
          ],
          "name": "stdout"
        }
      ]
    },
    {
      "cell_type": "code",
      "metadata": {
        "id": "GpzvACTgPyj0",
        "colab_type": "code",
        "colab": {}
      },
      "source": [
        "import pandas as pd\n",
        "downloaded = drive.CreateFile({'id':id}) \n",
        "downloaded.GetContentFile('LibriSpeech.zip')  "
      ],
      "execution_count": 0,
      "outputs": []
    },
    {
      "cell_type": "markdown",
      "metadata": {
        "id": "MCRUyoks2WwX",
        "colab_type": "text"
      },
      "source": [
        "# Extracting Data from (.)rar"
      ]
    },
    {
      "cell_type": "code",
      "metadata": {
        "id": "PUsfP_J5PySI",
        "colab_type": "code",
        "colab": {}
      },
      "source": [
        "!pip install patool"
      ],
      "execution_count": 0,
      "outputs": []
    },
    {
      "cell_type": "code",
      "metadata": {
        "id": "ffyDpxaCSgDx",
        "colab_type": "code",
        "outputId": "db7dcffa-893a-437c-d312-b1651bffd452",
        "colab": {
          "base_uri": "https://localhost:8080/",
          "height": 34
        }
      },
      "source": [
        "import os\n",
        "os.listdir()"
      ],
      "execution_count": 0,
      "outputs": [
        {
          "output_type": "execute_result",
          "data": {
            "text/plain": [
              "['.config', 'adc.json', 'LibriSpeech.zip', 'sample_data']"
            ]
          },
          "metadata": {
            "tags": []
          },
          "execution_count": 9
        }
      ]
    },
    {
      "cell_type": "code",
      "metadata": {
        "id": "CH0Ug5BPShB8",
        "colab_type": "code",
        "outputId": "17ba6938-3740-41d9-ce8a-c5b3b7f4ad0f",
        "colab": {
          "base_uri": "https://localhost:8080/",
          "height": 102
        }
      },
      "source": [
        "%%time\n",
        "import patoolib\n",
        "patoolib.extract_archive(\"LibriSpeech.zip\")"
      ],
      "execution_count": 0,
      "outputs": [
        {
          "output_type": "stream",
          "text": [
            "patool: Extracting LibriSpeech.zip ...\n",
            "patool: running /usr/bin/7z x -o./Unpack_b_4evn2t -- LibriSpeech.zip\n",
            "patool: ... LibriSpeech.zip extracted to `LibriSpeech'.\n",
            "CPU times: user 15.5 ms, sys: 16.2 ms, total: 31.7 ms\n",
            "Wall time: 662 ms\n"
          ],
          "name": "stdout"
        }
      ]
    },
    {
      "cell_type": "markdown",
      "metadata": {
        "id": "fcQzszcy2htw",
        "colab_type": "text"
      },
      "source": [
        "# Audio Data Preprocessing :"
      ]
    },
    {
      "cell_type": "code",
      "metadata": {
        "id": "Von9Wv-VP_1g",
        "colab_type": "code",
        "outputId": "72b00176-55d5-43be-861f-9ce46f3d9d64",
        "colab": {
          "base_uri": "https://localhost:8080/",
          "height": 34
        }
      },
      "source": [
        "import librosa\n",
        "import soundfile\n",
        "import tqdm\n",
        "from scipy.io import wavfile\n",
        "import glob\n",
        "import os,pickle\n",
        "import numpy as np\n",
        "from spafe.features.mfcc import mfcc, imfcc\n",
        "import csv\n",
        "import pandas as pd\n",
        "from tqdm import tqdm\n",
        "from sklearn.model_selection import train_test_split\n",
        "import numpy as np\n",
        "import tensorflow.python.keras\n",
        "from tensorflow.python.keras.models import Sequential\n",
        "from tensorflow.python.keras.layers import Dense, Dropout, Flatten, BatchNormalization\n",
        "from tensorflow.python.keras.layers import Conv2D, MaxPooling2D\n",
        "from keras.optimizers import SGD"
      ],
      "execution_count": 0,
      "outputs": [
        {
          "output_type": "stream",
          "text": [
            "Using TensorFlow backend.\n"
          ],
          "name": "stderr"
        }
      ]
    },
    {
      "cell_type": "code",
      "metadata": {
        "id": "73C5dhr-me2y",
        "colab_type": "code",
        "colab": {}
      },
      "source": [
        "def norm_(x,mean = False):\n",
        "    if mean == True:\n",
        "        return (x - np.mean(x)) / (np.max(x) - np.min(x)) #normalization                             \n",
        "    else:\n",
        "        return (x-np.mean(x)/np.std(x)) #standardization\n",
        "\n",
        "def zero_handling(x):\n",
        "    \"\"\"\n",
        "    handle the issue with zero values if they are exposed to become an argument\n",
        "    for any log function.\n",
        "\n",
        "    Returns:\n",
        "        vector with zeros substituted with epsilon values.\n",
        "    \"\"\"\n",
        "    return np.where(x == float(0), np.finfo(float).eps, x)"
      ],
      "execution_count": 0,
      "outputs": []
    },
    {
      "cell_type": "code",
      "metadata": {
        "id": "mSPPghULme23",
        "colab_type": "code",
        "colab": {}
      },
      "source": [
        "from spafe.features.lpc import lpc\n",
        "from spafe.features.gfcc import gfcc\n",
        "\n",
        "def mfcc_(sig,fs,cep):\n",
        "    mfccs  = mfcc(sig, fs=fs, num_ceps=cep, pre_emph=1, pre_emph_coeff=0.95, \n",
        "              win_len=0.025, win_hop=0.01, win_type='hamming', nfilts=26, \n",
        "              nfft=512, low_freq=None, high_freq=None, scale='constant', \n",
        "              dct_type=2, use_energy=False, lifter=22)\n",
        "    #print(fs)\n",
        "    return mfccs\n",
        "\n",
        "def gfcc_(sig,fs,cep):\n",
        "  gfccs = gfcc(sig, fs=fs, num_ceps=cep, pre_emph=0, \n",
        "             pre_emph_coeff=0.97, win_len=0.025, win_hop=0.01, win_type='hamming', \n",
        "             nfilts=26, nfft=512, low_freq=None, high_freq=None, scale='constant', \n",
        "             dct_type=2, use_energy=False, lifter=22, normalize=1)\n",
        "  return gfccs\n",
        "\n",
        "# combine mfcc and gfcc ceptral features\n",
        "def gfcc_mfcc(y,sr,cep):\n",
        "    g = gfcc_(y,sr,cep)\n",
        "    m = mfcc_(y,sr,cep)\n",
        "    if g.shape[0] != m.shape[0]:\n",
        "        pass\n",
        "    result = np.zeros([g.shape[1]+m.shape[1]])\n",
        "    for i in range(g.shape[0]):\n",
        "        merge = np.concatenate((m[i],g[i]))\n",
        "        result = np.vstack((result,merge))\n",
        "    return result[1:,:]"
      ],
      "execution_count": 0,
      "outputs": []
    },
    {
      "cell_type": "code",
      "metadata": {
        "id": "xaE6275lme26",
        "colab_type": "code",
        "colab": {}
      },
      "source": [
        "def label(user,total): # its creating lable for splited audio data\n",
        "    k_train = []\n",
        "    for i in range(total):\n",
        "        k_train.append(user)\n",
        "    y_train=np.array(k_train).T\n",
        "    return y_train"
      ],
      "execution_count": 0,
      "outputs": []
    },
    {
      "cell_type": "code",
      "metadata": {
        "id": "aV0iqD15me3D",
        "colab_type": "code",
        "colab": {}
      },
      "source": [
        "from pathlib import Path\n",
        "len_audio = 148\n",
        "def s2c(mfcc=False,gmfcc=False,gfcc=False,cep=20):\n",
        "    x,y=[],[]\n",
        "    if gmfcc==True:\n",
        "      ceps=cep+cep\n",
        "    else:\n",
        "      ceps=cep  \n",
        "    data = np.empty([1,len_audio,ceps])\n",
        "    data_label = np.asarray([])\n",
        "    count =0  # E:\\dataset\\LibriSpeech\\dev-clean\n",
        "    #for file in tqdm(glob.iglob('/LibriSpeech/test-clean//**/*.flac', recursive=True)):\n",
        "    for file in tqdm(Path('LibriSpeech/dev-clean').glob('**/*.flac')):\n",
        "        file_name=os.path.basename(file)\n",
        "        user = file_name.split(\"-\")[0]\n",
        "        #print(f)\n",
        "        with soundfile.SoundFile(file) as sound_file:\n",
        "                signal = sound_file.read(dtype=\"float32\")\n",
        "                sr=sound_file.samplerate\n",
        "        signal = norm_(signal,mean = False)\n",
        "        signal = zero_handling(signal)\n",
        "        \n",
        "        if mfcc:\n",
        "            feature = mfcc_(signal,sr,cep)\n",
        "            #print(feature.shape[0])\n",
        "        if gmfcc:\n",
        "            feature = gfcc_mfcc(signal,sr,cep)\n",
        "            ceps = feature.shape[1]   \n",
        "        #if feature.shape[0]>256:\n",
        "        if gfcc:\n",
        "            feature = gfcc_(signal,sr,cep)\n",
        "\n",
        "        quotient = int(feature.shape[0]/len_audio)\n",
        "        end_index = feature.shape[0]-(feature.shape[0]%len_audio)\n",
        "        r = feature[0:end_index,:]\n",
        "        re_data = np.reshape(r,(-1,len_audio,ceps)) #b = np.reshape(a, (8, 3, -1))\n",
        "        data=np.concatenate((data,re_data),axis=0)\n",
        "        \n",
        "        re_label = label(user,quotient)\n",
        "        data_label = np.concatenate((data_label,re_label),axis=0)\n",
        "    return data[1:,:,:],data_label"
      ],
      "execution_count": 0,
      "outputs": []
    },
    {
      "cell_type": "code",
      "metadata": {
        "id": "atS_es2Ame3Z",
        "colab_type": "code",
        "outputId": "c0398217-0975-4373-cbee-05cbb6a8ed1e",
        "colab": {
          "base_uri": "https://localhost:8080/",
          "height": 51
        }
      },
      "source": [
        "%%time\n",
        "def write_(x,y):\n",
        "    with open('mfcc_data.csv', 'a') as mfcc_dataFile:\n",
        "        writer = csv.writer(mfcc_dataFile)\n",
        "        writer.writerows(x)\n",
        "    mfcc_dataFile.close()\n",
        "    with open('mfcc_label.csv', 'a') as mfcc_labelFile:\n",
        "        writer = csv.writer(mfcc_labelFile)\n",
        "        writer.writerows(y)\n",
        "    mfcc_labelFile.close()"
      ],
      "execution_count": 0,
      "outputs": [
        {
          "output_type": "stream",
          "text": [
            "CPU times: user 3 µs, sys: 0 ns, total: 3 µs\n",
            "Wall time: 5.96 µs\n"
          ],
          "name": "stdout"
        }
      ]
    },
    {
      "cell_type": "code",
      "metadata": {
        "id": "dAmw3NFOEp8p",
        "colab_type": "code",
        "outputId": "e75521d1-f65e-4906-951d-249d4b4100bb",
        "colab": {
          "base_uri": "https://localhost:8080/",
          "height": 102
        }
      },
      "source": [
        "%%time\n",
        "x,y = s2c(mfcc=False,gmfcc=True,gfcc=False,cep=20)\n",
        "\n",
        "#write_(x,y)\n",
        "print(x.shape,y.shape)\n",
        "\n",
        "\n",
        "u = np.unique(y)\n",
        "num_classes = len(u)\n",
        "#print(u)\n",
        "d = dict()\n",
        "for enu,key in enumerate(u,0):\n",
        "    d[key]=enu\n",
        "print(d)\n",
        "for i in range(len(y)):\n",
        "    y[i] = d[y[i]]"
      ],
      "execution_count": 0,
      "outputs": [
        {
          "output_type": "stream",
          "text": [
            "661it [00:59, 11.11it/s]"
          ],
          "name": "stderr"
        },
        {
          "output_type": "stream",
          "text": [
            "(2950, 148, 40) (2950,)\n",
            "{'1272': 0, '1462': 1, '1673': 2, '174': 3, '1919': 4, '251': 5, '422': 6, '652': 7, '777': 8, '84': 9}\n",
            "CPU times: user 1min 3s, sys: 46.6 s, total: 1min 50s\n",
            "Wall time: 59.5 s\n"
          ],
          "name": "stdout"
        },
        {
          "output_type": "stream",
          "text": [
            "\n"
          ],
          "name": "stderr"
        }
      ]
    },
    {
      "cell_type": "code",
      "metadata": {
        "id": "gbqqVr_6Ep9d",
        "colab_type": "code",
        "outputId": "81871149-6517-4d73-e15a-421a50f43021",
        "colab": {
          "base_uri": "https://localhost:8080/",
          "height": 187
        }
      },
      "source": [
        "X  = x.reshape(x.shape[0],x.shape[1],x.shape[2],1)\n",
        "print(X.shape)\n",
        "import keras\n",
        "\n",
        "y_binary = keras.utils.to_categorical(y, num_classes = 10)\n",
        "#y_binary = np.asarray(list(map(int,y)))\n",
        "print(y_binary)\n",
        "\n",
        "x_train, x_test, y_train, y_test = train_test_split(X,y_binary ,test_size=0.20, shuffle= True)\n",
        "\n",
        "print(\"Training shape: {0}, Training label shape : {1}\".format(x_train.shape,y_train.shape))\n",
        "print(\"Training shape: {0}, Training label shape : {1}\".format(x_test.shape,y_test.shape))"
      ],
      "execution_count": 0,
      "outputs": [
        {
          "output_type": "stream",
          "text": [
            "(2950, 148, 40, 1)\n",
            "[[0. 0. 0. ... 0. 0. 0.]\n",
            " [0. 0. 0. ... 0. 0. 0.]\n",
            " [0. 0. 0. ... 0. 0. 0.]\n",
            " ...\n",
            " [0. 0. 1. ... 0. 0. 0.]\n",
            " [0. 0. 1. ... 0. 0. 0.]\n",
            " [0. 0. 1. ... 0. 0. 0.]]\n",
            "Training shape: (2360, 148, 40, 1), Training label shape : (2360, 10)\n",
            "Training shape: (590, 148, 40, 1), Training label shape : (590, 10)\n"
          ],
          "name": "stdout"
        }
      ]
    },
    {
      "cell_type": "markdown",
      "metadata": {
        "id": "FF6XbgMm7MGZ",
        "colab_type": "text"
      },
      "source": [
        "# Plotting plot :"
      ]
    },
    {
      "cell_type": "markdown",
      "metadata": {
        "id": "mMj-6gUL7UYB",
        "colab_type": "text"
      },
      "source": [
        "\n",
        "\n",
        "1.   **accuracy_plot()** : This function plot graph between train accuracy vs validation/test accuracy\n",
        "2.   **loss_plot():** This function plot graph between train loss vs validation loss\n",
        "\n"
      ]
    },
    {
      "cell_type": "code",
      "metadata": {
        "id": "xpHMjtZGEp_9",
        "colab_type": "code",
        "colab": {}
      },
      "source": [
        "import keras\n",
        "from matplotlib import pyplot as plt\n",
        "def accuracy_plot(history):\n",
        "    #plt.figure(figsize=(12,8))\n",
        "    plt.plot(history.history['accuracy'])\n",
        "    plt.plot(history.history['val_accuracy'])\n",
        "    plt.title('model accuracy')\n",
        "    plt.ylabel('accuracy')\n",
        "    plt.xlabel('epoch')\n",
        "    plt.legend(['train', 'val'], loc='upper left')\n",
        "    plt.grid()\n",
        "    plt.show()\n",
        "\n",
        "def loss_plot(history):\n",
        "    #plt.figure(figsize=(12,8))\n",
        "    plt.plot(history.history['loss'])\n",
        "    plt.plot(history.history['val_loss'])\n",
        "    plt.title('model loss')\n",
        "    plt.ylabel('loss')\n",
        "    plt.xlabel('epoch')\n",
        "    plt.legend(['train', 'val'], loc='upper left')\n",
        "    plt.grid()\n",
        "    plt.show()"
      ],
      "execution_count": 0,
      "outputs": []
    },
    {
      "cell_type": "code",
      "metadata": {
        "id": "kzuVliqNEqBd",
        "colab_type": "code",
        "colab": {}
      },
      "source": [
        ""
      ],
      "execution_count": 0,
      "outputs": []
    },
    {
      "cell_type": "code",
      "metadata": {
        "id": "mNwKuBxHgY0d",
        "colab_type": "code",
        "colab": {}
      },
      "source": [
        "\"\"\"\n",
        "def audioLengthInSecond(sr,m,t_s):#t_s will gives time in second[1 for 1sec, 2 for 2sec]\n",
        "    t = round(sr/512) # Number of frames in one second\n",
        "    totalFrame = t*t_s # Number of frames in one second * time(second)\n",
        "    t1 = round(m.shape[0]/totalFrame) # total_audio_time/ t_s\n",
        "    #print(time_in_sec)\n",
        "    #print(\" Actual audio length in second :\",t1,\"\\n\",\"Number of frames in one second :\",t)\n",
        "    j=0\n",
        "    total = totalFrame*m.shape[1]\n",
        "    result = np.zeros([1,total])\n",
        "    #print(result.shape)\n",
        "    for i in range(t1):\n",
        "            temp = m[j:j+totalFrame,:].reshape(1,-1)\n",
        "            diff = total-temp.shape[1]\n",
        "            if round(total*0.3)>diff: # if more 30% padding need done then we will not add that audio file\n",
        "                #print(diff)\n",
        "                if diff!=0:\n",
        "                    temp = np.concatenate((temp[0,:],temp[0,diff:diff+diff])).reshape(1,-1)\n",
        "                #print(\"temp\",temp.shape)\n",
        "                result = np.concatenate((result,temp))\n",
        "                j += totalFrame\n",
        "            else:\n",
        "                pass\n",
        "    return result[1:,:]\n",
        "t_s=2\n",
        "r = audioLengthInSecond(sr,m,t_s)\n",
        "print(r.shape)\n",
        "\"\"\""
      ],
      "execution_count": 0,
      "outputs": []
    },
    {
      "cell_type": "markdown",
      "metadata": {
        "id": "d1HwaUks6gKY",
        "colab_type": "text"
      },
      "source": [
        "# Creating CNN Architecture :"
      ]
    },
    {
      "cell_type": "code",
      "metadata": {
        "id": "cqpW8dQTnKt-",
        "colab_type": "code",
        "outputId": "fb351487-70f3-42b8-bb3f-80325f84df46",
        "colab": {
          "base_uri": "https://localhost:8080/",
          "height": 34
        }
      },
      "source": [
        "%tensorflow_version 2.x\n",
        "import tensorflow \n",
        "device_name = tensorflow.test.gpu_device_name()\n",
        "if device_name != '/device:GPU:0':\n",
        "  raise SystemError('GPU device not found')\n",
        "print('Found GPU at: {}'.format(device_name))"
      ],
      "execution_count": 0,
      "outputs": [
        {
          "output_type": "stream",
          "text": [
            "Found GPU at: /device:GPU:0\n"
          ],
          "name": "stdout"
        }
      ]
    },
    {
      "cell_type": "code",
      "metadata": {
        "id": "zQfNxWMM1L5F",
        "colab_type": "code",
        "colab": {}
      },
      "source": [
        "from tensorflow.keras.optimizers import SGD\n",
        "from tensorflow.python.keras.callbacks import ModelCheckpoint\n",
        "\"\"\"\n",
        "def CNN_model_training(x_train,y_train,x_text,y_test,output_size,epoch = 500,batch_sizes = 16):\n",
        "\n",
        "  model = Sequential()\n",
        "  model.add(Conv2D(32, (3, 3), activation='relu', input_shape=(x.shape[1],x.shape[2],1)))\n",
        "\n",
        "  model.add(Conv2D(32, (3, 3), activation='relu'))\n",
        "  model.add(MaxPooling2D(pool_size=(2, 2)))\n",
        "  model.add(Dropout(0.5))\n",
        "\n",
        "  model.add(Conv2D(64, (3, 3), activation='relu'))\n",
        "\n",
        "  model.add(Conv2D(64, (3, 3), activation='relu'))\n",
        "  model.add(MaxPooling2D(pool_size=(2, 2)))\n",
        "  model.add(Dropout(0.5))\n",
        "  model.add(Flatten())\n",
        "\n",
        "  model.add(Dense(256, activation='relu'))\n",
        "  model.add(Dropout(0.5))\n",
        "\n",
        "  model.add(Dense(output_size, activation='softmax'))\n",
        "  opt = SGD(lr=0.001, momentum=0.9)                        #optimizer=keras.optimizers.Adam()\n",
        "  model.compile(loss=keras.losses.categorical_crossentropy, optimizer=opt, metrics=['accuracy'])\n",
        "  print(model.summary())\n",
        "  \n",
        "  # Saving the model that performed the best on the validation set\n",
        "  checkpoint = ModelCheckpoint(filepath='Model.v_2.hdf5', save_best_only=True, verbose=0)\n",
        "\n",
        "\n",
        "\n",
        "  history = model.fit(x_train, y_train, batch_size = batch_sizes, epochs=epoch, \n",
        "                      validation_data=(x_test, y_test), verbose=0, callbacks=[checkpoint])\n",
        "  accuracy_plot(history)\n",
        "  loss_plot(history)                    \n",
        "\"\"\""
      ],
      "execution_count": 0,
      "outputs": []
    },
    {
      "cell_type": "code",
      "metadata": {
        "id": "EulSDA-nS7lu",
        "colab_type": "code",
        "outputId": "d4d7adc6-52dc-4aeb-dea0-d59a09f3f877",
        "colab": {
          "base_uri": "https://localhost:8080/",
          "height": 578
        }
      },
      "source": [
        "from tensorflow.keras.optimizers import SGD\n",
        "\n",
        "model = Sequential()\n",
        "model.add(Conv2D(32, (3, 3), activation='relu', input_shape=(x.shape[1],x.shape[2],1)))\n",
        "\n",
        "model.add(Conv2D(32, (3, 3), activation='relu'))\n",
        "model.add(MaxPooling2D(pool_size=(2, 2)))\n",
        "model.add(Dropout(0.5))\n",
        "\n",
        "model.add(Conv2D(64, (3, 3), activation='relu'))\n",
        "\n",
        "model.add(Conv2D(64, (3, 3), activation='relu'))\n",
        "model.add(MaxPooling2D(pool_size=(2, 2)))\n",
        "model.add(Dropout(0.5))\n",
        "model.add(Flatten())\n",
        "\n",
        "model.add(Dense(256, activation='relu'))\n",
        "model.add(Dropout(0.5))\n",
        "\n",
        "model.add(Dense(10, activation='softmax'))\n",
        "opt = SGD(lr=0.001, momentum=0.9)                        #optimizer=keras.optimizers.Adam()\n",
        "model.compile(loss=keras.losses.categorical_crossentropy, optimizer=opt, metrics=['accuracy'])\n",
        "print(model.summary())\n",
        "\n",
        "\n"
      ],
      "execution_count": 0,
      "outputs": [
        {
          "output_type": "stream",
          "text": [
            "Model: \"sequential\"\n",
            "_________________________________________________________________\n",
            "Layer (type)                 Output Shape              Param #   \n",
            "=================================================================\n",
            "conv2d (Conv2D)              (None, 146, 38, 32)       320       \n",
            "_________________________________________________________________\n",
            "conv2d_1 (Conv2D)            (None, 144, 36, 32)       9248      \n",
            "_________________________________________________________________\n",
            "max_pooling2d (MaxPooling2D) (None, 72, 18, 32)        0         \n",
            "_________________________________________________________________\n",
            "dropout (Dropout)            (None, 72, 18, 32)        0         \n",
            "_________________________________________________________________\n",
            "conv2d_2 (Conv2D)            (None, 70, 16, 64)        18496     \n",
            "_________________________________________________________________\n",
            "conv2d_3 (Conv2D)            (None, 68, 14, 64)        36928     \n",
            "_________________________________________________________________\n",
            "max_pooling2d_1 (MaxPooling2 (None, 34, 7, 64)         0         \n",
            "_________________________________________________________________\n",
            "dropout_1 (Dropout)          (None, 34, 7, 64)         0         \n",
            "_________________________________________________________________\n",
            "flatten (Flatten)            (None, 15232)             0         \n",
            "_________________________________________________________________\n",
            "dense (Dense)                (None, 256)               3899648   \n",
            "_________________________________________________________________\n",
            "dropout_2 (Dropout)          (None, 256)               0         \n",
            "_________________________________________________________________\n",
            "dense_1 (Dense)              (None, 10)                2570      \n",
            "=================================================================\n",
            "Total params: 3,967,210\n",
            "Trainable params: 3,967,210\n",
            "Non-trainable params: 0\n",
            "_________________________________________________________________\n",
            "None\n"
          ],
          "name": "stdout"
        }
      ]
    },
    {
      "cell_type": "code",
      "metadata": {
        "id": "0C4e0DA7Ep_K",
        "colab_type": "code",
        "colab": {}
      },
      "source": [
        "%%time\n",
        "epoch = 200\n",
        "batch_sizes = 16\n",
        "from tensorflow.python.keras.callbacks import ModelCheckpoint\n",
        "# Saving the model that performed the best on the validation set\n",
        "checkpoint = ModelCheckpoint(filepath='Model.v_2.hdf5', save_best_only=True, verbose=0)\n",
        "\n",
        "\n",
        "\n",
        "history = model.fit(x_train, y_train, batch_size = batch_sizes, epochs=epoch, \n",
        "                    validation_data=(x_test, y_test), verbose=1, callbacks=[checkpoint])"
      ],
      "execution_count": 0,
      "outputs": []
    },
    {
      "cell_type": "code",
      "metadata": {
        "id": "RwEThfog4WjM",
        "colab_type": "code",
        "outputId": "8fd950c8-d18d-4d41-9205-6121ada32daf",
        "colab": {
          "base_uri": "https://localhost:8080/",
          "height": 51
        }
      },
      "source": [
        "#Loading the model that performed the best on the validation set\n",
        "model.load_weights('Model.v_2.hdf5')\n",
        "\n",
        "# Testing the model on the Test data\n",
        "(loss, accuracy) = model.evaluate(x_test, y_test, batch_size=16, verbose=1)\n",
        "\n",
        "print('Accuracy on test data: {:.2f}%'.format(accuracy * 100))"
      ],
      "execution_count": 0,
      "outputs": [
        {
          "output_type": "stream",
          "text": [
            "37/37 [==============================] - 0s 7ms/step - loss: 0.0973 - accuracy: 0.9746\n",
            "Accuracy on test data: 97.46%\n"
          ],
          "name": "stdout"
        }
      ]
    },
    {
      "cell_type": "code",
      "metadata": {
        "id": "UGOIOWkoZBRf",
        "colab_type": "code",
        "outputId": "15afa0da-f537-4fc4-ac63-380b1ef45f00",
        "colab": {
          "base_uri": "https://localhost:8080/",
          "height": 573
        }
      },
      "source": [
        "accuracy_plot(history)\n",
        "loss_plot(history)"
      ],
      "execution_count": 0,
      "outputs": [
        {
          "output_type": "display_data",
          "data": {
            "image/png": "[encoded data removed]",
            "text/plain": [
              "<Figure size 432x288 with 1 Axes>"
            ]
          },
          "metadata": {
            "tags": [],
            "needs_background": "light"
          }
        },
        {
          "output_type": "display_data",
          "data": {
            "image/png": "[encoded data removed]",
            "text/plain": [
              "<Figure size 432x288 with 1 Axes>"
            ]
          },
          "metadata": {
            "tags": [],
            "needs_background": "light"
          }
        }
      ]
    },
    {
      "cell_type": "code",
      "metadata": {
        "id": "VguE_JJZZqoG",
        "colab_type": "code",
        "cellView": "form",
        "colab": {}
      },
      "source": [
        "#@title\n",
        "from sklearn.metrics import accuracy_score\n",
        "from sklearn.metrics import precision_score\n",
        "from sklearn.metrics import recall_score\n",
        "from sklearn.metrics import f1_score\n",
        "from sklearn.metrics import cohen_kappa_score\n",
        "from sklearn.metrics import roc_auc_score\n",
        "from sklearn.metrics import confusion_matrix"
      ],
      "execution_count": 0,
      "outputs": []
    },
    {
      "cell_type": "code",
      "metadata": {
        "id": "QUMQL7i0ZGnF",
        "colab_type": "code",
        "cellView": "form",
        "colab": {}
      },
      "source": [
        "#@title\n",
        "yhat_probs = model.predict(x_test, verbose=0)  #np.argmax(model.predict(x), axis=-1)\n",
        "# predict crisp classes for test set\n",
        "yhat_classes = model.predict_classes(x_test, verbose=0)\n",
        "print(yhat_probs.shape,yhat_classes.shape)"
      ],
      "execution_count": 0,
      "outputs": []
    },
    {
      "cell_type": "code",
      "metadata": {
        "id": "siPeFSBIZPc_",
        "colab_type": "code",
        "cellView": "form",
        "colab": {}
      },
      "source": [
        "#@title\n",
        "# reduce to 1d array\n",
        "yhat_probs = yhat_probs[:, 0]\n",
        "#yhat_classes = yhat_classes[:, 0]"
      ],
      "execution_count": 0,
      "outputs": []
    },
    {
      "cell_type": "code",
      "metadata": {
        "id": "kh65OShvZcuS",
        "colab_type": "code",
        "cellView": "form",
        "colab": {}
      },
      "source": [
        "#@title\n",
        "# accuracy: (tp + tn) / (p + n)\n",
        "accuracy = accuracy_score(y_test, yhat_classes)\n",
        "print('Accuracy: %f' % accuracy)\n",
        "# precision tp / (tp + fp)\n",
        "precision = precision_score(y_test, yhat_classes)\n",
        "print('Precision: %f' % precision)\n",
        "# recall: tp / (tp + fn)\n",
        "recall = recall_score(y_test, yhat_classes)\n",
        "print('Recall: %f' % recall)\n",
        "# f1: 2 tp / (2 tp + fp + fn)\n",
        "f1 = f1_score(y_test, yhat_classes)\n",
        "print('F1 score: %f' % f1)"
      ],
      "execution_count": 0,
      "outputs": []
    },
    {
      "cell_type": "code",
      "metadata": {
        "id": "sM5fF4DXZi3M",
        "colab_type": "code",
        "cellView": "form",
        "colab": {}
      },
      "source": [
        "#@title\n",
        "# kappa\n",
        "kappa = cohen_kappa_score(y_test, yhat_classes)\n",
        "print('Cohens kappa: %f' % kappa)\n",
        "# ROC AUC\n",
        "auc = roc_auc_score(y_test, yhat_probs)\n",
        "print('ROC AUC: %f' % auc)\n",
        "# confusion matrix\n",
        "matrix = confusion_matrix(y_test, yhat_classes)\n",
        "print(matrix)"
      ],
      "execution_count": 0,
      "outputs": []
    },
    {
      "cell_type": "code",
      "metadata": {
        "id": "gdSAF2cy3E0X",
        "colab_type": "code",
        "colab": {}
      },
      "source": [
        "import os, signal\n",
        "os.kill(os.getpid(), signal.SIGKILL)"
      ],
      "execution_count": 0,
      "outputs": []
    },
    {
      "cell_type": "markdown",
      "metadata": {
        "id": "qlUm3WDCPrt_",
        "colab_type": "text"
      },
      "source": [
        "# VGG16"
      ]
    },
    {
      "cell_type": "code",
      "metadata": {
        "id": "BiyIHBtrPu2B",
        "colab_type": "code",
        "colab": {}
      },
      "source": [
        "\"\"\"model1 = Sequential()\n",
        "model1.add(Conv2D(input_shape=(x.shape[1],x.shape[2],1),filters=64,kernel_size=(3,3),padding=\"same\", activation=\"relu\"))\n",
        "model1.add(Conv2D(filters=64,kernel_size=(3,3),padding=\"same\", activation=\"relu\"))\n",
        "\n",
        "model1.add(MaxPooling2D(pool_size=(2,2),strides=(2,2)))\n",
        "\n",
        "model1.add(Conv2D(filters=128, kernel_size=(3,3), padding=\"same\", activation=\"relu\"))\n",
        "model1.add(Conv2D(filters=128, kernel_size=(3,3), padding=\"same\", activation=\"relu\"))\n",
        "\n",
        "model1.add(MaxPooling2D(pool_size=(2,2),strides=(1,1)))\n",
        "\n",
        "model1.add(Conv2D(filters=256, kernel_size=(3,3), padding=\"same\", activation=\"relu\"))\n",
        "model1.add(Conv2D(filters=256, kernel_size=(3,3), padding=\"same\", activation=\"relu\"))\n",
        "model1.add(Conv2D(filters=256, kernel_size=(3,3), padding=\"same\", activation=\"relu\"))\n",
        "\n",
        "model1.add(MaxPooling2D(pool_size=(2,2),strides=(2,2)))\n",
        "\n",
        "model1.add(Conv2D(filters=512, kernel_size=(3,3), pāadding=\"same\", activation=\"relu\"))\n",
        "model1.add(Conv2D(filters=512, kernel_size=(3,3), padding=\"same\", activation=\"relu\"))\n",
        "model1.add(Conv2D(filters=512, kernel_size=(3,3), padding=\"same\", activation=\"relu\"))\n",
        "\n",
        "model1.add(MaxPooling2D(pool_size=(2,2),strides=(2,2)))\n",
        "\n",
        "model1.add(Conv2D(filters=128, kernel_size=(3,3), padding=\"same\", activation=\"relu\"))\n",
        "model1.add(Conv2D(filters=128, kernel_size=(3,3), padding=\"same\", activation=\"relu\"))\n",
        "model1.add(Conv2D(filters=512, kernel_size=(3,3), padding=\"same\", activation=\"relu\"))\n",
        "\n",
        "model1.add(MaxPooling2D(pool_size=(2,2),strides=(2,2)))\n",
        "\n",
        "model1.add(Flatten())\n",
        "model1.add(Dense(units=128,activation=\"relu\"))\n",
        "model1.add(Dense(units=128,activation=\"relu\"))\n",
        "model1.add(Dense(units=40, activation=\"softmax\"))\n",
        "print(model1.summary())\n",
        "model1.compile(loss=\"sparse_categorical_crossentropy\", optimizer=\"adam\", metrics=['accuracy'])\n",
        "\"\"\""
      ],
      "execution_count": 0,
      "outputs": []
    },
    {
      "cell_type": "code",
      "metadata": {
        "id": "PQXJf-duQKpE",
        "colab_type": "code",
        "colab": {}
      },
      "source": [
        "\"\"\"%%time\n",
        "from keras.callbacks import ModelCheckpoint\n",
        "# Saving the model that performed the best on the validation set\n",
        "checkpoint = ModelCheckpoint(filepath='Model.v_2.hdf5', save_best_only=True, verbose=0)\n",
        "\n",
        "# Training the model for 40 epochs\n",
        "history = model1.fit(x_train, y_train, batch_size=32, epochs=200, \n",
        "                    validation_data=(x_test, y_test), verbose=1, callbacks=[checkpoint])\"\"\""
      ],
      "execution_count": 0,
      "outputs": []
    },
    {
      "cell_type": "code",
      "metadata": {
        "id": "Mwac_IauQMVC",
        "colab_type": "code",
        "colab": {}
      },
      "source": [
        "\"\"\"# Loading the model that performed the best on the validation set\n",
        "model1.load_weights('Model.v_2.hdf5')\n",
        "\n",
        "# Testing the model on the Test data\n",
        "(loss, accuracy) = model1.evaluate(x_test, y_test, batch_size=128, verbose=1)\n",
        "\n",
        "print('Accuracy on test data: {:.2f}%'.format(accuracy * 100))\"\"\""
      ],
      "execution_count": 0,
      "outputs": []
    }
  ]
}