{
  "nbformat": 4,
  "nbformat_minor": 0,
  "metadata": {
    "kernelspec": {
      "name": "python3",
      "display_name": "Python 3"
    },
    "language_info": {
      "codemirror_mode": {
        "name": "ipython",
        "version": 3
      },
      "file_extension": ".py",
      "mimetype": "text/x-python",
      "name": "python",
      "nbconvert_exporter": "python",
      "pygments_lexer": "ipython3",
      "version": "3.6.9"
    },
    "colab": {
      "name": "Speaker_Classification_gfcc_v1_10.ipynb",
      "provenance": [],
      "collapsed_sections": [
        "qlUm3WDCPrt_"
      ],
      "toc_visible": true,
      "include_colab_link": true
    },
    "accelerator": "GPU"
  },
  "cells": [
    {
      "cell_type": "markdown",
      "metadata": {
        "id": "view-in-github",
        "colab_type": "text"
      },
      "source": [
        "<a href=\"https://colab.research.google.com/github/ritikraj660/Speaker-recognition/blob/master/Speaker_Classification_gfcc_v1_10.ipynb\" target=\"_parent\"><img src=\"https://colab.research.google.com/assets/colab-badge.svg\" alt=\"Open In Colab\"/></a>"
      ]
    },
    {
      "cell_type": "markdown",
      "metadata": {
        "id": "CpNLfJBO1-WH",
        "colab_type": "text"
      },
      "source": [
        "# Installing Packages:"
      ]
    },
    {
      "cell_type": "code",
      "metadata": {
        "id": "wj01p9v5K199",
        "colab_type": "code",
        "colab": {}
      },
      "source": [
        "#!pip install --upgrade tensorflow-gpu"
      ],
      "execution_count": 0,
      "outputs": []
    },
    {
      "cell_type": "code",
      "metadata": {
        "id": "9RXw9shFmGBg",
        "colab_type": "code",
        "outputId": "b3140fd4-22e1-421a-c987-917bd30ae648",
        "colab": {
          "base_uri": "https://localhost:8080/",
          "height": 258
        }
      },
      "source": [
        "!pip install soundfile\n",
        "!pip install spafe"
      ],
      "execution_count": 1,
      "outputs": [
        {
          "output_type": "stream",
          "text": [
            "Collecting soundfile\n",
            "  Downloading https://files.pythonhosted.org/packages/eb/f2/3cbbbf3b96fb9fa91582c438b574cff3f45b29c772f94c400e2c99ef5db9/SoundFile-0.10.3.post1-py2.py3-none-any.whl\n",
            "Requirement already satisfied: cffi>=1.0 in /usr/local/lib/python3.6/dist-packages (from soundfile) (1.14.0)\n",
            "Requirement already satisfied: pycparser in /usr/local/lib/python3.6/dist-packages (from cffi>=1.0->soundfile) (2.20)\n",
            "Installing collected packages: soundfile\n",
            "Successfully installed soundfile-0.10.3.post1\n",
            "Collecting spafe\n",
            "\u001b[?25l  Downloading https://files.pythonhosted.org/packages/a9/d9/d92807657a5125318639aa1636c0a76fb87222d48b5c290996ed9d5be1b6/spafe-0.1.2-py3-none-any.whl (77kB)\n",
            "\u001b[K     |████████████████████████████████| 81kB 2.5MB/s \n",
            "\u001b[?25hRequirement already satisfied: numpy>=1.17.2 in /usr/local/lib/python3.6/dist-packages (from spafe) (1.18.4)\n",
            "Requirement already satisfied: scipy>=1.3.1 in /usr/local/lib/python3.6/dist-packages (from spafe) (1.4.1)\n",
            "Installing collected packages: spafe\n",
            "Successfully installed spafe-0.1.2\n"
          ],
          "name": "stdout"
        }
      ]
    },
    {
      "cell_type": "code",
      "metadata": {
        "id": "rBgxeaV6jtiB",
        "colab_type": "code",
        "outputId": "fbf4b4d3-9817-4bdb-f37a-bc46335e385f",
        "colab": {
          "base_uri": "https://localhost:8080/",
          "height": 34
        }
      },
      "source": [
        "import tensorflow\n",
        "tensorflow.test.gpu_device_name() "
      ],
      "execution_count": 2,
      "outputs": [
        {
          "output_type": "execute_result",
          "data": {
            "text/plain": [
              "'/device:GPU:0'"
            ]
          },
          "metadata": {
            "tags": []
          },
          "execution_count": 2
        }
      ]
    },
    {
      "cell_type": "markdown",
      "metadata": {
        "id": "x0XYclYb2NlS",
        "colab_type": "text"
      },
      "source": [
        "# Import Data from Drive :"
      ]
    },
    {
      "cell_type": "code",
      "metadata": {
        "id": "o7LFfT5dOyO6",
        "colab_type": "code",
        "colab": {}
      },
      "source": [
        "from pydrive.auth import GoogleAuth\n",
        "from pydrive.drive import GoogleDrive\n",
        "from google.colab import auth\n",
        "from oauth2client.client import GoogleCredentials"
      ],
      "execution_count": 0,
      "outputs": []
    },
    {
      "cell_type": "code",
      "metadata": {
        "id": "ulBEeHGOPVb5",
        "colab_type": "code",
        "colab": {}
      },
      "source": [
        "auth.authenticate_user()\n",
        "gauth = GoogleAuth()\n",
        "gauth.credentials = GoogleCredentials.get_application_default()\n",
        "drive = GoogleDrive(gauth)"
      ],
      "execution_count": 0,
      "outputs": []
    },
    {
      "cell_type": "code",
      "metadata": {
        "id": "bFtoL6s2PVFJ",
        "colab_type": "code",
        "outputId": "caca7915-2738-4a78-e927-6c0f0b608478",
        "colab": {
          "base_uri": "https://localhost:8080/",
          "height": 34
        }
      },
      "source": [
        "link = 'https://drive.google.com/file/d/1qxZWgx3vttou1HSvyxRDiOYWnaLAK9fj/view?usp=sharing'\n",
        "#fluff, id = link.split('=')\n",
        "id = '1qxZWgx3vttou1HSvyxRDiOYWnaLAK9fj'\n",
        "print (id) "
      ],
      "execution_count": 5,
      "outputs": [
        {
          "output_type": "stream",
          "text": [
            "1qxZWgx3vttou1HSvyxRDiOYWnaLAK9fj\n"
          ],
          "name": "stdout"
        }
      ]
    },
    {
      "cell_type": "code",
      "metadata": {
        "id": "GpzvACTgPyj0",
        "colab_type": "code",
        "colab": {}
      },
      "source": [
        "import pandas as pd\n",
        "downloaded = drive.CreateFile({'id':id}) \n",
        "downloaded.GetContentFile('LibriSpeech.zip')  "
      ],
      "execution_count": 0,
      "outputs": []
    },
    {
      "cell_type": "markdown",
      "metadata": {
        "id": "MCRUyoks2WwX",
        "colab_type": "text"
      },
      "source": [
        "# Extracting Data from (.)rar"
      ]
    },
    {
      "cell_type": "code",
      "metadata": {
        "id": "PUsfP_J5PySI",
        "colab_type": "code",
        "outputId": "6a06efd0-e712-47f8-c726-92e6f7b53d2b",
        "colab": {
          "base_uri": "https://localhost:8080/",
          "height": 122
        }
      },
      "source": [
        "!pip install patool"
      ],
      "execution_count": 7,
      "outputs": [
        {
          "output_type": "stream",
          "text": [
            "Collecting patool\n",
            "\u001b[?25l  Downloading https://files.pythonhosted.org/packages/43/94/52243ddff508780dd2d8110964320ab4851134a55ab102285b46e740f76a/patool-1.12-py2.py3-none-any.whl (77kB)\n",
            "\u001b[K     |████████████████████████████████| 81kB 2.4MB/s \n",
            "\u001b[?25hInstalling collected packages: patool\n",
            "Successfully installed patool-1.12\n"
          ],
          "name": "stdout"
        }
      ]
    },
    {
      "cell_type": "code",
      "metadata": {
        "id": "ffyDpxaCSgDx",
        "colab_type": "code",
        "outputId": "bc2efdca-eb8e-416f-97e4-e79cc327dc93",
        "colab": {
          "base_uri": "https://localhost:8080/",
          "height": 34
        }
      },
      "source": [
        "import os\n",
        "os.listdir()"
      ],
      "execution_count": 8,
      "outputs": [
        {
          "output_type": "execute_result",
          "data": {
            "text/plain": [
              "['.config', 'LibriSpeech.zip', 'adc.json', 'sample_data']"
            ]
          },
          "metadata": {
            "tags": []
          },
          "execution_count": 8
        }
      ]
    },
    {
      "cell_type": "code",
      "metadata": {
        "id": "CH0Ug5BPShB8",
        "colab_type": "code",
        "outputId": "09d225a2-3b88-4ca0-cf3b-2471935e2152",
        "colab": {
          "base_uri": "https://localhost:8080/",
          "height": 102
        }
      },
      "source": [
        "%%time\n",
        "import patoolib\n",
        "patoolib.extract_archive(\"LibriSpeech.zip\")"
      ],
      "execution_count": 9,
      "outputs": [
        {
          "output_type": "stream",
          "text": [
            "patool: Extracting LibriSpeech.zip ...\n",
            "patool: running /usr/bin/7z x -o./Unpack_l2tiuh9y -- LibriSpeech.zip\n",
            "patool: ... LibriSpeech.zip extracted to `LibriSpeech'.\n",
            "CPU times: user 9.53 ms, sys: 21 ms, total: 30.6 ms\n",
            "Wall time: 600 ms\n"
          ],
          "name": "stdout"
        }
      ]
    },
    {
      "cell_type": "markdown",
      "metadata": {
        "id": "fcQzszcy2htw",
        "colab_type": "text"
      },
      "source": [
        "# Audio Data Preprocessing :"
      ]
    },
    {
      "cell_type": "code",
      "metadata": {
        "id": "Von9Wv-VP_1g",
        "colab_type": "code",
        "colab": {
          "base_uri": "https://localhost:8080/",
          "height": 34
        },
        "outputId": "08e5e610-e949-45b7-e9e5-ae5e9413734b"
      },
      "source": [
        "import librosa\n",
        "import soundfile\n",
        "import tqdm\n",
        "from scipy.io import wavfile\n",
        "import glob\n",
        "import os,pickle\n",
        "import numpy as np\n",
        "from spafe.features.mfcc import mfcc, imfcc\n",
        "import csv\n",
        "import pandas as pd\n",
        "from tqdm import tqdm\n",
        "from sklearn.model_selection import train_test_split\n",
        "import numpy as np\n",
        "import tensorflow.python.keras\n",
        "from tensorflow.python.keras.models import Sequential\n",
        "from tensorflow.python.keras.layers import Dense, Dropout, Flatten, BatchNormalization\n",
        "from tensorflow.python.keras.layers import Conv2D, MaxPooling2D\n",
        "from keras.optimizers import SGD"
      ],
      "execution_count": 10,
      "outputs": [
        {
          "output_type": "stream",
          "text": [
            "Using TensorFlow backend.\n"
          ],
          "name": "stderr"
        }
      ]
    },
    {
      "cell_type": "code",
      "metadata": {
        "id": "73C5dhr-me2y",
        "colab_type": "code",
        "colab": {}
      },
      "source": [
        "def norm_(x,mean = False):\n",
        "    if mean == True:\n",
        "        return (x - np.mean(x)) / (np.max(x) - np.min(x)) #normalization                             \n",
        "    else:\n",
        "        return (x-np.mean(x)/np.std(x)) #standardization\n",
        "\n",
        "def zero_handling(x):\n",
        "    \"\"\"\n",
        "    handle the issue with zero values if they are exposed to become an argument\n",
        "    for any log function.\n",
        "\n",
        "    Returns:\n",
        "        vector with zeros substituted with epsilon values.\n",
        "    \"\"\"\n",
        "    return np.where(x == float(0), np.finfo(float).eps, x)"
      ],
      "execution_count": 0,
      "outputs": []
    },
    {
      "cell_type": "code",
      "metadata": {
        "id": "mSPPghULme23",
        "colab_type": "code",
        "colab": {}
      },
      "source": [
        "from spafe.features.lpc import lpc\n",
        "from spafe.features.gfcc import gfcc\n",
        "cep = 20\n",
        "def mfcc_(sig,fs):\n",
        "    mfccs  = mfcc(sig, fs=fs, num_ceps=cep, pre_emph=1, pre_emph_coeff=0.95, \n",
        "              win_len=0.025, win_hop=0.01, win_type='hamming', nfilts=26, \n",
        "              nfft=512, low_freq=None, high_freq=None, scale='constant', \n",
        "              dct_type=2, use_energy=False, lifter=22)\n",
        "    #print(fs)\n",
        "    return mfccs\n",
        "\n",
        "def lpcc_(sig,fs):\n",
        "  lpccs = lpc(sig, fs=fs, num_ceps=cep, pre_emph=0, \n",
        "                       pre_emph_coeff=0.97, win_type='hamming', \n",
        "                       win_len=0.025, win_hop=0.01, do_rasta=True, \n",
        "                       dither=1)\n",
        "  return lpccs\n",
        "\n",
        "def gfcc_(sig,fs):\n",
        "  gfccs = gfcc(sig, fs=fs, num_ceps=cep, pre_emph=0, \n",
        "             pre_emph_coeff=0.97, win_len=0.025, win_hop=0.01, win_type='hamming', \n",
        "             nfilts=26, nfft=512, low_freq=None, high_freq=None, scale='constant', \n",
        "             dct_type=2, use_energy=False, lifter=22, normalize=1)\n",
        "  return gfccs"
      ],
      "execution_count": 0,
      "outputs": []
    },
    {
      "cell_type": "code",
      "metadata": {
        "id": "xaE6275lme26",
        "colab_type": "code",
        "colab": {}
      },
      "source": [
        "def label(user,total): # its creating lable for splited audio data\n",
        "    k_train = []\n",
        "    for i in range(total):\n",
        "        k_train.append(user)\n",
        "    y_train=np.array(k_train).T\n",
        "    return y_train"
      ],
      "execution_count": 0,
      "outputs": []
    },
    {
      "cell_type": "code",
      "metadata": {
        "id": "aV0iqD15me3D",
        "colab_type": "code",
        "colab": {}
      },
      "source": [
        "from pathlib import Path\n",
        "len_audio = 148\n",
        "def s2c(mfcc=False,lpcc=False,gfcc=False):\n",
        "    x,y=[],[]\n",
        "    data = np.empty([1,len_audio,cep])\n",
        "    data_label = np.asarray([])\n",
        "    count =0  # E:\\dataset\\LibriSpeech\\dev-clean\n",
        "    #for file in tqdm(glob.iglob('/LibriSpeech/test-clean//**/*.flac', recursive=True)):\n",
        "    for file in tqdm(Path('LibriSpeech/dev-clean').glob('**/*.flac')):\n",
        "        file_name=os.path.basename(file)\n",
        "        user = file_name.split(\"-\")[0]\n",
        "        #print(f)\n",
        "        with soundfile.SoundFile(file) as sound_file:\n",
        "                signal = sound_file.read(dtype=\"float32\")\n",
        "                sr=sound_file.samplerate\n",
        "        signal = norm_(signal,mean = False)\n",
        "        signal = zero_handling(signal)\n",
        "        \n",
        "        if mfcc:\n",
        "            feature = mfcc_(signal,sr)\n",
        "            #print(feature.shape[0])\n",
        "        if lpcc:\n",
        "            feature = lpcc_(signal,sr)   \n",
        "        #if feature.shape[0]>256:\n",
        "        if gfcc:\n",
        "            feature = gfcc_(signal,sr)\n",
        "\n",
        "        quotient = int(feature.shape[0]/len_audio)\n",
        "        end_index = feature.shape[0]-(feature.shape[0]%len_audio)\n",
        "        r = feature[0:end_index,:]\n",
        "        re_data = np.reshape(r,(-1,len_audio,cep)) #b = np.reshape(a, (8, 3, -1))\n",
        "        data=np.concatenate((data,re_data),axis=0)\n",
        "        \n",
        "        re_label = label(user,quotient)\n",
        "        data_label = np.concatenate((data_label,re_label),axis=0)\n",
        "    return data[1:,:,:],data_label"
      ],
      "execution_count": 0,
      "outputs": []
    },
    {
      "cell_type": "code",
      "metadata": {
        "id": "atS_es2Ame3Z",
        "colab_type": "code",
        "outputId": "710d24b0-51e1-4b3a-c072-e4cffc7ad7cd",
        "colab": {
          "base_uri": "https://localhost:8080/",
          "height": 51
        }
      },
      "source": [
        "%%time\n",
        "def write_(x,y):\n",
        "    with open('mfcc_data.csv', 'a') as mfcc_dataFile:\n",
        "        writer = csv.writer(mfcc_dataFile)\n",
        "        writer.writerows(x)\n",
        "    mfcc_dataFile.close()\n",
        "    with open('mfcc_label.csv', 'a') as mfcc_labelFile:\n",
        "        writer = csv.writer(mfcc_labelFile)\n",
        "        writer.writerows(y)\n",
        "    mfcc_labelFile.close()"
      ],
      "execution_count": 15,
      "outputs": [
        {
          "output_type": "stream",
          "text": [
            "CPU times: user 9 µs, sys: 2 µs, total: 11 µs\n",
            "Wall time: 15.7 µs\n"
          ],
          "name": "stdout"
        }
      ]
    },
    {
      "cell_type": "code",
      "metadata": {
        "id": "dAmw3NFOEp8p",
        "colab_type": "code",
        "outputId": "92bb3216-70d4-49b7-de35-69685fdc37b5",
        "colab": {
          "base_uri": "https://localhost:8080/",
          "height": 102
        }
      },
      "source": [
        "%%time\n",
        "x,y = s2c(mfcc=False,lpcc=False,gfcc=True)\n",
        "\n",
        "#write_(x,y)\n",
        "print(x.shape,y.shape)\n",
        "\n",
        "\n",
        "u = np.unique(y)\n",
        "num_classes = len(u)\n",
        "#print(u)\n",
        "d = dict()\n",
        "for enu,key in enumerate(u,0):\n",
        "    d[key]=enu\n",
        "print(d)\n",
        "for i in range(len(y)):\n",
        "    y[i] = d[y[i]]"
      ],
      "execution_count": 16,
      "outputs": [
        {
          "output_type": "stream",
          "text": [
            "661it [00:22, 29.48it/s]"
          ],
          "name": "stderr"
        },
        {
          "output_type": "stream",
          "text": [
            "(2950, 148, 20) (2950,)\n",
            "{'1272': 0, '1462': 1, '1673': 2, '174': 3, '1919': 4, '251': 5, '422': 6, '652': 7, '777': 8, '84': 9}\n",
            "CPU times: user 24.3 s, sys: 18.4 s, total: 42.7 s\n",
            "Wall time: 22.4 s\n"
          ],
          "name": "stdout"
        },
        {
          "output_type": "stream",
          "text": [
            "\n"
          ],
          "name": "stderr"
        }
      ]
    },
    {
      "cell_type": "code",
      "metadata": {
        "id": "gbqqVr_6Ep9d",
        "colab_type": "code",
        "outputId": "ce8328ee-d377-44d2-b93e-8d508e45b89c",
        "colab": {
          "base_uri": "https://localhost:8080/",
          "height": 187
        }
      },
      "source": [
        "X  = x.reshape(x.shape[0],x.shape[1],x.shape[2],1)\n",
        "print(X.shape)\n",
        "import keras\n",
        "\n",
        "y_binary = keras.utils.to_categorical(y, num_classes = 10)\n",
        "#y_binary = np.asarray(list(map(int,y)))\n",
        "print(y_binary)\n",
        "\n",
        "x_train, x_test, y_train, y_test = train_test_split(X,y_binary ,test_size=0.20, shuffle= True)\n",
        "\n",
        "print(\"Training shape: {0}, Training label shape : {1}\".format(x_train.shape,y_train.shape))\n",
        "print(\"Training shape: {0}, Training label shape : {1}\".format(x_test.shape,y_test.shape))"
      ],
      "execution_count": 17,
      "outputs": [
        {
          "output_type": "stream",
          "text": [
            "(2950, 148, 20, 1)\n",
            "[[0. 0. 0. ... 0. 1. 0.]\n",
            " [0. 0. 0. ... 0. 1. 0.]\n",
            " [0. 0. 0. ... 0. 1. 0.]\n",
            " ...\n",
            " [0. 0. 0. ... 1. 0. 0.]\n",
            " [0. 0. 0. ... 1. 0. 0.]\n",
            " [0. 0. 0. ... 1. 0. 0.]]\n",
            "Training shape: (2360, 148, 20, 1), Training label shape : (2360, 10)\n",
            "Training shape: (590, 148, 20, 1), Training label shape : (590, 10)\n"
          ],
          "name": "stdout"
        }
      ]
    },
    {
      "cell_type": "markdown",
      "metadata": {
        "id": "d1HwaUks6gKY",
        "colab_type": "text"
      },
      "source": [
        "# Creating CNN Architecture :"
      ]
    },
    {
      "cell_type": "code",
      "metadata": {
        "id": "cqpW8dQTnKt-",
        "colab_type": "code",
        "outputId": "15e0b943-cff7-464f-9df3-eeb4b3f7ac42",
        "colab": {
          "base_uri": "https://localhost:8080/",
          "height": 34
        }
      },
      "source": [
        "%tensorflow_version 2.x\n",
        "import tensorflow \n",
        "device_name = tensorflow.test.gpu_device_name()\n",
        "if device_name != '/device:GPU:0':\n",
        "  raise SystemError('GPU device not found')\n",
        "print('Found GPU at: {}'.format(device_name))"
      ],
      "execution_count": 18,
      "outputs": [
        {
          "output_type": "stream",
          "text": [
            "Found GPU at: /device:GPU:0\n"
          ],
          "name": "stdout"
        }
      ]
    },
    {
      "cell_type": "code",
      "metadata": {
        "id": "EulSDA-nS7lu",
        "colab_type": "code",
        "outputId": "68bf5852-57de-4519-adbd-233211440477",
        "colab": {
          "base_uri": "https://localhost:8080/",
          "height": 578
        }
      },
      "source": [
        "from tensorflow.keras.optimizers import SGD\n",
        "opt = SGD(lr=0.001, momentum=0.9)\n",
        "model = Sequential()\n",
        "model.add(Conv2D(32, (3, 3), activation='relu', input_shape=(x.shape[1],x.shape[2],1)))\n",
        "\n",
        "model.add(Conv2D(32, (3, 3), activation='relu'))\n",
        "model.add(MaxPooling2D(pool_size=(2, 2)))\n",
        "model.add(Dropout(0.5))\n",
        "\n",
        "model.add(Conv2D(64, (3, 3), activation='relu'))\n",
        "\n",
        "model.add(Conv2D(64, (3, 3), activation='relu'))\n",
        "model.add(MaxPooling2D(pool_size=(2, 2)))\n",
        "model.add(Dropout(0.5))\n",
        "model.add(Flatten())\n",
        "\n",
        "model.add(Dense(256, activation='relu'))\n",
        "model.add(Dropout(0.5))\n",
        "\n",
        "model.add(Dense(10, activation='softmax'))\n",
        "                                                           #optimizer=keras.optimizers.Adam()\n",
        "model.compile(loss=keras.losses.categorical_crossentropy, optimizer=opt, metrics=['accuracy'])\n",
        "print(model.summary())"
      ],
      "execution_count": 19,
      "outputs": [
        {
          "output_type": "stream",
          "text": [
            "Model: \"sequential\"\n",
            "_________________________________________________________________\n",
            "Layer (type)                 Output Shape              Param #   \n",
            "=================================================================\n",
            "conv2d (Conv2D)              (None, 146, 18, 32)       320       \n",
            "_________________________________________________________________\n",
            "conv2d_1 (Conv2D)            (None, 144, 16, 32)       9248      \n",
            "_________________________________________________________________\n",
            "max_pooling2d (MaxPooling2D) (None, 72, 8, 32)         0         \n",
            "_________________________________________________________________\n",
            "dropout (Dropout)            (None, 72, 8, 32)         0         \n",
            "_________________________________________________________________\n",
            "conv2d_2 (Conv2D)            (None, 70, 6, 64)         18496     \n",
            "_________________________________________________________________\n",
            "conv2d_3 (Conv2D)            (None, 68, 4, 64)         36928     \n",
            "_________________________________________________________________\n",
            "max_pooling2d_1 (MaxPooling2 (None, 34, 2, 64)         0         \n",
            "_________________________________________________________________\n",
            "dropout_1 (Dropout)          (None, 34, 2, 64)         0         \n",
            "_________________________________________________________________\n",
            "flatten (Flatten)            (None, 4352)              0         \n",
            "_________________________________________________________________\n",
            "dense (Dense)                (None, 256)               1114368   \n",
            "_________________________________________________________________\n",
            "dropout_2 (Dropout)          (None, 256)               0         \n",
            "_________________________________________________________________\n",
            "dense_1 (Dense)              (None, 10)                2570      \n",
            "=================================================================\n",
            "Total params: 1,181,930\n",
            "Trainable params: 1,181,930\n",
            "Non-trainable params: 0\n",
            "_________________________________________________________________\n",
            "None\n"
          ],
          "name": "stdout"
        }
      ]
    },
    {
      "cell_type": "code",
      "metadata": {
        "id": "0C4e0DA7Ep_K",
        "colab_type": "code",
        "outputId": "1e390491-fcf5-4348-930a-82c92728e52a",
        "colab": {
          "base_uri": "https://localhost:8080/",
          "height": 1000
        }
      },
      "source": [
        "%%time\n",
        "epoch = 500\n",
        "batch_sizes = 16\n",
        "from tensorflow.python.keras.callbacks import ModelCheckpoint\n",
        "# Saving the model that performed the best on the validation set\n",
        "checkpoint = ModelCheckpoint(filepath='Model.v_2.hdf5', save_best_only=True, verbose=1)\n",
        "\n",
        "\n",
        "\n",
        "history = model.fit(x_train, y_train, batch_size = batch_sizes, epochs=epoch, \n",
        "                    validation_data=(x_test, y_test), verbose=0, callbacks=[checkpoint])"
      ],
      "execution_count": 20,
      "outputs": [
        {
          "output_type": "stream",
          "text": [
            "\n",
            "Epoch 00320: val_loss did not improve from 0.07652\n",
            "\n",
            "Epoch 00321: val_loss did not improve from 0.07652\n",
            "\n",
            "Epoch 00322: val_loss did not improve from 0.07652\n",
            "\n",
            "Epoch 00323: val_loss did not improve from 0.07652\n",
            "\n",
            "Epoch 00324: val_loss did not improve from 0.07652\n",
            "\n",
            "Epoch 00325: val_loss did not improve from 0.07652\n",
            "\n",
            "Epoch 00326: val_loss did not improve from 0.07652\n",
            "\n",
            "Epoch 00327: val_loss did not improve from 0.07652\n",
            "\n",
            "Epoch 00328: val_loss did not improve from 0.07652\n",
            "\n",
            "Epoch 00329: val_loss did not improve from 0.07652\n",
            "\n",
            "Epoch 00330: val_loss did not improve from 0.07652\n",
            "\n",
            "Epoch 00331: val_loss did not improve from 0.07652\n",
            "\n",
            "Epoch 00332: val_loss did not improve from 0.07652\n",
            "\n",
            "Epoch 00333: val_loss did not improve from 0.07652\n",
            "\n",
            "Epoch 00334: val_loss did not improve from 0.07652\n",
            "\n",
            "Epoch 00335: val_loss did not improve from 0.07652\n",
            "\n",
            "Epoch 00336: val_loss did not improve from 0.07652\n",
            "\n",
            "Epoch 00337: val_loss did not improve from 0.07652\n",
            "\n",
            "Epoch 00338: val_loss did not improve from 0.07652\n",
            "\n",
            "Epoch 00339: val_loss did not improve from 0.07652\n",
            "\n",
            "Epoch 00340: val_loss did not improve from 0.07652\n",
            "\n",
            "Epoch 00341: val_loss did not improve from 0.07652\n",
            "\n",
            "Epoch 00342: val_loss did not improve from 0.07652\n",
            "\n",
            "Epoch 00343: val_loss did not improve from 0.07652\n",
            "\n",
            "Epoch 00344: val_loss did not improve from 0.07652\n",
            "\n",
            "Epoch 00345: val_loss did not improve from 0.07652\n",
            "\n",
            "Epoch 00346: val_loss did not improve from 0.07652\n",
            "\n",
            "Epoch 00347: val_loss did not improve from 0.07652\n",
            "\n",
            "Epoch 00348: val_loss did not improve from 0.07652\n",
            "\n",
            "Epoch 00349: val_loss did not improve from 0.07652\n",
            "\n",
            "Epoch 00350: val_loss did not improve from 0.07652\n",
            "\n",
            "Epoch 00351: val_loss did not improve from 0.07652\n",
            "\n",
            "Epoch 00352: val_loss did not improve from 0.07652\n",
            "\n",
            "Epoch 00353: val_loss did not improve from 0.07652\n",
            "\n",
            "Epoch 00354: val_loss did not improve from 0.07652\n",
            "\n",
            "Epoch 00355: val_loss did not improve from 0.07652\n",
            "\n",
            "Epoch 00356: val_loss did not improve from 0.07652\n",
            "\n",
            "Epoch 00357: val_loss did not improve from 0.07652\n",
            "\n",
            "Epoch 00358: val_loss did not improve from 0.07652\n",
            "\n",
            "Epoch 00359: val_loss did not improve from 0.07652\n",
            "\n",
            "Epoch 00360: val_loss did not improve from 0.07652\n",
            "\n",
            "Epoch 00361: val_loss did not improve from 0.07652\n",
            "\n",
            "Epoch 00362: val_loss did not improve from 0.07652\n",
            "\n",
            "Epoch 00363: val_loss did not improve from 0.07652\n",
            "\n",
            "Epoch 00364: val_loss did not improve from 0.07652\n",
            "\n",
            "Epoch 00365: val_loss did not improve from 0.07652\n",
            "\n",
            "Epoch 00366: val_loss did not improve from 0.07652\n",
            "\n",
            "Epoch 00367: val_loss did not improve from 0.07652\n",
            "\n",
            "Epoch 00368: val_loss did not improve from 0.07652\n",
            "\n",
            "Epoch 00369: val_loss did not improve from 0.07652\n",
            "\n",
            "Epoch 00370: val_loss improved from 0.07652 to 0.07244, saving model to Model.v_2.hdf5\n",
            "\n",
            "Epoch 00371: val_loss did not improve from 0.07244\n",
            "\n",
            "Epoch 00372: val_loss did not improve from 0.07244\n",
            "\n",
            "Epoch 00373: val_loss did not improve from 0.07244\n",
            "\n",
            "Epoch 00374: val_loss did not improve from 0.07244\n",
            "\n",
            "Epoch 00375: val_loss did not improve from 0.07244\n",
            "\n",
            "Epoch 00376: val_loss did not improve from 0.07244\n",
            "\n",
            "Epoch 00377: val_loss did not improve from 0.07244\n",
            "\n",
            "Epoch 00378: val_loss did not improve from 0.07244\n",
            "\n",
            "Epoch 00379: val_loss did not improve from 0.07244\n",
            "\n",
            "Epoch 00380: val_loss did not improve from 0.07244\n",
            "\n",
            "Epoch 00381: val_loss did not improve from 0.07244\n",
            "\n",
            "Epoch 00382: val_loss did not improve from 0.07244\n",
            "\n",
            "Epoch 00383: val_loss did not improve from 0.07244\n",
            "\n",
            "Epoch 00384: val_loss did not improve from 0.07244\n",
            "\n",
            "Epoch 00385: val_loss did not improve from 0.07244\n",
            "\n",
            "Epoch 00386: val_loss did not improve from 0.07244\n",
            "\n",
            "Epoch 00387: val_loss did not improve from 0.07244\n",
            "\n",
            "Epoch 00388: val_loss did not improve from 0.07244\n",
            "\n",
            "Epoch 00389: val_loss did not improve from 0.07244\n",
            "\n",
            "Epoch 00390: val_loss did not improve from 0.07244\n",
            "\n",
            "Epoch 00391: val_loss did not improve from 0.07244\n",
            "\n",
            "Epoch 00392: val_loss did not improve from 0.07244\n",
            "\n",
            "Epoch 00393: val_loss did not improve from 0.07244\n",
            "\n",
            "Epoch 00394: val_loss did not improve from 0.07244\n",
            "\n",
            "Epoch 00395: val_loss did not improve from 0.07244\n",
            "\n",
            "Epoch 00396: val_loss did not improve from 0.07244\n",
            "\n",
            "Epoch 00397: val_loss did not improve from 0.07244\n",
            "\n",
            "Epoch 00398: val_loss did not improve from 0.07244\n",
            "\n",
            "Epoch 00399: val_loss did not improve from 0.07244\n",
            "\n",
            "Epoch 00400: val_loss did not improve from 0.07244\n",
            "\n",
            "Epoch 00401: val_loss did not improve from 0.07244\n",
            "\n",
            "Epoch 00402: val_loss did not improve from 0.07244\n",
            "\n",
            "Epoch 00403: val_loss did not improve from 0.07244\n",
            "\n",
            "Epoch 00404: val_loss did not improve from 0.07244\n",
            "\n",
            "Epoch 00405: val_loss did not improve from 0.07244\n",
            "\n",
            "Epoch 00406: val_loss did not improve from 0.07244\n",
            "\n",
            "Epoch 00407: val_loss did not improve from 0.07244\n",
            "\n",
            "Epoch 00408: val_loss did not improve from 0.07244\n",
            "\n",
            "Epoch 00409: val_loss did not improve from 0.07244\n",
            "\n",
            "Epoch 00410: val_loss did not improve from 0.07244\n",
            "\n",
            "Epoch 00411: val_loss did not improve from 0.07244\n",
            "\n",
            "Epoch 00412: val_loss did not improve from 0.07244\n",
            "\n",
            "Epoch 00413: val_loss did not improve from 0.07244\n",
            "\n",
            "Epoch 00414: val_loss did not improve from 0.07244\n",
            "\n",
            "Epoch 00415: val_loss did not improve from 0.07244\n",
            "\n",
            "Epoch 00416: val_loss did not improve from 0.07244\n",
            "\n",
            "Epoch 00417: val_loss did not improve from 0.07244\n",
            "\n",
            "Epoch 00418: val_loss did not improve from 0.07244\n",
            "\n",
            "Epoch 00419: val_loss did not improve from 0.07244\n",
            "\n",
            "Epoch 00420: val_loss did not improve from 0.07244\n",
            "\n",
            "Epoch 00421: val_loss did not improve from 0.07244\n",
            "\n",
            "Epoch 00422: val_loss did not improve from 0.07244\n",
            "\n",
            "Epoch 00423: val_loss did not improve from 0.07244\n",
            "\n",
            "Epoch 00424: val_loss did not improve from 0.07244\n",
            "\n",
            "Epoch 00425: val_loss did not improve from 0.07244\n",
            "\n",
            "Epoch 00426: val_loss did not improve from 0.07244\n",
            "\n",
            "Epoch 00427: val_loss did not improve from 0.07244\n",
            "\n",
            "Epoch 00428: val_loss did not improve from 0.07244\n",
            "\n",
            "Epoch 00429: val_loss did not improve from 0.07244\n",
            "\n",
            "Epoch 00430: val_loss did not improve from 0.07244\n",
            "\n",
            "Epoch 00431: val_loss did not improve from 0.07244\n",
            "\n",
            "Epoch 00432: val_loss did not improve from 0.07244\n",
            "\n",
            "Epoch 00433: val_loss did not improve from 0.07244\n",
            "\n",
            "Epoch 00434: val_loss did not improve from 0.07244\n",
            "\n",
            "Epoch 00435: val_loss did not improve from 0.07244\n",
            "\n",
            "Epoch 00436: val_loss did not improve from 0.07244\n",
            "\n",
            "Epoch 00437: val_loss did not improve from 0.07244\n",
            "\n",
            "Epoch 00438: val_loss did not improve from 0.07244\n",
            "\n",
            "Epoch 00439: val_loss did not improve from 0.07244\n",
            "\n",
            "Epoch 00440: val_loss did not improve from 0.07244\n",
            "\n",
            "Epoch 00441: val_loss did not improve from 0.07244\n",
            "\n",
            "Epoch 00442: val_loss did not improve from 0.07244\n",
            "\n",
            "Epoch 00443: val_loss did not improve from 0.07244\n",
            "\n",
            "Epoch 00444: val_loss did not improve from 0.07244\n",
            "\n",
            "Epoch 00445: val_loss did not improve from 0.07244\n",
            "\n",
            "Epoch 00446: val_loss did not improve from 0.07244\n",
            "\n",
            "Epoch 00447: val_loss did not improve from 0.07244\n",
            "\n",
            "Epoch 00448: val_loss did not improve from 0.07244\n",
            "\n",
            "Epoch 00449: val_loss did not improve from 0.07244\n",
            "\n",
            "Epoch 00450: val_loss did not improve from 0.07244\n",
            "\n",
            "Epoch 00451: val_loss did not improve from 0.07244\n",
            "\n",
            "Epoch 00452: val_loss did not improve from 0.07244\n",
            "\n",
            "Epoch 00453: val_loss did not improve from 0.07244\n",
            "\n",
            "Epoch 00454: val_loss did not improve from 0.07244\n",
            "\n",
            "Epoch 00455: val_loss did not improve from 0.07244\n",
            "\n",
            "Epoch 00456: val_loss did not improve from 0.07244\n",
            "\n",
            "Epoch 00457: val_loss did not improve from 0.07244\n",
            "\n",
            "Epoch 00458: val_loss did not improve from 0.07244\n",
            "\n",
            "Epoch 00459: val_loss did not improve from 0.07244\n",
            "\n",
            "Epoch 00460: val_loss did not improve from 0.07244\n",
            "\n",
            "Epoch 00461: val_loss did not improve from 0.07244\n",
            "\n",
            "Epoch 00462: val_loss did not improve from 0.07244\n",
            "\n",
            "Epoch 00463: val_loss did not improve from 0.07244\n",
            "\n",
            "Epoch 00464: val_loss did not improve from 0.07244\n",
            "\n",
            "Epoch 00465: val_loss did not improve from 0.07244\n",
            "\n",
            "Epoch 00466: val_loss did not improve from 0.07244\n",
            "\n",
            "Epoch 00467: val_loss did not improve from 0.07244\n",
            "\n",
            "Epoch 00468: val_loss did not improve from 0.07244\n",
            "\n",
            "Epoch 00469: val_loss did not improve from 0.07244\n",
            "\n",
            "Epoch 00470: val_loss did not improve from 0.07244\n",
            "\n",
            "Epoch 00471: val_loss did not improve from 0.07244\n",
            "\n",
            "Epoch 00472: val_loss did not improve from 0.07244\n",
            "\n",
            "Epoch 00473: val_loss did not improve from 0.07244\n",
            "\n",
            "Epoch 00474: val_loss did not improve from 0.07244\n",
            "\n",
            "Epoch 00475: val_loss did not improve from 0.07244\n",
            "\n",
            "Epoch 00476: val_loss did not improve from 0.07244\n",
            "\n",
            "Epoch 00477: val_loss did not improve from 0.07244\n",
            "\n",
            "Epoch 00478: val_loss did not improve from 0.07244\n",
            "\n",
            "Epoch 00479: val_loss did not improve from 0.07244\n",
            "\n",
            "Epoch 00480: val_loss did not improve from 0.07244\n",
            "\n",
            "Epoch 00481: val_loss did not improve from 0.07244\n",
            "\n",
            "Epoch 00482: val_loss did not improve from 0.07244\n",
            "\n",
            "Epoch 00483: val_loss did not improve from 0.07244\n",
            "\n",
            "Epoch 00484: val_loss did not improve from 0.07244\n",
            "\n",
            "Epoch 00485: val_loss did not improve from 0.07244\n",
            "\n",
            "Epoch 00486: val_loss improved from 0.07244 to 0.05744, saving model to Model.v_2.hdf5\n",
            "\n",
            "Epoch 00487: val_loss did not improve from 0.05744\n",
            "\n",
            "Epoch 00488: val_loss did not improve from 0.05744\n",
            "\n",
            "Epoch 00489: val_loss did not improve from 0.05744\n",
            "\n",
            "Epoch 00490: val_loss did not improve from 0.05744\n",
            "\n",
            "Epoch 00491: val_loss did not improve from 0.05744\n",
            "\n",
            "Epoch 00492: val_loss did not improve from 0.05744\n",
            "\n",
            "Epoch 00493: val_loss did not improve from 0.05744\n",
            "\n",
            "Epoch 00494: val_loss did not improve from 0.05744\n",
            "\n",
            "Epoch 00495: val_loss did not improve from 0.05744\n",
            "\n",
            "Epoch 00496: val_loss did not improve from 0.05744\n",
            "\n",
            "Epoch 00497: val_loss did not improve from 0.05744\n",
            "\n",
            "Epoch 00498: val_loss did not improve from 0.05744\n",
            "\n",
            "Epoch 00499: val_loss did not improve from 0.05744\n",
            "\n",
            "Epoch 00500: val_loss did not improve from 0.05744\n",
            "CPU times: user 7min 55s, sys: 59.3 s, total: 8min 54s\n",
            "Wall time: 12min 6s\n"
          ],
          "name": "stdout"
        }
      ]
    },
    {
      "cell_type": "code",
      "metadata": {
        "id": "RwEThfog4WjM",
        "colab_type": "code",
        "outputId": "e1d91a82-c204-438a-9604-7486bb98e333",
        "colab": {
          "base_uri": "https://localhost:8080/",
          "height": 51
        }
      },
      "source": [
        "#Loading the model that performed the best on the validation set\n",
        "model.load_weights('Model.v_2.hdf5')\n",
        "\n",
        "# Testing the model on the Test data\n",
        "(loss, accuracy) = model.evaluate(x_test, y_test, batch_size=16, verbose=1)\n",
        "\n",
        "print('Accuracy on test data: {:.2f}%'.format(accuracy * 100))"
      ],
      "execution_count": 21,
      "outputs": [
        {
          "output_type": "stream",
          "text": [
            "37/37 [==============================] - 0s 5ms/step - loss: 0.0574 - accuracy: 0.9847\n",
            "Accuracy on test data: 98.47%\n"
          ],
          "name": "stdout"
        }
      ]
    },
    {
      "cell_type": "markdown",
      "metadata": {
        "id": "FF6XbgMm7MGZ",
        "colab_type": "text"
      },
      "source": [
        "# Plotting plot :"
      ]
    },
    {
      "cell_type": "markdown",
      "metadata": {
        "id": "mMj-6gUL7UYB",
        "colab_type": "text"
      },
      "source": [
        "\n",
        "\n",
        "1.   **accuracy_plot()** : This function plot graph between train accuracy vs validation/test accuracy\n",
        "2.   **loss_plot():** This function plot graph between train loss vs validation loss\n",
        "\n"
      ]
    },
    {
      "cell_type": "code",
      "metadata": {
        "id": "xpHMjtZGEp_9",
        "colab_type": "code",
        "colab": {}
      },
      "source": [
        "import keras\n",
        "from matplotlib import pyplot as plt\n",
        "def accuracy_plot(history):\n",
        "    #plt.figure(figsize=(12,8))\n",
        "    plt.plot(history.history['accuracy'])\n",
        "    plt.plot(history.history['val_accuracy'])\n",
        "    plt.title('model accuracy')\n",
        "    plt.ylabel('accuracy')\n",
        "    plt.xlabel('epoch')\n",
        "    plt.legend(['train', 'val'], loc='upper left')\n",
        "    plt.grid()\n",
        "    plt.show()\n",
        "\n",
        "def loss_plot(history):\n",
        "    #plt.figure(figsize=(12,8))\n",
        "    plt.plot(history.history['loss'])\n",
        "    plt.plot(history.history['val_loss'])\n",
        "    plt.title('model loss')\n",
        "    plt.ylabel('loss')\n",
        "    plt.xlabel('epoch')\n",
        "    plt.legend(['train', 'val'], loc='upper left')\n",
        "    plt.grid()\n",
        "    plt.show()"
      ],
      "execution_count": 0,
      "outputs": []
    },
    {
      "cell_type": "code",
      "metadata": {
        "id": "kzuVliqNEqBd",
        "colab_type": "code",
        "outputId": "9b96c2a2-3875-4d41-86ea-933a0cc1c03e",
        "colab": {
          "base_uri": "https://localhost:8080/",
          "height": 573
        }
      },
      "source": [
        "\n",
        "accuracy_plot(history)\n",
        "loss_plot(history)"
      ],
      "execution_count": 26,
      "outputs": [
        {
          "output_type": "display_data",
          "data": {
            "image/png": "[encoded data removed]",
            "text/plain": [
              "<Figure size 432x288 with 1 Axes>"
            ]
          },
          "metadata": {
            "tags": [],
            "needs_background": "light"
          }
        },
        {
          "output_type": "display_data",
          "data": {
            "image/png": "[encoded data removed]",
            "text/plain": [
              "<Figure size 432x288 with 1 Axes>"
            ]
          },
          "metadata": {
            "tags": [],
            "needs_background": "light"
          }
        }
      ]
    },
    {
      "cell_type": "code",
      "metadata": {
        "id": "Xth20FsnOd3g",
        "colab_type": "code",
        "colab": {}
      },
      "source": [
        "import os, signal\n",
        "os.kill(os.getpid(), signal.SIGKILL)"
      ],
      "execution_count": 0,
      "outputs": []
    },
    {
      "cell_type": "code",
      "metadata": {
        "id": "NgNfqbzP8D18",
        "colab_type": "code",
        "colab": {}
      },
      "source": [
        "\n"
      ],
      "execution_count": 0,
      "outputs": []
    },
    {
      "cell_type": "code",
      "metadata": {
        "id": "mNwKuBxHgY0d",
        "colab_type": "code",
        "colab": {}
      },
      "source": [
        ""
      ],
      "execution_count": 0,
      "outputs": []
    },
    {
      "cell_type": "markdown",
      "metadata": {
        "id": "qlUm3WDCPrt_",
        "colab_type": "text"
      },
      "source": [
        "# VGG16"
      ]
    },
    {
      "cell_type": "code",
      "metadata": {
        "id": "BiyIHBtrPu2B",
        "colab_type": "code",
        "colab": {}
      },
      "source": [
        "\"\"\"model1 = Sequential()\n",
        "model1.add(Conv2D(input_shape=(x.shape[1],x.shape[2],1),filters=64,kernel_size=(3,3),padding=\"same\", activation=\"relu\"))\n",
        "model1.add(Conv2D(filters=64,kernel_size=(3,3),padding=\"same\", activation=\"relu\"))\n",
        "\n",
        "model1.add(MaxPooling2D(pool_size=(2,2),strides=(2,2)))\n",
        "\n",
        "model1.add(Conv2D(filters=128, kernel_size=(3,3), padding=\"same\", activation=\"relu\"))\n",
        "model1.add(Conv2D(filters=128, kernel_size=(3,3), padding=\"same\", activation=\"relu\"))\n",
        "\n",
        "model1.add(MaxPooling2D(pool_size=(2,2),strides=(1,1)))\n",
        "\n",
        "model1.add(Conv2D(filters=256, kernel_size=(3,3), padding=\"same\", activation=\"relu\"))\n",
        "model1.add(Conv2D(filters=256, kernel_size=(3,3), padding=\"same\", activation=\"relu\"))\n",
        "model1.add(Conv2D(filters=256, kernel_size=(3,3), padding=\"same\", activation=\"relu\"))\n",
        "\n",
        "model1.add(MaxPooling2D(pool_size=(2,2),strides=(2,2)))\n",
        "\n",
        "model1.add(Conv2D(filters=512, kernel_size=(3,3), pāadding=\"same\", activation=\"relu\"))\n",
        "model1.add(Conv2D(filters=512, kernel_size=(3,3), padding=\"same\", activation=\"relu\"))\n",
        "model1.add(Conv2D(filters=512, kernel_size=(3,3), padding=\"same\", activation=\"relu\"))\n",
        "\n",
        "model1.add(MaxPooling2D(pool_size=(2,2),strides=(2,2)))\n",
        "\n",
        "model1.add(Conv2D(filters=128, kernel_size=(3,3), padding=\"same\", activation=\"relu\"))\n",
        "model1.add(Conv2D(filters=128, kernel_size=(3,3), padding=\"same\", activation=\"relu\"))\n",
        "model1.add(Conv2D(filters=512, kernel_size=(3,3), padding=\"same\", activation=\"relu\"))\n",
        "\n",
        "model1.add(MaxPooling2D(pool_size=(2,2),strides=(2,2)))\n",
        "\n",
        "model1.add(Flatten())\n",
        "model1.add(Dense(units=128,activation=\"relu\"))\n",
        "model1.add(Dense(units=128,activation=\"relu\"))\n",
        "model1.add(Dense(units=40, activation=\"softmax\"))\n",
        "print(model1.summary())\n",
        "model1.compile(loss=\"sparse_categorical_crossentropy\", optimizer=\"adam\", metrics=['accuracy'])\n",
        "\"\"\""
      ],
      "execution_count": 0,
      "outputs": []
    },
    {
      "cell_type": "code",
      "metadata": {
        "id": "PQXJf-duQKpE",
        "colab_type": "code",
        "colab": {}
      },
      "source": [
        "\"\"\"%%time\n",
        "from keras.callbacks import ModelCheckpoint\n",
        "# Saving the model that performed the best on the validation set\n",
        "checkpoint = ModelCheckpoint(filepath='Model.v_2.hdf5', save_best_only=True, verbose=0)\n",
        "\n",
        "# Training the model for 40 epochs\n",
        "history = model1.fit(x_train, y_train, batch_size=32, epochs=200, \n",
        "                    validation_data=(x_test, y_test), verbose=1, callbacks=[checkpoint])\"\"\""
      ],
      "execution_count": 0,
      "outputs": []
    },
    {
      "cell_type": "code",
      "metadata": {
        "id": "Mwac_IauQMVC",
        "colab_type": "code",
        "colab": {}
      },
      "source": [
        "\"\"\"# Loading the model that performed the best on the validation set\n",
        "model1.load_weights('Model.v_2.hdf5')\n",
        "\n",
        "# Testing the model on the Test data\n",
        "(loss, accuracy) = model1.evaluate(x_test, y_test, batch_size=128, verbose=1)\n",
        "\n",
        "print('Accuracy on test data: {:.2f}%'.format(accuracy * 100))\"\"\""
      ],
      "execution_count": 0,
      "outputs": []
    }
  ]
}