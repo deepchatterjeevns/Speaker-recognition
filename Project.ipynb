{
 "cells": [
  {
   "cell_type": "code",
   "execution_count": 1,
   "metadata": {
    "colab": {},
    "colab_type": "code",
    "id": "UGWHZZoe1FTP"
   },
   "outputs": [],
   "source": [
    "#!pip install librosa"
   ]
  },
  {
   "cell_type": "code",
   "execution_count": 1,
   "metadata": {
    "colab": {},
    "colab_type": "code",
    "id": "kI4hVLTKghsX"
   },
   "outputs": [],
   "source": [
    "import librosa\n",
    "import soundfile\n",
    "import tqdm\n",
    "from scipy.io import wavfile\n",
    "import glob\n",
    "import os,pickle\n",
    "import numpy as np\n",
    "from spafe.features.mfcc import mfcc, imfcc\n",
    "from spafe.features.lpc import lpcc\n",
    "import csv\n",
    "import pandas as pd\n",
    "from tqdm import tqdm"
   ]
  },
  {
   "cell_type": "code",
   "execution_count": null,
   "metadata": {
    "colab": {},
    "colab_type": "code",
    "id": "t-5KcU9bghsi",
    "outputId": "d71159ec-94a5-450f-fff0-63e7457b16ce"
   },
   "outputs": [],
   "source": [
    "\"\"\"import scipy.io.wavfile\n",
    "import spafe.utils.vis as vis\n",
    "\n",
    "\n",
    "x=np.array(x)\n",
    "y=np.array(y)\n",
    "result = np.column_stack((x,y))\n",
    "import csv\n",
    "with open('people.csv', 'a') as peopleFile:\n",
    "    writer = csv.writer(peopleFile)\n",
    "    writer.writerows(result)\n",
    "csvFile.close()\"\"\""
   ]
  },
  {
   "cell_type": "markdown",
   "metadata": {
    "colab_type": "text",
    "id": "xINq13ARghsp"
   },
   "source": [
    "# Feature Extraction :"
   ]
  },
  {
   "cell_type": "code",
   "execution_count": 7,
   "metadata": {
    "colab": {},
    "colab_type": "code",
    "id": "Z_3iC81Kghsr"
   },
   "outputs": [],
   "source": [
    "#f = pd.DataFrame()\n",
    "def tocsv(x,y,mfcc=False,lpcc=False):#take numpy 2d array and append it with \n",
    "    #df2=pd.DataFrame(x)\n",
    "    #f = pd.concat([f, df2])\n",
    "    k=[]\n",
    "    m=len(x)\n",
    "    #print(m)\n",
    "    for i in range(m):\n",
    "        k.append(y)\n",
    "    y=np.array(k).T    \n",
    "    result = np.column_stack((x,y))    \n",
    "    import csv\n",
    "    if mfcc:\n",
    "        with open('mfcc.csv', 'a') as mfccFile:\n",
    "            writer = csv.writer(mfccFile)\n",
    "            writer.writerows(result)\n",
    "        mfccFile.close()\n",
    "    if lpcc:\n",
    "        with open('lpcc.csv', 'a') as lpccFile:\n",
    "            writer = csv.writer(lpccFile)\n",
    "            writer.writerows(result)\n",
    "        lpccFile.close()\n",
    "#f.to_csv('mfcc.csv')    "
   ]
  },
  {
   "cell_type": "code",
   "execution_count": 31,
   "metadata": {
    "colab": {},
    "colab_type": "code",
    "id": "4ZNetNZ-ghsv"
   },
   "outputs": [],
   "source": [
    "def mfcc_(sig,fs):\n",
    "    mfccs  = mfcc(sig, fs=fs, num_ceps=20, pre_emph=0, pre_emph_coeff=0.95, \n",
    "              win_len=0.025, win_hop=0.01, win_type='hamming', nfilts=26, \n",
    "              nfft=512, low_freq=None, high_freq=None, scale='constant', \n",
    "              dct_type=2, use_energy=False, lifter=22, normalize=1)\n",
    "    return mfccs\n",
    "\n",
    "def lpcc_(sig,fs):\n",
    "    lpccs = lpcc(sig, fs=fs, num_ceps=18, pre_emph=1, pre_emph_coeff=0.97, \n",
    "                 win_type='hann', win_len=0.025, win_hop=0.01, do_rasta=True, \n",
    "                 lifter=1, normalize=1, dither=1)\n",
    "    return lpccs"
   ]
  },
  {
   "cell_type": "code",
   "execution_count": 12,
   "metadata": {
    "colab": {},
    "colab_type": "code",
    "id": "BhhQ3CX2ghsy"
   },
   "outputs": [],
   "source": [
    "def s2c(mfcc=False,lpcc=False):\n",
    "    x,y=[],[]\n",
    "    count =0  # E:\\dataset\\LibriSpeech\\dev-clean\n",
    "    for file in tqdm(glob.iglob('E:\\dataset\\LibriSpeech\\dev-clean\\\\**/*.flac', recursive=True)):\n",
    "        file_name=os.path.basename(file)\n",
    "        user = file_name.split(\"-\")[0]\n",
    "        #print(f)\n",
    "        with soundfile.SoundFile(file) as sound_file:\n",
    "                signal = sound_file.read(dtype=\"float32\")\n",
    "                sr=sound_file.samplerate\n",
    "        \n",
    "        if mfcc:\n",
    "            feature = mfcc_(signal,sr)\n",
    "        if lpcc:\n",
    "            feature = lpcc_(signal,sr)\n",
    "        #x.append(feature)\n",
    "        #y.append(user)\n",
    "        tocsv(feature,user,mfcc,lpcc)\n",
    "        \"\"\"count+=1\n",
    "        if count>=10:\n",
    "            break\"\"\"\n",
    "    \"\"\"      \n",
    "    x=np.array(x)\n",
    "    y=np.array(y)\n",
    "    result = np.column_stack((x,y))\n",
    "    \"\"\"\n",
    "    #return x,y"
   ]
  },
  {
   "cell_type": "code",
   "execution_count": 32,
   "metadata": {
    "colab": {},
    "colab_type": "code",
    "id": "b6XDcmkJghs3",
    "outputId": "16bd2179-a2c8-4dd9-b7f9-ce10a0e9f7c9"
   },
   "outputs": [
    {
     "name": "stderr",
     "output_type": "stream",
     "text": [
      "661it [10:06,  1.03it/s]\n"
     ]
    }
   ],
   "source": [
    "#s2c(mfcc=True,lpcc=False)\n",
    "s2c(mfcc=False,lpcc=True)"
   ]
  },
  {
   "cell_type": "code",
   "execution_count": null,
   "metadata": {},
   "outputs": [],
   "source": []
  },
  {
   "cell_type": "markdown",
   "metadata": {},
   "source": [
    "# Preprocessing :"
   ]
  },
  {
   "cell_type": "code",
   "execution_count": 5,
   "metadata": {},
   "outputs": [],
   "source": [
    "import pandas as pd\n",
    "from sklearn import datasets, linear_model\n",
    "from sklearn.model_selection import train_test_split\n",
    "from matplotlib import pyplot as plt"
   ]
  },
  {
   "cell_type": "code",
   "execution_count": 6,
   "metadata": {},
   "outputs": [],
   "source": [
    "import pandas\n",
    "result = pandas.read_csv('people.csv')"
   ]
  },
  {
   "cell_type": "code",
   "execution_count": 20,
   "metadata": {},
   "outputs": [],
   "source": [
    "data=result.drop(['1272'],axis=1)\n",
    "y=result['1272']"
   ]
  },
  {
   "cell_type": "code",
   "execution_count": 23,
   "metadata": {},
   "outputs": [],
   "source": [
    "X_train, X_test, y_train, y_test =train_test_split(data, y, test_size=0.3,random_state=0, stratify=y)"
   ]
  },
  {
   "cell_type": "code",
   "execution_count": 25,
   "metadata": {},
   "outputs": [
    {
     "name": "stdout",
     "output_type": "stream",
     "text": [
      "(1353544, 20) (1353544,)\n",
      "(580091, 20) (580091,)\n"
     ]
    }
   ],
   "source": [
    "print(X_train.shape,y_train.shape)\n",
    "print(X_test.shape,y_test.shape)"
   ]
  },
  {
   "cell_type": "code",
   "execution_count": 2,
   "metadata": {},
   "outputs": [],
   "source": [
    "print(x_train.shape,y_train.shape)"
   ]
  },
  {
   "cell_type": "code",
   "execution_count": 27,
   "metadata": {},
   "outputs": [],
   "source": [
    "#DataFlair - Initialize the Multi Layer Perceptron Classifier\n",
    "from sklearn.neural_network import MLPClassifier,MLPRegressor\n",
    "from sklearn.metrics import accuracy_score\n",
    "model=MLPClassifier(alpha=0.01, batch_size=256, epsilon=1e-08, \n",
    "                    hidden_layer_sizes=(300,), learning_rate='adaptive', max_iter=500)"
   ]
  },
  {
   "cell_type": "code",
   "execution_count": null,
   "metadata": {},
   "outputs": [],
   "source": [
    "#DataFlair - Train the model\n",
    "model.fit(X_train,y_train)\n",
    "#model1.fit(x_train,y_train)"
   ]
  },
  {
   "cell_type": "code",
   "execution_count": null,
   "metadata": {},
   "outputs": [],
   "source": [
    "y_pred=model.predict(X_test)"
   ]
  },
  {
   "cell_type": "code",
   "execution_count": null,
   "metadata": {},
   "outputs": [],
   "source": [
    "#DataFlair - Calculate the accuracy of our model\n",
    "accuracy=accuracy_score(y_true=y_test, y_pred=y_pred)\n",
    "#DataFlair - Print the accuracy\n",
    "print(\"Accuracy: {:.2f}%\".format(accuracy*100))"
   ]
  },
  {
   "cell_type": "code",
   "execution_count": null,
   "metadata": {},
   "outputs": [],
   "source": []
  },
  {
   "cell_type": "markdown",
   "metadata": {
    "colab_type": "text",
    "id": "CvS3oYD9ghtE"
   },
   "source": [
    "# Test :"
   ]
  },
  {
   "cell_type": "code",
   "execution_count": 29,
   "metadata": {
    "colab": {},
    "colab_type": "code",
    "id": "WPEm6-dVghtG"
   },
   "outputs": [],
   "source": [
    "from spafe.utils.preprocessing import zero_handling\n",
    "from spafe.features.lpc import lpc\n",
    "#sig,fs=librosa.load()\n",
    "with soundfile.SoundFile('E:\\\\dataset\\\\LibriSpeech\\\\dev-clean\\\\251\\\\137823\\\\251-137823-0000.flac') as sound_file:\n",
    "                sig = sound_file.read(dtype=\"float32\")\n",
    "                sr=sound_file.samplerate\n",
    "\n",
    "k  = lpcc_(sig,sr)\n"
   ]
  },
  {
   "cell_type": "code",
   "execution_count": 30,
   "metadata": {
    "colab": {
     "base_uri": "https://localhost:8080/",
     "height": 34
    },
    "colab_type": "code",
    "id": "g21STaPaghtN",
    "outputId": "98fd6a68-3997-45cb-cb93-89bc0c52af50"
   },
   "outputs": [
    {
     "ename": "AttributeError",
     "evalue": "'NoneType' object has no attribute 'shape'",
     "output_type": "error",
     "traceback": [
      "\u001b[1;31m---------------------------------------------------------------------------\u001b[0m",
      "\u001b[1;31mAttributeError\u001b[0m                            Traceback (most recent call last)",
      "\u001b[1;32m<ipython-input-30-7e12a296fb03>\u001b[0m in \u001b[0;36m<module>\u001b[1;34m\u001b[0m\n\u001b[1;32m----> 1\u001b[1;33m \u001b[0mk\u001b[0m\u001b[1;33m.\u001b[0m\u001b[0mshape\u001b[0m\u001b[1;33m\u001b[0m\u001b[1;33m\u001b[0m\u001b[0m\n\u001b[0m",
      "\u001b[1;31mAttributeError\u001b[0m: 'NoneType' object has no attribute 'shape'"
     ]
    }
   ],
   "source": [
    "k.shape"
   ]
  },
  {
   "cell_type": "code",
   "execution_count": 26,
   "metadata": {
    "colab": {},
    "colab_type": "code",
    "id": "pRBKF-oughtX"
   },
   "outputs": [
    {
     "data": {
      "text/plain": [
       "349"
      ]
     },
     "execution_count": 26,
     "metadata": {},
     "output_type": "execute_result"
    }
   ],
   "source": [
    "len(k)"
   ]
  },
  {
   "cell_type": "code",
   "execution_count": null,
   "metadata": {},
   "outputs": [],
   "source": []
  }
 ],
 "metadata": {
  "colab": {
   "collapsed_sections": [],
   "name": "Project.ipynb",
   "provenance": []
  },
  "kernelspec": {
   "display_name": "Python 3",
   "language": "python",
   "name": "python3"
  },
  "language_info": {
   "codemirror_mode": {
    "name": "ipython",
    "version": 3
   },
   "file_extension": ".py",
   "mimetype": "text/x-python",
   "name": "python",
   "nbconvert_exporter": "python",
   "pygments_lexer": "ipython3",
   "version": "3.7.1"
  }
 },
 "nbformat": 4,
 "nbformat_minor": 2
}
